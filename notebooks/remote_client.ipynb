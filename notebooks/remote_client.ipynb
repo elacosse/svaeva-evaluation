{
 "cells": [
  {
   "cell_type": "code",
   "execution_count": 61,
   "metadata": {},
   "outputs": [
    {
     "name": "stdout",
     "output_type": "stream",
     "text": [
      "env: REDIS_OM_URL=redis://10.0.1.6:6379/0\n",
      "env: REDIS_HOST=10.0.1.6\n",
      "env: REDIS_PORT=6379\n",
      "env: LANGSERVE_URL=http://10.0.1.6:8000/\n"
     ]
    }
   ],
   "source": [
    "import uuid\n",
    "from langserve import RemoteRunnable\n",
    "\n",
    "import os\n",
    "import sys\n",
    "\n",
    "%env REDIS_OM_URL=redis://10.0.1.6:6379/0\n",
    "%env REDIS_HOST=10.0.1.6\n",
    "%env REDIS_PORT=6379\n",
    "%env LANGSERVE_URL=http://10.0.1.6:8000/\n",
    "\n",
    "\n",
    "platform_id=\"svaeva-redux\"\n",
    "group_id=\"consonancia\"\n",
    "conversation_id=\"sim-consonancia\"\n",
    "interaction_count=0"
   ]
  },
  {
   "cell_type": "code",
   "execution_count": 62,
   "metadata": {},
   "outputs": [
    {
     "ename": "ConnectionError",
     "evalue": "Error while reading from 10.0.1.6:6379 : (54, 'Connection reset by peer')",
     "output_type": "error",
     "traceback": [
      "\u001b[0;31m---------------------------------------------------------------------------\u001b[0m",
      "\u001b[0;31mConnectionResetError\u001b[0m                      Traceback (most recent call last)",
      "File \u001b[0;32m~/Library/Caches/pypoetry/virtualenvs/svaeva-evaluation-GkJecWxE-py3.11/lib/python3.11/site-packages/redis/connection.py:512\u001b[0m, in \u001b[0;36mAbstractConnection.read_response\u001b[0;34m(self, disable_decoding, disconnect_on_error, push_request)\u001b[0m\n\u001b[1;32m    511\u001b[0m     \u001b[38;5;28;01melse\u001b[39;00m:\n\u001b[0;32m--> 512\u001b[0m         response \u001b[38;5;241m=\u001b[39m \u001b[38;5;28;43mself\u001b[39;49m\u001b[38;5;241;43m.\u001b[39;49m\u001b[43m_parser\u001b[49m\u001b[38;5;241;43m.\u001b[39;49m\u001b[43mread_response\u001b[49m\u001b[43m(\u001b[49m\u001b[43mdisable_decoding\u001b[49m\u001b[38;5;241;43m=\u001b[39;49m\u001b[43mdisable_decoding\u001b[49m\u001b[43m)\u001b[49m\n\u001b[1;32m    513\u001b[0m \u001b[38;5;28;01mexcept\u001b[39;00m socket\u001b[38;5;241m.\u001b[39mtimeout:\n",
      "File \u001b[0;32m~/Library/Caches/pypoetry/virtualenvs/svaeva-evaluation-GkJecWxE-py3.11/lib/python3.11/site-packages/redis/_parsers/hiredis.py:124\u001b[0m, in \u001b[0;36m_HiredisParser.read_response\u001b[0;34m(self, disable_decoding)\u001b[0m\n\u001b[1;32m    123\u001b[0m \u001b[38;5;28;01mwhile\u001b[39;00m response \u001b[38;5;129;01mis\u001b[39;00m \u001b[38;5;28;01mFalse\u001b[39;00m:\n\u001b[0;32m--> 124\u001b[0m     \u001b[38;5;28;43mself\u001b[39;49m\u001b[38;5;241;43m.\u001b[39;49m\u001b[43mread_from_socket\u001b[49m\u001b[43m(\u001b[49m\u001b[43m)\u001b[49m\n\u001b[1;32m    125\u001b[0m     \u001b[38;5;28;01mif\u001b[39;00m disable_decoding:\n",
      "File \u001b[0;32m~/Library/Caches/pypoetry/virtualenvs/svaeva-evaluation-GkJecWxE-py3.11/lib/python3.11/site-packages/redis/_parsers/hiredis.py:84\u001b[0m, in \u001b[0;36m_HiredisParser.read_from_socket\u001b[0;34m(self, timeout, raise_on_timeout)\u001b[0m\n\u001b[1;32m     83\u001b[0m     sock\u001b[38;5;241m.\u001b[39msettimeout(timeout)\n\u001b[0;32m---> 84\u001b[0m bufflen \u001b[38;5;241m=\u001b[39m \u001b[38;5;28;43mself\u001b[39;49m\u001b[38;5;241;43m.\u001b[39;49m\u001b[43m_sock\u001b[49m\u001b[38;5;241;43m.\u001b[39;49m\u001b[43mrecv_into\u001b[49m\u001b[43m(\u001b[49m\u001b[38;5;28;43mself\u001b[39;49m\u001b[38;5;241;43m.\u001b[39;49m\u001b[43m_buffer\u001b[49m\u001b[43m)\u001b[49m\n\u001b[1;32m     85\u001b[0m \u001b[38;5;28;01mif\u001b[39;00m bufflen \u001b[38;5;241m==\u001b[39m \u001b[38;5;241m0\u001b[39m:\n",
      "\u001b[0;31mConnectionResetError\u001b[0m: [Errno 54] Connection reset by peer",
      "\nDuring handling of the above exception, another exception occurred:\n",
      "\u001b[0;31mConnectionError\u001b[0m                           Traceback (most recent call last)",
      "Cell \u001b[0;32mIn[62], line 7\u001b[0m\n\u001b[1;32m      1\u001b[0m \u001b[38;5;28;01mfrom\u001b[39;00m \u001b[38;5;21;01msvaeva_redux\u001b[39;00m\u001b[38;5;21;01m.\u001b[39;00m\u001b[38;5;21;01mschemas\u001b[39;00m\u001b[38;5;21;01m.\u001b[39;00m\u001b[38;5;21;01mredis\u001b[39;00m \u001b[38;5;28;01mimport\u001b[39;00m UserModel\n\u001b[1;32m      3\u001b[0m users \u001b[38;5;241m=\u001b[39m \u001b[43mUserModel\u001b[49m\u001b[38;5;241;43m.\u001b[39;49m\u001b[43mfind\u001b[49m\u001b[43m(\u001b[49m\n\u001b[1;32m      4\u001b[0m \u001b[43m    \u001b[49m\u001b[43m(\u001b[49m\u001b[43mUserModel\u001b[49m\u001b[38;5;241;43m.\u001b[39;49m\u001b[43mgroup_id\u001b[49m\u001b[43m \u001b[49m\u001b[38;5;241;43m==\u001b[39;49m\u001b[43m \u001b[49m\u001b[43mgroup_id\u001b[49m\u001b[43m)\u001b[49m\n\u001b[1;32m      5\u001b[0m \u001b[43m    \u001b[49m\u001b[38;5;241;43m&\u001b[39;49m\u001b[43m \u001b[49m\u001b[43m(\u001b[49m\u001b[43mUserModel\u001b[49m\u001b[38;5;241;43m.\u001b[39;49m\u001b[43mplatform_id\u001b[49m\u001b[43m \u001b[49m\u001b[38;5;241;43m==\u001b[39;49m\u001b[43m \u001b[49m\u001b[43mplatform_id\u001b[49m\u001b[43m)\u001b[49m\n\u001b[1;32m      6\u001b[0m \u001b[43m    \u001b[49m\u001b[38;5;241;43m&\u001b[39;49m\u001b[43m \u001b[49m\u001b[43m(\u001b[49m\u001b[43mUserModel\u001b[49m\u001b[38;5;241;43m.\u001b[39;49m\u001b[43minteraction_count\u001b[49m\u001b[43m \u001b[49m\u001b[38;5;241;43m>\u001b[39;49m\u001b[38;5;241;43m=\u001b[39;49m\u001b[43m \u001b[49m\u001b[43minteraction_count\u001b[49m\u001b[43m)\u001b[49m\n\u001b[0;32m----> 7\u001b[0m \u001b[43m)\u001b[49m\u001b[38;5;241;43m.\u001b[39;49m\u001b[43mall\u001b[49m\u001b[43m(\u001b[49m\u001b[43m)\u001b[49m\n",
      "File \u001b[0;32m~/Library/Caches/pypoetry/virtualenvs/svaeva-evaluation-GkJecWxE-py3.11/lib/python3.11/site-packages/redis_om/model/model.py:858\u001b[0m, in \u001b[0;36mFindQuery.all\u001b[0;34m(self, batch_size)\u001b[0m\n\u001b[1;32m    856\u001b[0m     query \u001b[38;5;241m=\u001b[39m \u001b[38;5;28mself\u001b[39m\u001b[38;5;241m.\u001b[39mcopy(page_size\u001b[38;5;241m=\u001b[39mbatch_size, limit\u001b[38;5;241m=\u001b[39mbatch_size)\n\u001b[1;32m    857\u001b[0m     \u001b[38;5;28;01mreturn\u001b[39;00m query\u001b[38;5;241m.\u001b[39mexecute()\n\u001b[0;32m--> 858\u001b[0m \u001b[38;5;28;01mreturn\u001b[39;00m \u001b[38;5;28;43mself\u001b[39;49m\u001b[38;5;241;43m.\u001b[39;49m\u001b[43mexecute\u001b[49m\u001b[43m(\u001b[49m\u001b[43m)\u001b[49m\n",
      "File \u001b[0;32m~/Library/Caches/pypoetry/virtualenvs/svaeva-evaluation-GkJecWxE-py3.11/lib/python3.11/site-packages/redis_om/model/model.py:815\u001b[0m, in \u001b[0;36mFindQuery.execute\u001b[0;34m(self, exhaust_results, return_raw_result)\u001b[0m\n\u001b[1;32m    811\u001b[0m     \u001b[38;5;28mself\u001b[39m\u001b[38;5;241m.\u001b[39m_model_cache\u001b[38;5;241m.\u001b[39mclear()\n\u001b[1;32m    813\u001b[0m \u001b[38;5;66;03m# If the offset is greater than 0, we're paginating through a result set,\u001b[39;00m\n\u001b[1;32m    814\u001b[0m \u001b[38;5;66;03m# so append the new results to results already in the cache.\u001b[39;00m\n\u001b[0;32m--> 815\u001b[0m raw_result \u001b[38;5;241m=\u001b[39m \u001b[38;5;28;43mself\u001b[39;49m\u001b[38;5;241;43m.\u001b[39;49m\u001b[43mmodel\u001b[49m\u001b[38;5;241;43m.\u001b[39;49m\u001b[43mdb\u001b[49m\u001b[43m(\u001b[49m\u001b[43m)\u001b[49m\u001b[38;5;241;43m.\u001b[39;49m\u001b[43mexecute_command\u001b[49m\u001b[43m(\u001b[49m\u001b[38;5;241;43m*\u001b[39;49m\u001b[43margs\u001b[49m\u001b[43m)\u001b[49m\n\u001b[1;32m    816\u001b[0m \u001b[38;5;28;01mif\u001b[39;00m return_raw_result:\n\u001b[1;32m    817\u001b[0m     \u001b[38;5;28;01mreturn\u001b[39;00m raw_result\n",
      "File \u001b[0;32m~/Library/Caches/pypoetry/virtualenvs/svaeva-evaluation-GkJecWxE-py3.11/lib/python3.11/site-packages/redis/client.py:543\u001b[0m, in \u001b[0;36mRedis.execute_command\u001b[0;34m(self, *args, **options)\u001b[0m\n\u001b[1;32m    540\u001b[0m conn \u001b[38;5;241m=\u001b[39m \u001b[38;5;28mself\u001b[39m\u001b[38;5;241m.\u001b[39mconnection \u001b[38;5;129;01mor\u001b[39;00m pool\u001b[38;5;241m.\u001b[39mget_connection(command_name, \u001b[38;5;241m*\u001b[39m\u001b[38;5;241m*\u001b[39moptions)\n\u001b[1;32m    542\u001b[0m \u001b[38;5;28;01mtry\u001b[39;00m:\n\u001b[0;32m--> 543\u001b[0m     \u001b[38;5;28;01mreturn\u001b[39;00m \u001b[43mconn\u001b[49m\u001b[38;5;241;43m.\u001b[39;49m\u001b[43mretry\u001b[49m\u001b[38;5;241;43m.\u001b[39;49m\u001b[43mcall_with_retry\u001b[49m\u001b[43m(\u001b[49m\n\u001b[1;32m    544\u001b[0m \u001b[43m        \u001b[49m\u001b[38;5;28;43;01mlambda\u001b[39;49;00m\u001b[43m:\u001b[49m\u001b[43m \u001b[49m\u001b[38;5;28;43mself\u001b[39;49m\u001b[38;5;241;43m.\u001b[39;49m\u001b[43m_send_command_parse_response\u001b[49m\u001b[43m(\u001b[49m\n\u001b[1;32m    545\u001b[0m \u001b[43m            \u001b[49m\u001b[43mconn\u001b[49m\u001b[43m,\u001b[49m\u001b[43m \u001b[49m\u001b[43mcommand_name\u001b[49m\u001b[43m,\u001b[49m\u001b[43m \u001b[49m\u001b[38;5;241;43m*\u001b[39;49m\u001b[43margs\u001b[49m\u001b[43m,\u001b[49m\u001b[43m \u001b[49m\u001b[38;5;241;43m*\u001b[39;49m\u001b[38;5;241;43m*\u001b[39;49m\u001b[43moptions\u001b[49m\n\u001b[1;32m    546\u001b[0m \u001b[43m        \u001b[49m\u001b[43m)\u001b[49m\u001b[43m,\u001b[49m\n\u001b[1;32m    547\u001b[0m \u001b[43m        \u001b[49m\u001b[38;5;28;43;01mlambda\u001b[39;49;00m\u001b[43m \u001b[49m\u001b[43merror\u001b[49m\u001b[43m:\u001b[49m\u001b[43m \u001b[49m\u001b[38;5;28;43mself\u001b[39;49m\u001b[38;5;241;43m.\u001b[39;49m\u001b[43m_disconnect_raise\u001b[49m\u001b[43m(\u001b[49m\u001b[43mconn\u001b[49m\u001b[43m,\u001b[49m\u001b[43m \u001b[49m\u001b[43merror\u001b[49m\u001b[43m)\u001b[49m\u001b[43m,\u001b[49m\n\u001b[1;32m    548\u001b[0m \u001b[43m    \u001b[49m\u001b[43m)\u001b[49m\n\u001b[1;32m    549\u001b[0m \u001b[38;5;28;01mfinally\u001b[39;00m:\n\u001b[1;32m    550\u001b[0m     \u001b[38;5;28;01mif\u001b[39;00m \u001b[38;5;129;01mnot\u001b[39;00m \u001b[38;5;28mself\u001b[39m\u001b[38;5;241m.\u001b[39mconnection:\n",
      "File \u001b[0;32m~/Library/Caches/pypoetry/virtualenvs/svaeva-evaluation-GkJecWxE-py3.11/lib/python3.11/site-packages/redis/retry.py:49\u001b[0m, in \u001b[0;36mRetry.call_with_retry\u001b[0;34m(self, do, fail)\u001b[0m\n\u001b[1;32m     47\u001b[0m \u001b[38;5;28;01mexcept\u001b[39;00m \u001b[38;5;28mself\u001b[39m\u001b[38;5;241m.\u001b[39m_supported_errors \u001b[38;5;28;01mas\u001b[39;00m error:\n\u001b[1;32m     48\u001b[0m     failures \u001b[38;5;241m+\u001b[39m\u001b[38;5;241m=\u001b[39m \u001b[38;5;241m1\u001b[39m\n\u001b[0;32m---> 49\u001b[0m     \u001b[43mfail\u001b[49m\u001b[43m(\u001b[49m\u001b[43merror\u001b[49m\u001b[43m)\u001b[49m\n\u001b[1;32m     50\u001b[0m     \u001b[38;5;28;01mif\u001b[39;00m \u001b[38;5;28mself\u001b[39m\u001b[38;5;241m.\u001b[39m_retries \u001b[38;5;241m>\u001b[39m\u001b[38;5;241m=\u001b[39m \u001b[38;5;241m0\u001b[39m \u001b[38;5;129;01mand\u001b[39;00m failures \u001b[38;5;241m>\u001b[39m \u001b[38;5;28mself\u001b[39m\u001b[38;5;241m.\u001b[39m_retries:\n\u001b[1;32m     51\u001b[0m         \u001b[38;5;28;01mraise\u001b[39;00m error\n",
      "File \u001b[0;32m~/Library/Caches/pypoetry/virtualenvs/svaeva-evaluation-GkJecWxE-py3.11/lib/python3.11/site-packages/redis/client.py:547\u001b[0m, in \u001b[0;36mRedis.execute_command.<locals>.<lambda>\u001b[0;34m(error)\u001b[0m\n\u001b[1;32m    540\u001b[0m conn \u001b[38;5;241m=\u001b[39m \u001b[38;5;28mself\u001b[39m\u001b[38;5;241m.\u001b[39mconnection \u001b[38;5;129;01mor\u001b[39;00m pool\u001b[38;5;241m.\u001b[39mget_connection(command_name, \u001b[38;5;241m*\u001b[39m\u001b[38;5;241m*\u001b[39moptions)\n\u001b[1;32m    542\u001b[0m \u001b[38;5;28;01mtry\u001b[39;00m:\n\u001b[1;32m    543\u001b[0m     \u001b[38;5;28;01mreturn\u001b[39;00m conn\u001b[38;5;241m.\u001b[39mretry\u001b[38;5;241m.\u001b[39mcall_with_retry(\n\u001b[1;32m    544\u001b[0m         \u001b[38;5;28;01mlambda\u001b[39;00m: \u001b[38;5;28mself\u001b[39m\u001b[38;5;241m.\u001b[39m_send_command_parse_response(\n\u001b[1;32m    545\u001b[0m             conn, command_name, \u001b[38;5;241m*\u001b[39margs, \u001b[38;5;241m*\u001b[39m\u001b[38;5;241m*\u001b[39moptions\n\u001b[1;32m    546\u001b[0m         ),\n\u001b[0;32m--> 547\u001b[0m         \u001b[38;5;28;01mlambda\u001b[39;00m error: \u001b[38;5;28;43mself\u001b[39;49m\u001b[38;5;241;43m.\u001b[39;49m\u001b[43m_disconnect_raise\u001b[49m\u001b[43m(\u001b[49m\u001b[43mconn\u001b[49m\u001b[43m,\u001b[49m\u001b[43m \u001b[49m\u001b[43merror\u001b[49m\u001b[43m)\u001b[49m,\n\u001b[1;32m    548\u001b[0m     )\n\u001b[1;32m    549\u001b[0m \u001b[38;5;28;01mfinally\u001b[39;00m:\n\u001b[1;32m    550\u001b[0m     \u001b[38;5;28;01mif\u001b[39;00m \u001b[38;5;129;01mnot\u001b[39;00m \u001b[38;5;28mself\u001b[39m\u001b[38;5;241m.\u001b[39mconnection:\n",
      "File \u001b[0;32m~/Library/Caches/pypoetry/virtualenvs/svaeva-evaluation-GkJecWxE-py3.11/lib/python3.11/site-packages/redis/client.py:533\u001b[0m, in \u001b[0;36mRedis._disconnect_raise\u001b[0;34m(self, conn, error)\u001b[0m\n\u001b[1;32m    528\u001b[0m conn\u001b[38;5;241m.\u001b[39mdisconnect()\n\u001b[1;32m    529\u001b[0m \u001b[38;5;28;01mif\u001b[39;00m (\n\u001b[1;32m    530\u001b[0m     conn\u001b[38;5;241m.\u001b[39mretry_on_error \u001b[38;5;129;01mis\u001b[39;00m \u001b[38;5;28;01mNone\u001b[39;00m\n\u001b[1;32m    531\u001b[0m     \u001b[38;5;129;01mor\u001b[39;00m \u001b[38;5;28misinstance\u001b[39m(error, \u001b[38;5;28mtuple\u001b[39m(conn\u001b[38;5;241m.\u001b[39mretry_on_error)) \u001b[38;5;129;01mis\u001b[39;00m \u001b[38;5;28;01mFalse\u001b[39;00m\n\u001b[1;32m    532\u001b[0m ):\n\u001b[0;32m--> 533\u001b[0m     \u001b[38;5;28;01mraise\u001b[39;00m error\n",
      "File \u001b[0;32m~/Library/Caches/pypoetry/virtualenvs/svaeva-evaluation-GkJecWxE-py3.11/lib/python3.11/site-packages/redis/retry.py:46\u001b[0m, in \u001b[0;36mRetry.call_with_retry\u001b[0;34m(self, do, fail)\u001b[0m\n\u001b[1;32m     44\u001b[0m \u001b[38;5;28;01mwhile\u001b[39;00m \u001b[38;5;28;01mTrue\u001b[39;00m:\n\u001b[1;32m     45\u001b[0m     \u001b[38;5;28;01mtry\u001b[39;00m:\n\u001b[0;32m---> 46\u001b[0m         \u001b[38;5;28;01mreturn\u001b[39;00m \u001b[43mdo\u001b[49m\u001b[43m(\u001b[49m\u001b[43m)\u001b[49m\n\u001b[1;32m     47\u001b[0m     \u001b[38;5;28;01mexcept\u001b[39;00m \u001b[38;5;28mself\u001b[39m\u001b[38;5;241m.\u001b[39m_supported_errors \u001b[38;5;28;01mas\u001b[39;00m error:\n\u001b[1;32m     48\u001b[0m         failures \u001b[38;5;241m+\u001b[39m\u001b[38;5;241m=\u001b[39m \u001b[38;5;241m1\u001b[39m\n",
      "File \u001b[0;32m~/Library/Caches/pypoetry/virtualenvs/svaeva-evaluation-GkJecWxE-py3.11/lib/python3.11/site-packages/redis/client.py:544\u001b[0m, in \u001b[0;36mRedis.execute_command.<locals>.<lambda>\u001b[0;34m()\u001b[0m\n\u001b[1;32m    540\u001b[0m conn \u001b[38;5;241m=\u001b[39m \u001b[38;5;28mself\u001b[39m\u001b[38;5;241m.\u001b[39mconnection \u001b[38;5;129;01mor\u001b[39;00m pool\u001b[38;5;241m.\u001b[39mget_connection(command_name, \u001b[38;5;241m*\u001b[39m\u001b[38;5;241m*\u001b[39moptions)\n\u001b[1;32m    542\u001b[0m \u001b[38;5;28;01mtry\u001b[39;00m:\n\u001b[1;32m    543\u001b[0m     \u001b[38;5;28;01mreturn\u001b[39;00m conn\u001b[38;5;241m.\u001b[39mretry\u001b[38;5;241m.\u001b[39mcall_with_retry(\n\u001b[0;32m--> 544\u001b[0m         \u001b[38;5;28;01mlambda\u001b[39;00m: \u001b[38;5;28;43mself\u001b[39;49m\u001b[38;5;241;43m.\u001b[39;49m\u001b[43m_send_command_parse_response\u001b[49m\u001b[43m(\u001b[49m\n\u001b[1;32m    545\u001b[0m \u001b[43m            \u001b[49m\u001b[43mconn\u001b[49m\u001b[43m,\u001b[49m\u001b[43m \u001b[49m\u001b[43mcommand_name\u001b[49m\u001b[43m,\u001b[49m\u001b[43m \u001b[49m\u001b[38;5;241;43m*\u001b[39;49m\u001b[43margs\u001b[49m\u001b[43m,\u001b[49m\u001b[43m \u001b[49m\u001b[38;5;241;43m*\u001b[39;49m\u001b[38;5;241;43m*\u001b[39;49m\u001b[43moptions\u001b[49m\n\u001b[1;32m    546\u001b[0m \u001b[43m        \u001b[49m\u001b[43m)\u001b[49m,\n\u001b[1;32m    547\u001b[0m         \u001b[38;5;28;01mlambda\u001b[39;00m error: \u001b[38;5;28mself\u001b[39m\u001b[38;5;241m.\u001b[39m_disconnect_raise(conn, error),\n\u001b[1;32m    548\u001b[0m     )\n\u001b[1;32m    549\u001b[0m \u001b[38;5;28;01mfinally\u001b[39;00m:\n\u001b[1;32m    550\u001b[0m     \u001b[38;5;28;01mif\u001b[39;00m \u001b[38;5;129;01mnot\u001b[39;00m \u001b[38;5;28mself\u001b[39m\u001b[38;5;241m.\u001b[39mconnection:\n",
      "File \u001b[0;32m~/Library/Caches/pypoetry/virtualenvs/svaeva-evaluation-GkJecWxE-py3.11/lib/python3.11/site-packages/redis/client.py:520\u001b[0m, in \u001b[0;36mRedis._send_command_parse_response\u001b[0;34m(self, conn, command_name, *args, **options)\u001b[0m\n\u001b[1;32m    516\u001b[0m \u001b[38;5;250m\u001b[39m\u001b[38;5;124;03m\"\"\"\u001b[39;00m\n\u001b[1;32m    517\u001b[0m \u001b[38;5;124;03mSend a command and parse the response\u001b[39;00m\n\u001b[1;32m    518\u001b[0m \u001b[38;5;124;03m\"\"\"\u001b[39;00m\n\u001b[1;32m    519\u001b[0m conn\u001b[38;5;241m.\u001b[39msend_command(\u001b[38;5;241m*\u001b[39margs)\n\u001b[0;32m--> 520\u001b[0m \u001b[38;5;28;01mreturn\u001b[39;00m \u001b[38;5;28;43mself\u001b[39;49m\u001b[38;5;241;43m.\u001b[39;49m\u001b[43mparse_response\u001b[49m\u001b[43m(\u001b[49m\u001b[43mconn\u001b[49m\u001b[43m,\u001b[49m\u001b[43m \u001b[49m\u001b[43mcommand_name\u001b[49m\u001b[43m,\u001b[49m\u001b[43m \u001b[49m\u001b[38;5;241;43m*\u001b[39;49m\u001b[38;5;241;43m*\u001b[39;49m\u001b[43moptions\u001b[49m\u001b[43m)\u001b[49m\n",
      "File \u001b[0;32m~/Library/Caches/pypoetry/virtualenvs/svaeva-evaluation-GkJecWxE-py3.11/lib/python3.11/site-packages/redis/client.py:560\u001b[0m, in \u001b[0;36mRedis.parse_response\u001b[0;34m(self, connection, command_name, **options)\u001b[0m\n\u001b[1;32m    558\u001b[0m         options\u001b[38;5;241m.\u001b[39mpop(NEVER_DECODE)\n\u001b[1;32m    559\u001b[0m     \u001b[38;5;28;01melse\u001b[39;00m:\n\u001b[0;32m--> 560\u001b[0m         response \u001b[38;5;241m=\u001b[39m \u001b[43mconnection\u001b[49m\u001b[38;5;241;43m.\u001b[39;49m\u001b[43mread_response\u001b[49m\u001b[43m(\u001b[49m\u001b[43m)\u001b[49m\n\u001b[1;32m    561\u001b[0m \u001b[38;5;28;01mexcept\u001b[39;00m ResponseError:\n\u001b[1;32m    562\u001b[0m     \u001b[38;5;28;01mif\u001b[39;00m EMPTY_RESPONSE \u001b[38;5;129;01min\u001b[39;00m options:\n",
      "File \u001b[0;32m~/Library/Caches/pypoetry/virtualenvs/svaeva-evaluation-GkJecWxE-py3.11/lib/python3.11/site-packages/redis/connection.py:520\u001b[0m, in \u001b[0;36mAbstractConnection.read_response\u001b[0;34m(self, disable_decoding, disconnect_on_error, push_request)\u001b[0m\n\u001b[1;32m    518\u001b[0m     \u001b[38;5;28;01mif\u001b[39;00m disconnect_on_error:\n\u001b[1;32m    519\u001b[0m         \u001b[38;5;28mself\u001b[39m\u001b[38;5;241m.\u001b[39mdisconnect()\n\u001b[0;32m--> 520\u001b[0m     \u001b[38;5;28;01mraise\u001b[39;00m \u001b[38;5;167;01mConnectionError\u001b[39;00m(\n\u001b[1;32m    521\u001b[0m         \u001b[38;5;124mf\u001b[39m\u001b[38;5;124m\"\u001b[39m\u001b[38;5;124mError while reading from \u001b[39m\u001b[38;5;132;01m{\u001b[39;00mhost_error\u001b[38;5;132;01m}\u001b[39;00m\u001b[38;5;124m\"\u001b[39m \u001b[38;5;124mf\u001b[39m\u001b[38;5;124m\"\u001b[39m\u001b[38;5;124m : \u001b[39m\u001b[38;5;132;01m{\u001b[39;00me\u001b[38;5;241m.\u001b[39margs\u001b[38;5;132;01m}\u001b[39;00m\u001b[38;5;124m\"\u001b[39m\n\u001b[1;32m    522\u001b[0m     )\n\u001b[1;32m    523\u001b[0m \u001b[38;5;28;01mexcept\u001b[39;00m \u001b[38;5;167;01mBaseException\u001b[39;00m:\n\u001b[1;32m    524\u001b[0m     \u001b[38;5;66;03m# Also by default close in case of BaseException.  A lot of code\u001b[39;00m\n\u001b[1;32m    525\u001b[0m     \u001b[38;5;66;03m# relies on this behaviour when doing Command/Response pairs.\u001b[39;00m\n\u001b[1;32m    526\u001b[0m     \u001b[38;5;66;03m# See #1128.\u001b[39;00m\n\u001b[1;32m    527\u001b[0m     \u001b[38;5;28;01mif\u001b[39;00m disconnect_on_error:\n",
      "\u001b[0;31mConnectionError\u001b[0m: Error while reading from 10.0.1.6:6379 : (54, 'Connection reset by peer')"
     ]
    }
   ],
   "source": [
    "from svaeva_redux.schemas.redis import UserModel\n",
    "\n",
    "users = UserModel.find(\n",
    "    (UserModel.group_id == group_id)\n",
    "    & (UserModel.platform_id == platform_id)\n",
    "    & (UserModel.interaction_count >= interaction_count)\n",
    ").all()"
   ]
  },
  {
   "cell_type": "code",
   "execution_count": 63,
   "metadata": {},
   "outputs": [],
   "source": [
    "import asyncio\n",
    "import logging\n",
    "import os\n",
    "import re\n",
    "from typing import Dict, List\n",
    "import re\n",
    "import dotenv\n",
    "from openai import OpenAI\n",
    "from openai.types.images_response import ImagesResponse\n",
    "from rich.logging import RichHandler\n",
    "\n",
    "\n",
    "import base64\n",
    "import io\n",
    "import json\n",
    "import logging\n",
    "import os\n",
    "from datetime import datetime\n",
    "\n",
    "import dotenv\n",
    "import httpx\n",
    "import redis\n",
    "from fastapi import HTTPException\n",
    "\n",
    "\n",
    "def update_user_with_image(user_id):\n",
    "    user = UserModel.get(user_id)\n",
    "    model = \"gpt-4\"\n",
    "    temperature = 0.7\n",
    "    system_prompt = SYSTEM_DALLE_PROMPT\n",
    "    user_content = text\n",
    "    client = OpenAI()\n",
    "    try:\n",
    "        # Chat response for DALL-E prompt\n",
    "        response = client.chat.completions.create(\n",
    "            model=model,\n",
    "            temperature=temperature,\n",
    "            messages=[\n",
    "                {\"role\": \"system\", \"content\": system_prompt},\n",
    "                {\"role\": \"user\", \"content\": user_content},\n",
    "            ],\n",
    "        )\n",
    "        prompt = response.choices[0].message.content\n",
    "        prompt = re.sub(r'\"', \"\", prompt)\n",
    "\n",
    "        # Generate image from DALL-E prompt\n",
    "        response = client.images.generate(\n",
    "            model=\"dall-e-3\",\n",
    "            prompt=prompt,\n",
    "            size=\"1024x1024\",\n",
    "            quality=\"standard\",\n",
    "            n=1,\n",
    "        )\n",
    "\n",
    "    except Exception as e:\n",
    "        logging.error(f\"Error: {e}\")\n",
    "\n",
    "\n",
    "    image_url = response.data[0].url\n",
    "\n",
    "    try:\n",
    "        # response = requests.get(url)\n",
    "        # if response.status_code != 200:\n",
    "        #     raise HTTPException(status_code=400, detail=\"Failed to download image\")\n",
    "        client = httpx.Client() \n",
    "        response = client.get(image_url)\n",
    "        if response.status_code != 200:\n",
    "            raise HTTPException(status_code=400, detail=\"Failed to download image\")\n",
    "        # Convert the image to bytes\n",
    "        image_bytes = io.BytesIO(response.content)\n",
    "        # Encode the image bytes as a base64 string\n",
    "        image_base64 = base64.b64encode(image_bytes.getvalue()).decode(\"utf-8\")\n",
    "    except Exception as e:\n",
    "        image_base64 = \"\"\n",
    "        logging.error(f\"Error: {e}\")\n",
    "\n",
    "    user.avatar_image_prompt = prompt\n",
    "    user.avatar_image_bytes = image_base64\n",
    "    \n",
    "    \n",
    "    return user"
   ]
  },
  {
   "cell_type": "code",
   "execution_count": 66,
   "metadata": {},
   "outputs": [
    {
     "name": "stdout",
     "output_type": "stream",
     "text": [
      "chronic_hip_pain 1\n",
      "sim-consonancia-chronic_hip_pain-001\n"
     ]
    },
    {
     "data": {
      "text/html": [
       "<pre style=\"white-space:pre;overflow-x:auto;line-height:normal;font-family:Menlo,'DejaVu Sans Mono',consolas,'Courier New',monospace\"><span style=\"color: #7fbfbf; text-decoration-color: #7fbfbf\">[18:59:31] </span><span style=\"color: #000080; text-decoration-color: #000080\">INFO    </span> HTTP Request: <span style=\"color: #808000; text-decoration-color: #808000; font-weight: bold\">POST</span>                                        <a href=\"file:///Users/eric/Library/Caches/pypoetry/virtualenvs/svaeva-evaluation-GkJecWxE-py3.11/lib/python3.11/site-packages/httpx/_client.py\"><span style=\"color: #7f7f7f; text-decoration-color: #7f7f7f\">_client.py</span></a><span style=\"color: #7f7f7f; text-decoration-color: #7f7f7f\">:</span><a href=\"file:///Users/eric/Library/Caches/pypoetry/virtualenvs/svaeva-evaluation-GkJecWxE-py3.11/lib/python3.11/site-packages/httpx/_client.py#1026\"><span style=\"color: #7f7f7f; text-decoration-color: #7f7f7f\">1026</span></a>\n",
       "                    <span style=\"color: #0000ff; text-decoration-color: #0000ff; text-decoration: underline\">https://api.openai.com/v1/chat/completions</span> <span style=\"color: #008000; text-decoration-color: #008000\">\"HTTP/1.1 200 </span>                \n",
       "                    <span style=\"color: #008000; text-decoration-color: #008000\">OK\"</span>                                                                      \n",
       "</pre>\n"
      ],
      "text/plain": [
       "\u001b[2;36m[18:59:31]\u001b[0m\u001b[2;36m \u001b[0m\u001b[34mINFO    \u001b[0m HTTP Request: \u001b[1;33mPOST\u001b[0m                                        \u001b]8;id=988837;file:///Users/eric/Library/Caches/pypoetry/virtualenvs/svaeva-evaluation-GkJecWxE-py3.11/lib/python3.11/site-packages/httpx/_client.py\u001b\\\u001b[2m_client.py\u001b[0m\u001b]8;;\u001b\\\u001b[2m:\u001b[0m\u001b]8;id=452516;file:///Users/eric/Library/Caches/pypoetry/virtualenvs/svaeva-evaluation-GkJecWxE-py3.11/lib/python3.11/site-packages/httpx/_client.py#1026\u001b\\\u001b[2m1026\u001b[0m\u001b]8;;\u001b\\\n",
       "                    \u001b[4;94mhttps://api.openai.com/v1/chat/completions\u001b[0m \u001b[32m\"HTTP/1.1 200 \u001b[0m                \n",
       "                    \u001b[32mOK\"\u001b[0m                                                                      \n"
      ]
     },
     "metadata": {},
     "output_type": "display_data"
    },
    {
     "data": {
      "text/html": [
       "<pre style=\"white-space:pre;overflow-x:auto;line-height:normal;font-family:Menlo,'DejaVu Sans Mono',consolas,'Courier New',monospace\"><span style=\"color: #7fbfbf; text-decoration-color: #7fbfbf\">[18:59:45] </span><span style=\"color: #000080; text-decoration-color: #000080\">INFO    </span> HTTP Request: <span style=\"color: #808000; text-decoration-color: #808000; font-weight: bold\">POST</span>                                        <a href=\"file:///Users/eric/Library/Caches/pypoetry/virtualenvs/svaeva-evaluation-GkJecWxE-py3.11/lib/python3.11/site-packages/httpx/_client.py\"><span style=\"color: #7f7f7f; text-decoration-color: #7f7f7f\">_client.py</span></a><span style=\"color: #7f7f7f; text-decoration-color: #7f7f7f\">:</span><a href=\"file:///Users/eric/Library/Caches/pypoetry/virtualenvs/svaeva-evaluation-GkJecWxE-py3.11/lib/python3.11/site-packages/httpx/_client.py#1026\"><span style=\"color: #7f7f7f; text-decoration-color: #7f7f7f\">1026</span></a>\n",
       "                    <span style=\"color: #0000ff; text-decoration-color: #0000ff; text-decoration: underline\">https://api.openai.com/v1/images/generations</span> <span style=\"color: #008000; text-decoration-color: #008000\">\"HTTP/1.1 </span>                  \n",
       "                    <span style=\"color: #008000; text-decoration-color: #008000\">200 OK\"</span>                                                                  \n",
       "</pre>\n"
      ],
      "text/plain": [
       "\u001b[2;36m[18:59:45]\u001b[0m\u001b[2;36m \u001b[0m\u001b[34mINFO    \u001b[0m HTTP Request: \u001b[1;33mPOST\u001b[0m                                        \u001b]8;id=230704;file:///Users/eric/Library/Caches/pypoetry/virtualenvs/svaeva-evaluation-GkJecWxE-py3.11/lib/python3.11/site-packages/httpx/_client.py\u001b\\\u001b[2m_client.py\u001b[0m\u001b]8;;\u001b\\\u001b[2m:\u001b[0m\u001b]8;id=975992;file:///Users/eric/Library/Caches/pypoetry/virtualenvs/svaeva-evaluation-GkJecWxE-py3.11/lib/python3.11/site-packages/httpx/_client.py#1026\u001b\\\u001b[2m1026\u001b[0m\u001b]8;;\u001b\\\n",
       "                    \u001b[4;94mhttps://api.openai.com/v1/images/generations\u001b[0m \u001b[32m\"HTTP/1.1 \u001b[0m                  \n",
       "                    \u001b[32m200 OK\"\u001b[0m                                                                  \n"
      ]
     },
     "metadata": {},
     "output_type": "display_data"
    },
    {
     "data": {
      "text/html": [
       "<pre style=\"white-space:pre;overflow-x:auto;line-height:normal;font-family:Menlo,'DejaVu Sans Mono',consolas,'Courier New',monospace\"><span style=\"color: #7fbfbf; text-decoration-color: #7fbfbf\">[18:59:46] </span><span style=\"color: #000080; text-decoration-color: #000080\">INFO    </span> HTTP Request: <span style=\"color: #808000; text-decoration-color: #808000; font-weight: bold\">GET</span> <span style=\"color: #0000ff; text-decoration-color: #0000ff; text-decoration: underline\">https://oaidalleapiprodscus.blob.core.w</span> <a href=\"file:///Users/eric/Library/Caches/pypoetry/virtualenvs/svaeva-evaluation-GkJecWxE-py3.11/lib/python3.11/site-packages/httpx/_client.py\"><span style=\"color: #7f7f7f; text-decoration-color: #7f7f7f\">_client.py</span></a><span style=\"color: #7f7f7f; text-decoration-color: #7f7f7f\">:</span><a href=\"file:///Users/eric/Library/Caches/pypoetry/virtualenvs/svaeva-evaluation-GkJecWxE-py3.11/lib/python3.11/site-packages/httpx/_client.py#1026\"><span style=\"color: #7f7f7f; text-decoration-color: #7f7f7f\">1026</span></a>\n",
       "                    <span style=\"color: #0000ff; text-decoration-color: #0000ff; text-decoration: underline\">indows.net/private/org-77FRazywqMikL1SL1V5OQ0dm/user-gR3q</span>                \n",
       "                    <span style=\"color: #0000ff; text-decoration-color: #0000ff; text-decoration: underline\">3d0UmWWt3X6p4JlCQBwq/img-y7XD1kVF4fyYQ8rHKAK1nFvh.png?st=</span>                \n",
       "                    <span style=\"color: #0000ff; text-decoration-color: #0000ff; text-decoration: underline\">2024-05-01T16%3A59%3A45Z&amp;se=2024-05-01T18%3A59%3A45Z&amp;sp=r</span>                \n",
       "                    <span style=\"color: #0000ff; text-decoration-color: #0000ff; text-decoration: underline\">&amp;sv=2021-08-06&amp;sr=b&amp;rscd=inline&amp;rsct=image/png&amp;skoid=6aaa</span>                \n",
       "                    <span style=\"color: #0000ff; text-decoration-color: #0000ff; text-decoration: underline\">dede-4fb3-4698-a8f6-684d7786b067&amp;sktid=a48cca56-e6da-484e</span>                \n",
       "                    <span style=\"color: #0000ff; text-decoration-color: #0000ff; text-decoration: underline\">-a814-9c849652bcb3&amp;skt=2024-04-30T20%3A08%3A42Z&amp;ske=2024-</span>                \n",
       "                    <span style=\"color: #0000ff; text-decoration-color: #0000ff; text-decoration: underline\">05-01T20%3A08%3A42Z&amp;sks=b&amp;skv=2021-08-06&amp;sig=nsABi6b2ZENZ</span>                \n",
       "                    <span style=\"color: #0000ff; text-decoration-color: #0000ff; text-decoration: underline\">CVUBBYvgbdFOwZYZZq/TPwH2gbCPP3M%3D</span> <span style=\"color: #008000; text-decoration-color: #008000\">\"HTTP/1.1 200 OK\"</span>                     \n",
       "</pre>\n"
      ],
      "text/plain": [
       "\u001b[2;36m[18:59:46]\u001b[0m\u001b[2;36m \u001b[0m\u001b[34mINFO    \u001b[0m HTTP Request: \u001b[1;33mGET\u001b[0m \u001b[4;94mhttps://oaidalleapiprodscus.blob.core.w\u001b[0m \u001b]8;id=631109;file:///Users/eric/Library/Caches/pypoetry/virtualenvs/svaeva-evaluation-GkJecWxE-py3.11/lib/python3.11/site-packages/httpx/_client.py\u001b\\\u001b[2m_client.py\u001b[0m\u001b]8;;\u001b\\\u001b[2m:\u001b[0m\u001b]8;id=762600;file:///Users/eric/Library/Caches/pypoetry/virtualenvs/svaeva-evaluation-GkJecWxE-py3.11/lib/python3.11/site-packages/httpx/_client.py#1026\u001b\\\u001b[2m1026\u001b[0m\u001b]8;;\u001b\\\n",
       "                    \u001b[4;94mindows.net/private/org-77FRazywqMikL1SL1V5OQ0dm/user-gR3q\u001b[0m                \n",
       "                    \u001b[4;94m3d0UmWWt3X6p4JlCQBwq/img-y7XD1kVF4fyYQ8rHKAK1nFvh.png?\u001b[0m\u001b[4;94mst\u001b[0m\u001b[4;94m=\u001b[0m                \n",
       "                    \u001b[4;94m2024\u001b[0m\u001b[4;94m-05-01T16%3A59%3A45Z&\u001b[0m\u001b[4;94mse\u001b[0m\u001b[4;94m=\u001b[0m\u001b[4;94m2024\u001b[0m\u001b[4;94m-05-01T18%3A59%3A45Z&\u001b[0m\u001b[4;94msp\u001b[0m\u001b[4;94m=\u001b[0m\u001b[4;94mr\u001b[0m                \n",
       "                    \u001b[4;94m&\u001b[0m\u001b[4;94msv\u001b[0m\u001b[4;94m=\u001b[0m\u001b[4;94m2021\u001b[0m\u001b[4;94m-08-06&\u001b[0m\u001b[4;94msr\u001b[0m\u001b[4;94m=\u001b[0m\u001b[4;94mb\u001b[0m\u001b[4;94m&\u001b[0m\u001b[4;94mrscd\u001b[0m\u001b[4;94m=\u001b[0m\u001b[4;94minline\u001b[0m\u001b[4;94m&\u001b[0m\u001b[4;94mrsct\u001b[0m\u001b[4;94m=\u001b[0m\u001b[4;94mimage\u001b[0m\u001b[4;94m/png&\u001b[0m\u001b[4;94mskoid\u001b[0m\u001b[4;94m=\u001b[0m\u001b[4;94m6aaa\u001b[0m                \n",
       "                    \u001b[4;94mdede\u001b[0m\u001b[4;94m-4fb3-4698-a8f6-684d7786b067&\u001b[0m\u001b[4;94msktid\u001b[0m\u001b[4;94m=\u001b[0m\u001b[4;94ma48cca56\u001b[0m\u001b[4;94m-e6da-484e\u001b[0m                \n",
       "                    \u001b[4;94m-a814-9c849652bcb3&\u001b[0m\u001b[4;94mskt\u001b[0m\u001b[4;94m=\u001b[0m\u001b[4;94m2024\u001b[0m\u001b[4;94m-04-30T20%3A08%3A42Z&\u001b[0m\u001b[4;94mske\u001b[0m\u001b[4;94m=\u001b[0m\u001b[4;94m2024\u001b[0m\u001b[4;94m-\u001b[0m                \n",
       "                    \u001b[4;94m05-01T20%3A08%3A42Z&\u001b[0m\u001b[4;94msks\u001b[0m\u001b[4;94m=\u001b[0m\u001b[4;94mb\u001b[0m\u001b[4;94m&\u001b[0m\u001b[4;94mskv\u001b[0m\u001b[4;94m=\u001b[0m\u001b[4;94m2021\u001b[0m\u001b[4;94m-08-06&\u001b[0m\u001b[4;94msig\u001b[0m\u001b[4;94m=\u001b[0m\u001b[4;94mnsABi6b2ZENZ\u001b[0m                \n",
       "                    \u001b[4;94mCVUBBYvgbdFOwZYZZq\u001b[0m\u001b[4;94m/TPwH2gbCPP3M%3D\u001b[0m \u001b[32m\"HTTP/1.1 200 OK\"\u001b[0m                     \n"
      ]
     },
     "metadata": {},
     "output_type": "display_data"
    },
    {
     "name": "stdout",
     "output_type": "stream",
     "text": [
      "chronic_hip_pain 2\n",
      "sim-consonancia-chronic_hip_pain-002\n"
     ]
    },
    {
     "data": {
      "text/html": [
       "<pre style=\"white-space:pre;overflow-x:auto;line-height:normal;font-family:Menlo,'DejaVu Sans Mono',consolas,'Courier New',monospace\"><span style=\"color: #7fbfbf; text-decoration-color: #7fbfbf\">[18:59:55] </span><span style=\"color: #000080; text-decoration-color: #000080\">INFO    </span> HTTP Request: <span style=\"color: #808000; text-decoration-color: #808000; font-weight: bold\">POST</span>                                        <a href=\"file:///Users/eric/Library/Caches/pypoetry/virtualenvs/svaeva-evaluation-GkJecWxE-py3.11/lib/python3.11/site-packages/httpx/_client.py\"><span style=\"color: #7f7f7f; text-decoration-color: #7f7f7f\">_client.py</span></a><span style=\"color: #7f7f7f; text-decoration-color: #7f7f7f\">:</span><a href=\"file:///Users/eric/Library/Caches/pypoetry/virtualenvs/svaeva-evaluation-GkJecWxE-py3.11/lib/python3.11/site-packages/httpx/_client.py#1026\"><span style=\"color: #7f7f7f; text-decoration-color: #7f7f7f\">1026</span></a>\n",
       "                    <span style=\"color: #0000ff; text-decoration-color: #0000ff; text-decoration: underline\">https://api.openai.com/v1/chat/completions</span> <span style=\"color: #008000; text-decoration-color: #008000\">\"HTTP/1.1 200 </span>                \n",
       "                    <span style=\"color: #008000; text-decoration-color: #008000\">OK\"</span>                                                                      \n",
       "</pre>\n"
      ],
      "text/plain": [
       "\u001b[2;36m[18:59:55]\u001b[0m\u001b[2;36m \u001b[0m\u001b[34mINFO    \u001b[0m HTTP Request: \u001b[1;33mPOST\u001b[0m                                        \u001b]8;id=64518;file:///Users/eric/Library/Caches/pypoetry/virtualenvs/svaeva-evaluation-GkJecWxE-py3.11/lib/python3.11/site-packages/httpx/_client.py\u001b\\\u001b[2m_client.py\u001b[0m\u001b]8;;\u001b\\\u001b[2m:\u001b[0m\u001b]8;id=788850;file:///Users/eric/Library/Caches/pypoetry/virtualenvs/svaeva-evaluation-GkJecWxE-py3.11/lib/python3.11/site-packages/httpx/_client.py#1026\u001b\\\u001b[2m1026\u001b[0m\u001b]8;;\u001b\\\n",
       "                    \u001b[4;94mhttps://api.openai.com/v1/chat/completions\u001b[0m \u001b[32m\"HTTP/1.1 200 \u001b[0m                \n",
       "                    \u001b[32mOK\"\u001b[0m                                                                      \n"
      ]
     },
     "metadata": {},
     "output_type": "display_data"
    },
    {
     "data": {
      "text/html": [
       "<pre style=\"white-space:pre;overflow-x:auto;line-height:normal;font-family:Menlo,'DejaVu Sans Mono',consolas,'Courier New',monospace\"><span style=\"color: #7fbfbf; text-decoration-color: #7fbfbf\">[19:00:12] </span><span style=\"color: #000080; text-decoration-color: #000080\">INFO    </span> HTTP Request: <span style=\"color: #808000; text-decoration-color: #808000; font-weight: bold\">POST</span>                                        <a href=\"file:///Users/eric/Library/Caches/pypoetry/virtualenvs/svaeva-evaluation-GkJecWxE-py3.11/lib/python3.11/site-packages/httpx/_client.py\"><span style=\"color: #7f7f7f; text-decoration-color: #7f7f7f\">_client.py</span></a><span style=\"color: #7f7f7f; text-decoration-color: #7f7f7f\">:</span><a href=\"file:///Users/eric/Library/Caches/pypoetry/virtualenvs/svaeva-evaluation-GkJecWxE-py3.11/lib/python3.11/site-packages/httpx/_client.py#1026\"><span style=\"color: #7f7f7f; text-decoration-color: #7f7f7f\">1026</span></a>\n",
       "                    <span style=\"color: #0000ff; text-decoration-color: #0000ff; text-decoration: underline\">https://api.openai.com/v1/images/generations</span> <span style=\"color: #008000; text-decoration-color: #008000\">\"HTTP/1.1 </span>                  \n",
       "                    <span style=\"color: #008000; text-decoration-color: #008000\">200 OK\"</span>                                                                  \n",
       "</pre>\n"
      ],
      "text/plain": [
       "\u001b[2;36m[19:00:12]\u001b[0m\u001b[2;36m \u001b[0m\u001b[34mINFO    \u001b[0m HTTP Request: \u001b[1;33mPOST\u001b[0m                                        \u001b]8;id=900200;file:///Users/eric/Library/Caches/pypoetry/virtualenvs/svaeva-evaluation-GkJecWxE-py3.11/lib/python3.11/site-packages/httpx/_client.py\u001b\\\u001b[2m_client.py\u001b[0m\u001b]8;;\u001b\\\u001b[2m:\u001b[0m\u001b]8;id=602706;file:///Users/eric/Library/Caches/pypoetry/virtualenvs/svaeva-evaluation-GkJecWxE-py3.11/lib/python3.11/site-packages/httpx/_client.py#1026\u001b\\\u001b[2m1026\u001b[0m\u001b]8;;\u001b\\\n",
       "                    \u001b[4;94mhttps://api.openai.com/v1/images/generations\u001b[0m \u001b[32m\"HTTP/1.1 \u001b[0m                  \n",
       "                    \u001b[32m200 OK\"\u001b[0m                                                                  \n"
      ]
     },
     "metadata": {},
     "output_type": "display_data"
    },
    {
     "data": {
      "text/html": [
       "<pre style=\"white-space:pre;overflow-x:auto;line-height:normal;font-family:Menlo,'DejaVu Sans Mono',consolas,'Courier New',monospace\"><span style=\"color: #7fbfbf; text-decoration-color: #7fbfbf\">           </span><span style=\"color: #000080; text-decoration-color: #000080\">INFO    </span> HTTP Request: <span style=\"color: #808000; text-decoration-color: #808000; font-weight: bold\">GET</span> <span style=\"color: #0000ff; text-decoration-color: #0000ff; text-decoration: underline\">https://oaidalleapiprodscus.blob.core.w</span> <a href=\"file:///Users/eric/Library/Caches/pypoetry/virtualenvs/svaeva-evaluation-GkJecWxE-py3.11/lib/python3.11/site-packages/httpx/_client.py\"><span style=\"color: #7f7f7f; text-decoration-color: #7f7f7f\">_client.py</span></a><span style=\"color: #7f7f7f; text-decoration-color: #7f7f7f\">:</span><a href=\"file:///Users/eric/Library/Caches/pypoetry/virtualenvs/svaeva-evaluation-GkJecWxE-py3.11/lib/python3.11/site-packages/httpx/_client.py#1026\"><span style=\"color: #7f7f7f; text-decoration-color: #7f7f7f\">1026</span></a>\n",
       "                    <span style=\"color: #0000ff; text-decoration-color: #0000ff; text-decoration: underline\">indows.net/private/org-77FRazywqMikL1SL1V5OQ0dm/user-gR3q</span>                \n",
       "                    <span style=\"color: #0000ff; text-decoration-color: #0000ff; text-decoration: underline\">3d0UmWWt3X6p4JlCQBwq/img-N876sPDgX66ydBKolLXxj6RN.png?st=</span>                \n",
       "                    <span style=\"color: #0000ff; text-decoration-color: #0000ff; text-decoration: underline\">2024-05-01T17%3A00%3A12Z&amp;se=2024-05-01T19%3A00%3A12Z&amp;sp=r</span>                \n",
       "                    <span style=\"color: #0000ff; text-decoration-color: #0000ff; text-decoration: underline\">&amp;sv=2021-08-06&amp;sr=b&amp;rscd=inline&amp;rsct=image/png&amp;skoid=6aaa</span>                \n",
       "                    <span style=\"color: #0000ff; text-decoration-color: #0000ff; text-decoration: underline\">dede-4fb3-4698-a8f6-684d7786b067&amp;sktid=a48cca56-e6da-484e</span>                \n",
       "                    <span style=\"color: #0000ff; text-decoration-color: #0000ff; text-decoration: underline\">-a814-9c849652bcb3&amp;skt=2024-05-01T17%3A45%3A58Z&amp;ske=2024-</span>                \n",
       "                    <span style=\"color: #0000ff; text-decoration-color: #0000ff; text-decoration: underline\">05-02T17%3A45%3A58Z&amp;sks=b&amp;skv=2021-08-06&amp;sig=yJQD3g2DhfxE</span>                \n",
       "                    <span style=\"color: #0000ff; text-decoration-color: #0000ff; text-decoration: underline\">Arb4WdPm/nN5IsQpzsots3XSE/Kh/oQ%3D</span> <span style=\"color: #008000; text-decoration-color: #008000\">\"HTTP/1.1 200 OK\"</span>                     \n",
       "</pre>\n"
      ],
      "text/plain": [
       "\u001b[2;36m          \u001b[0m\u001b[2;36m \u001b[0m\u001b[34mINFO    \u001b[0m HTTP Request: \u001b[1;33mGET\u001b[0m \u001b[4;94mhttps://oaidalleapiprodscus.blob.core.w\u001b[0m \u001b]8;id=87142;file:///Users/eric/Library/Caches/pypoetry/virtualenvs/svaeva-evaluation-GkJecWxE-py3.11/lib/python3.11/site-packages/httpx/_client.py\u001b\\\u001b[2m_client.py\u001b[0m\u001b]8;;\u001b\\\u001b[2m:\u001b[0m\u001b]8;id=519998;file:///Users/eric/Library/Caches/pypoetry/virtualenvs/svaeva-evaluation-GkJecWxE-py3.11/lib/python3.11/site-packages/httpx/_client.py#1026\u001b\\\u001b[2m1026\u001b[0m\u001b]8;;\u001b\\\n",
       "                    \u001b[4;94mindows.net/private/org-77FRazywqMikL1SL1V5OQ0dm/user-gR3q\u001b[0m                \n",
       "                    \u001b[4;94m3d0UmWWt3X6p4JlCQBwq/img-N876sPDgX66ydBKolLXxj6RN.png?\u001b[0m\u001b[4;94mst\u001b[0m\u001b[4;94m=\u001b[0m                \n",
       "                    \u001b[4;94m2024\u001b[0m\u001b[4;94m-05-01T17%3A00%3A12Z&\u001b[0m\u001b[4;94mse\u001b[0m\u001b[4;94m=\u001b[0m\u001b[4;94m2024\u001b[0m\u001b[4;94m-05-01T19%3A00%3A12Z&\u001b[0m\u001b[4;94msp\u001b[0m\u001b[4;94m=\u001b[0m\u001b[4;94mr\u001b[0m                \n",
       "                    \u001b[4;94m&\u001b[0m\u001b[4;94msv\u001b[0m\u001b[4;94m=\u001b[0m\u001b[4;94m2021\u001b[0m\u001b[4;94m-08-06&\u001b[0m\u001b[4;94msr\u001b[0m\u001b[4;94m=\u001b[0m\u001b[4;94mb\u001b[0m\u001b[4;94m&\u001b[0m\u001b[4;94mrscd\u001b[0m\u001b[4;94m=\u001b[0m\u001b[4;94minline\u001b[0m\u001b[4;94m&\u001b[0m\u001b[4;94mrsct\u001b[0m\u001b[4;94m=\u001b[0m\u001b[4;94mimage\u001b[0m\u001b[4;94m/png&\u001b[0m\u001b[4;94mskoid\u001b[0m\u001b[4;94m=\u001b[0m\u001b[4;94m6aaa\u001b[0m                \n",
       "                    \u001b[4;94mdede\u001b[0m\u001b[4;94m-4fb3-4698-a8f6-684d7786b067&\u001b[0m\u001b[4;94msktid\u001b[0m\u001b[4;94m=\u001b[0m\u001b[4;94ma48cca56\u001b[0m\u001b[4;94m-e6da-484e\u001b[0m                \n",
       "                    \u001b[4;94m-a814-9c849652bcb3&\u001b[0m\u001b[4;94mskt\u001b[0m\u001b[4;94m=\u001b[0m\u001b[4;94m2024\u001b[0m\u001b[4;94m-05-01T17%3A45%3A58Z&\u001b[0m\u001b[4;94mske\u001b[0m\u001b[4;94m=\u001b[0m\u001b[4;94m2024\u001b[0m\u001b[4;94m-\u001b[0m                \n",
       "                    \u001b[4;94m05-02T17%3A45%3A58Z&\u001b[0m\u001b[4;94msks\u001b[0m\u001b[4;94m=\u001b[0m\u001b[4;94mb\u001b[0m\u001b[4;94m&\u001b[0m\u001b[4;94mskv\u001b[0m\u001b[4;94m=\u001b[0m\u001b[4;94m2021\u001b[0m\u001b[4;94m-08-06&\u001b[0m\u001b[4;94msig\u001b[0m\u001b[4;94m=\u001b[0m\u001b[4;94myJQD3g2DhfxE\u001b[0m                \n",
       "                    \u001b[4;94mArb4WdPm\u001b[0m\u001b[4;94m/nN5IsQpzsots3XSE/Kh/oQ%3D\u001b[0m \u001b[32m\"HTTP/1.1 200 OK\"\u001b[0m                     \n"
      ]
     },
     "metadata": {},
     "output_type": "display_data"
    },
    {
     "name": "stdout",
     "output_type": "stream",
     "text": [
      "chronic_hip_pain 3\n",
      "sim-consonancia-chronic_hip_pain-003\n"
     ]
    },
    {
     "data": {
      "text/html": [
       "<pre style=\"white-space:pre;overflow-x:auto;line-height:normal;font-family:Menlo,'DejaVu Sans Mono',consolas,'Courier New',monospace\"><span style=\"color: #7fbfbf; text-decoration-color: #7fbfbf\">[19:00:26] </span><span style=\"color: #000080; text-decoration-color: #000080\">INFO    </span> HTTP Request: <span style=\"color: #808000; text-decoration-color: #808000; font-weight: bold\">POST</span>                                        <a href=\"file:///Users/eric/Library/Caches/pypoetry/virtualenvs/svaeva-evaluation-GkJecWxE-py3.11/lib/python3.11/site-packages/httpx/_client.py\"><span style=\"color: #7f7f7f; text-decoration-color: #7f7f7f\">_client.py</span></a><span style=\"color: #7f7f7f; text-decoration-color: #7f7f7f\">:</span><a href=\"file:///Users/eric/Library/Caches/pypoetry/virtualenvs/svaeva-evaluation-GkJecWxE-py3.11/lib/python3.11/site-packages/httpx/_client.py#1026\"><span style=\"color: #7f7f7f; text-decoration-color: #7f7f7f\">1026</span></a>\n",
       "                    <span style=\"color: #0000ff; text-decoration-color: #0000ff; text-decoration: underline\">https://api.openai.com/v1/chat/completions</span> <span style=\"color: #008000; text-decoration-color: #008000\">\"HTTP/1.1 200 </span>                \n",
       "                    <span style=\"color: #008000; text-decoration-color: #008000\">OK\"</span>                                                                      \n",
       "</pre>\n"
      ],
      "text/plain": [
       "\u001b[2;36m[19:00:26]\u001b[0m\u001b[2;36m \u001b[0m\u001b[34mINFO    \u001b[0m HTTP Request: \u001b[1;33mPOST\u001b[0m                                        \u001b]8;id=209153;file:///Users/eric/Library/Caches/pypoetry/virtualenvs/svaeva-evaluation-GkJecWxE-py3.11/lib/python3.11/site-packages/httpx/_client.py\u001b\\\u001b[2m_client.py\u001b[0m\u001b]8;;\u001b\\\u001b[2m:\u001b[0m\u001b]8;id=482629;file:///Users/eric/Library/Caches/pypoetry/virtualenvs/svaeva-evaluation-GkJecWxE-py3.11/lib/python3.11/site-packages/httpx/_client.py#1026\u001b\\\u001b[2m1026\u001b[0m\u001b]8;;\u001b\\\n",
       "                    \u001b[4;94mhttps://api.openai.com/v1/chat/completions\u001b[0m \u001b[32m\"HTTP/1.1 200 \u001b[0m                \n",
       "                    \u001b[32mOK\"\u001b[0m                                                                      \n"
      ]
     },
     "metadata": {},
     "output_type": "display_data"
    },
    {
     "data": {
      "text/html": [
       "<pre style=\"white-space:pre;overflow-x:auto;line-height:normal;font-family:Menlo,'DejaVu Sans Mono',consolas,'Courier New',monospace\"><span style=\"color: #7fbfbf; text-decoration-color: #7fbfbf\">[19:00:42] </span><span style=\"color: #000080; text-decoration-color: #000080\">INFO    </span> HTTP Request: <span style=\"color: #808000; text-decoration-color: #808000; font-weight: bold\">POST</span>                                        <a href=\"file:///Users/eric/Library/Caches/pypoetry/virtualenvs/svaeva-evaluation-GkJecWxE-py3.11/lib/python3.11/site-packages/httpx/_client.py\"><span style=\"color: #7f7f7f; text-decoration-color: #7f7f7f\">_client.py</span></a><span style=\"color: #7f7f7f; text-decoration-color: #7f7f7f\">:</span><a href=\"file:///Users/eric/Library/Caches/pypoetry/virtualenvs/svaeva-evaluation-GkJecWxE-py3.11/lib/python3.11/site-packages/httpx/_client.py#1026\"><span style=\"color: #7f7f7f; text-decoration-color: #7f7f7f\">1026</span></a>\n",
       "                    <span style=\"color: #0000ff; text-decoration-color: #0000ff; text-decoration: underline\">https://api.openai.com/v1/images/generations</span> <span style=\"color: #008000; text-decoration-color: #008000\">\"HTTP/1.1 </span>                  \n",
       "                    <span style=\"color: #008000; text-decoration-color: #008000\">200 OK\"</span>                                                                  \n",
       "</pre>\n"
      ],
      "text/plain": [
       "\u001b[2;36m[19:00:42]\u001b[0m\u001b[2;36m \u001b[0m\u001b[34mINFO    \u001b[0m HTTP Request: \u001b[1;33mPOST\u001b[0m                                        \u001b]8;id=250557;file:///Users/eric/Library/Caches/pypoetry/virtualenvs/svaeva-evaluation-GkJecWxE-py3.11/lib/python3.11/site-packages/httpx/_client.py\u001b\\\u001b[2m_client.py\u001b[0m\u001b]8;;\u001b\\\u001b[2m:\u001b[0m\u001b]8;id=776846;file:///Users/eric/Library/Caches/pypoetry/virtualenvs/svaeva-evaluation-GkJecWxE-py3.11/lib/python3.11/site-packages/httpx/_client.py#1026\u001b\\\u001b[2m1026\u001b[0m\u001b]8;;\u001b\\\n",
       "                    \u001b[4;94mhttps://api.openai.com/v1/images/generations\u001b[0m \u001b[32m\"HTTP/1.1 \u001b[0m                  \n",
       "                    \u001b[32m200 OK\"\u001b[0m                                                                  \n"
      ]
     },
     "metadata": {},
     "output_type": "display_data"
    },
    {
     "data": {
      "text/html": [
       "<pre style=\"white-space:pre;overflow-x:auto;line-height:normal;font-family:Menlo,'DejaVu Sans Mono',consolas,'Courier New',monospace\"><span style=\"color: #7fbfbf; text-decoration-color: #7fbfbf\">[19:00:43] </span><span style=\"color: #000080; text-decoration-color: #000080\">INFO    </span> HTTP Request: <span style=\"color: #808000; text-decoration-color: #808000; font-weight: bold\">GET</span> <span style=\"color: #0000ff; text-decoration-color: #0000ff; text-decoration: underline\">https://oaidalleapiprodscus.blob.core.w</span> <a href=\"file:///Users/eric/Library/Caches/pypoetry/virtualenvs/svaeva-evaluation-GkJecWxE-py3.11/lib/python3.11/site-packages/httpx/_client.py\"><span style=\"color: #7f7f7f; text-decoration-color: #7f7f7f\">_client.py</span></a><span style=\"color: #7f7f7f; text-decoration-color: #7f7f7f\">:</span><a href=\"file:///Users/eric/Library/Caches/pypoetry/virtualenvs/svaeva-evaluation-GkJecWxE-py3.11/lib/python3.11/site-packages/httpx/_client.py#1026\"><span style=\"color: #7f7f7f; text-decoration-color: #7f7f7f\">1026</span></a>\n",
       "                    <span style=\"color: #0000ff; text-decoration-color: #0000ff; text-decoration: underline\">indows.net/private/org-77FRazywqMikL1SL1V5OQ0dm/user-gR3q</span>                \n",
       "                    <span style=\"color: #0000ff; text-decoration-color: #0000ff; text-decoration: underline\">3d0UmWWt3X6p4JlCQBwq/img-ChOPd0oq5yMKowugwaXXxUyO.png?st=</span>                \n",
       "                    <span style=\"color: #0000ff; text-decoration-color: #0000ff; text-decoration: underline\">2024-05-01T17%3A00%3A42Z&amp;se=2024-05-01T19%3A00%3A42Z&amp;sp=r</span>                \n",
       "                    <span style=\"color: #0000ff; text-decoration-color: #0000ff; text-decoration: underline\">&amp;sv=2021-08-06&amp;sr=b&amp;rscd=inline&amp;rsct=image/png&amp;skoid=6aaa</span>                \n",
       "                    <span style=\"color: #0000ff; text-decoration-color: #0000ff; text-decoration: underline\">dede-4fb3-4698-a8f6-684d7786b067&amp;sktid=a48cca56-e6da-484e</span>                \n",
       "                    <span style=\"color: #0000ff; text-decoration-color: #0000ff; text-decoration: underline\">-a814-9c849652bcb3&amp;skt=2024-05-01T10%3A02%3A02Z&amp;ske=2024-</span>                \n",
       "                    <span style=\"color: #0000ff; text-decoration-color: #0000ff; text-decoration: underline\">05-02T10%3A02%3A02Z&amp;sks=b&amp;skv=2021-08-06&amp;sig=JkufM6MtP1EM</span>                \n",
       "                    <span style=\"color: #0000ff; text-decoration-color: #0000ff; text-decoration: underline\">wlT3oQIi4j8PBbNnUvdoWK6p9i9x3cs%3D</span> <span style=\"color: #008000; text-decoration-color: #008000\">\"HTTP/1.1 200 OK\"</span>                     \n",
       "</pre>\n"
      ],
      "text/plain": [
       "\u001b[2;36m[19:00:43]\u001b[0m\u001b[2;36m \u001b[0m\u001b[34mINFO    \u001b[0m HTTP Request: \u001b[1;33mGET\u001b[0m \u001b[4;94mhttps://oaidalleapiprodscus.blob.core.w\u001b[0m \u001b]8;id=9174;file:///Users/eric/Library/Caches/pypoetry/virtualenvs/svaeva-evaluation-GkJecWxE-py3.11/lib/python3.11/site-packages/httpx/_client.py\u001b\\\u001b[2m_client.py\u001b[0m\u001b]8;;\u001b\\\u001b[2m:\u001b[0m\u001b]8;id=787325;file:///Users/eric/Library/Caches/pypoetry/virtualenvs/svaeva-evaluation-GkJecWxE-py3.11/lib/python3.11/site-packages/httpx/_client.py#1026\u001b\\\u001b[2m1026\u001b[0m\u001b]8;;\u001b\\\n",
       "                    \u001b[4;94mindows.net/private/org-77FRazywqMikL1SL1V5OQ0dm/user-gR3q\u001b[0m                \n",
       "                    \u001b[4;94m3d0UmWWt3X6p4JlCQBwq/img-ChOPd0oq5yMKowugwaXXxUyO.png?\u001b[0m\u001b[4;94mst\u001b[0m\u001b[4;94m=\u001b[0m                \n",
       "                    \u001b[4;94m2024\u001b[0m\u001b[4;94m-05-01T17%3A00%3A42Z&\u001b[0m\u001b[4;94mse\u001b[0m\u001b[4;94m=\u001b[0m\u001b[4;94m2024\u001b[0m\u001b[4;94m-05-01T19%3A00%3A42Z&\u001b[0m\u001b[4;94msp\u001b[0m\u001b[4;94m=\u001b[0m\u001b[4;94mr\u001b[0m                \n",
       "                    \u001b[4;94m&\u001b[0m\u001b[4;94msv\u001b[0m\u001b[4;94m=\u001b[0m\u001b[4;94m2021\u001b[0m\u001b[4;94m-08-06&\u001b[0m\u001b[4;94msr\u001b[0m\u001b[4;94m=\u001b[0m\u001b[4;94mb\u001b[0m\u001b[4;94m&\u001b[0m\u001b[4;94mrscd\u001b[0m\u001b[4;94m=\u001b[0m\u001b[4;94minline\u001b[0m\u001b[4;94m&\u001b[0m\u001b[4;94mrsct\u001b[0m\u001b[4;94m=\u001b[0m\u001b[4;94mimage\u001b[0m\u001b[4;94m/png&\u001b[0m\u001b[4;94mskoid\u001b[0m\u001b[4;94m=\u001b[0m\u001b[4;94m6aaa\u001b[0m                \n",
       "                    \u001b[4;94mdede\u001b[0m\u001b[4;94m-4fb3-4698-a8f6-684d7786b067&\u001b[0m\u001b[4;94msktid\u001b[0m\u001b[4;94m=\u001b[0m\u001b[4;94ma48cca56\u001b[0m\u001b[4;94m-e6da-484e\u001b[0m                \n",
       "                    \u001b[4;94m-a814-9c849652bcb3&\u001b[0m\u001b[4;94mskt\u001b[0m\u001b[4;94m=\u001b[0m\u001b[4;94m2024\u001b[0m\u001b[4;94m-05-01T10%3A02%3A02Z&\u001b[0m\u001b[4;94mske\u001b[0m\u001b[4;94m=\u001b[0m\u001b[4;94m2024\u001b[0m\u001b[4;94m-\u001b[0m                \n",
       "                    \u001b[4;94m05-02T10%3A02%3A02Z&\u001b[0m\u001b[4;94msks\u001b[0m\u001b[4;94m=\u001b[0m\u001b[4;94mb\u001b[0m\u001b[4;94m&\u001b[0m\u001b[4;94mskv\u001b[0m\u001b[4;94m=\u001b[0m\u001b[4;94m2021\u001b[0m\u001b[4;94m-08-06&\u001b[0m\u001b[4;94msig\u001b[0m\u001b[4;94m=\u001b[0m\u001b[4;94mJkufM6MtP1EM\u001b[0m                \n",
       "                    \u001b[4;94mwlT3oQIi4j8PBbNnUvdoWK6p9i9x3cs\u001b[0m\u001b[4;94m%3D\u001b[0m \u001b[32m\"HTTP/1.1 200 OK\"\u001b[0m                     \n"
      ]
     },
     "metadata": {},
     "output_type": "display_data"
    },
    {
     "name": "stdout",
     "output_type": "stream",
     "text": [
      "chronic_hip_pain 4\n",
      "sim-consonancia-chronic_hip_pain-004\n"
     ]
    },
    {
     "data": {
      "text/html": [
       "<pre style=\"white-space:pre;overflow-x:auto;line-height:normal;font-family:Menlo,'DejaVu Sans Mono',consolas,'Courier New',monospace\"><span style=\"color: #7fbfbf; text-decoration-color: #7fbfbf\">[19:00:51] </span><span style=\"color: #000080; text-decoration-color: #000080\">INFO    </span> HTTP Request: <span style=\"color: #808000; text-decoration-color: #808000; font-weight: bold\">POST</span>                                        <a href=\"file:///Users/eric/Library/Caches/pypoetry/virtualenvs/svaeva-evaluation-GkJecWxE-py3.11/lib/python3.11/site-packages/httpx/_client.py\"><span style=\"color: #7f7f7f; text-decoration-color: #7f7f7f\">_client.py</span></a><span style=\"color: #7f7f7f; text-decoration-color: #7f7f7f\">:</span><a href=\"file:///Users/eric/Library/Caches/pypoetry/virtualenvs/svaeva-evaluation-GkJecWxE-py3.11/lib/python3.11/site-packages/httpx/_client.py#1026\"><span style=\"color: #7f7f7f; text-decoration-color: #7f7f7f\">1026</span></a>\n",
       "                    <span style=\"color: #0000ff; text-decoration-color: #0000ff; text-decoration: underline\">https://api.openai.com/v1/chat/completions</span> <span style=\"color: #008000; text-decoration-color: #008000\">\"HTTP/1.1 200 </span>                \n",
       "                    <span style=\"color: #008000; text-decoration-color: #008000\">OK\"</span>                                                                      \n",
       "</pre>\n"
      ],
      "text/plain": [
       "\u001b[2;36m[19:00:51]\u001b[0m\u001b[2;36m \u001b[0m\u001b[34mINFO    \u001b[0m HTTP Request: \u001b[1;33mPOST\u001b[0m                                        \u001b]8;id=323210;file:///Users/eric/Library/Caches/pypoetry/virtualenvs/svaeva-evaluation-GkJecWxE-py3.11/lib/python3.11/site-packages/httpx/_client.py\u001b\\\u001b[2m_client.py\u001b[0m\u001b]8;;\u001b\\\u001b[2m:\u001b[0m\u001b]8;id=47259;file:///Users/eric/Library/Caches/pypoetry/virtualenvs/svaeva-evaluation-GkJecWxE-py3.11/lib/python3.11/site-packages/httpx/_client.py#1026\u001b\\\u001b[2m1026\u001b[0m\u001b]8;;\u001b\\\n",
       "                    \u001b[4;94mhttps://api.openai.com/v1/chat/completions\u001b[0m \u001b[32m\"HTTP/1.1 200 \u001b[0m                \n",
       "                    \u001b[32mOK\"\u001b[0m                                                                      \n"
      ]
     },
     "metadata": {},
     "output_type": "display_data"
    },
    {
     "data": {
      "text/html": [
       "<pre style=\"white-space:pre;overflow-x:auto;line-height:normal;font-family:Menlo,'DejaVu Sans Mono',consolas,'Courier New',monospace\"><span style=\"color: #7fbfbf; text-decoration-color: #7fbfbf\">[19:01:07] </span><span style=\"color: #000080; text-decoration-color: #000080\">INFO    </span> HTTP Request: <span style=\"color: #808000; text-decoration-color: #808000; font-weight: bold\">POST</span>                                        <a href=\"file:///Users/eric/Library/Caches/pypoetry/virtualenvs/svaeva-evaluation-GkJecWxE-py3.11/lib/python3.11/site-packages/httpx/_client.py\"><span style=\"color: #7f7f7f; text-decoration-color: #7f7f7f\">_client.py</span></a><span style=\"color: #7f7f7f; text-decoration-color: #7f7f7f\">:</span><a href=\"file:///Users/eric/Library/Caches/pypoetry/virtualenvs/svaeva-evaluation-GkJecWxE-py3.11/lib/python3.11/site-packages/httpx/_client.py#1026\"><span style=\"color: #7f7f7f; text-decoration-color: #7f7f7f\">1026</span></a>\n",
       "                    <span style=\"color: #0000ff; text-decoration-color: #0000ff; text-decoration: underline\">https://api.openai.com/v1/images/generations</span> <span style=\"color: #008000; text-decoration-color: #008000\">\"HTTP/1.1 </span>                  \n",
       "                    <span style=\"color: #008000; text-decoration-color: #008000\">200 OK\"</span>                                                                  \n",
       "</pre>\n"
      ],
      "text/plain": [
       "\u001b[2;36m[19:01:07]\u001b[0m\u001b[2;36m \u001b[0m\u001b[34mINFO    \u001b[0m HTTP Request: \u001b[1;33mPOST\u001b[0m                                        \u001b]8;id=622534;file:///Users/eric/Library/Caches/pypoetry/virtualenvs/svaeva-evaluation-GkJecWxE-py3.11/lib/python3.11/site-packages/httpx/_client.py\u001b\\\u001b[2m_client.py\u001b[0m\u001b]8;;\u001b\\\u001b[2m:\u001b[0m\u001b]8;id=672956;file:///Users/eric/Library/Caches/pypoetry/virtualenvs/svaeva-evaluation-GkJecWxE-py3.11/lib/python3.11/site-packages/httpx/_client.py#1026\u001b\\\u001b[2m1026\u001b[0m\u001b]8;;\u001b\\\n",
       "                    \u001b[4;94mhttps://api.openai.com/v1/images/generations\u001b[0m \u001b[32m\"HTTP/1.1 \u001b[0m                  \n",
       "                    \u001b[32m200 OK\"\u001b[0m                                                                  \n"
      ]
     },
     "metadata": {},
     "output_type": "display_data"
    },
    {
     "data": {
      "text/html": [
       "<pre style=\"white-space:pre;overflow-x:auto;line-height:normal;font-family:Menlo,'DejaVu Sans Mono',consolas,'Courier New',monospace\"><span style=\"color: #7fbfbf; text-decoration-color: #7fbfbf\">[19:01:08] </span><span style=\"color: #000080; text-decoration-color: #000080\">INFO    </span> HTTP Request: <span style=\"color: #808000; text-decoration-color: #808000; font-weight: bold\">GET</span> <span style=\"color: #0000ff; text-decoration-color: #0000ff; text-decoration: underline\">https://oaidalleapiprodscus.blob.core.w</span> <a href=\"file:///Users/eric/Library/Caches/pypoetry/virtualenvs/svaeva-evaluation-GkJecWxE-py3.11/lib/python3.11/site-packages/httpx/_client.py\"><span style=\"color: #7f7f7f; text-decoration-color: #7f7f7f\">_client.py</span></a><span style=\"color: #7f7f7f; text-decoration-color: #7f7f7f\">:</span><a href=\"file:///Users/eric/Library/Caches/pypoetry/virtualenvs/svaeva-evaluation-GkJecWxE-py3.11/lib/python3.11/site-packages/httpx/_client.py#1026\"><span style=\"color: #7f7f7f; text-decoration-color: #7f7f7f\">1026</span></a>\n",
       "                    <span style=\"color: #0000ff; text-decoration-color: #0000ff; text-decoration: underline\">indows.net/private/org-77FRazywqMikL1SL1V5OQ0dm/user-gR3q</span>                \n",
       "                    <span style=\"color: #0000ff; text-decoration-color: #0000ff; text-decoration: underline\">3d0UmWWt3X6p4JlCQBwq/img-4SYQ17LG2W6LyXnDSPvPQR3L.png?st=</span>                \n",
       "                    <span style=\"color: #0000ff; text-decoration-color: #0000ff; text-decoration: underline\">2024-05-01T17%3A01%3A07Z&amp;se=2024-05-01T19%3A01%3A07Z&amp;sp=r</span>                \n",
       "                    <span style=\"color: #0000ff; text-decoration-color: #0000ff; text-decoration: underline\">&amp;sv=2021-08-06&amp;sr=b&amp;rscd=inline&amp;rsct=image/png&amp;skoid=6aaa</span>                \n",
       "                    <span style=\"color: #0000ff; text-decoration-color: #0000ff; text-decoration: underline\">dede-4fb3-4698-a8f6-684d7786b067&amp;sktid=a48cca56-e6da-484e</span>                \n",
       "                    <span style=\"color: #0000ff; text-decoration-color: #0000ff; text-decoration: underline\">-a814-9c849652bcb3&amp;skt=2024-05-01T10%3A44%3A33Z&amp;ske=2024-</span>                \n",
       "                    <span style=\"color: #0000ff; text-decoration-color: #0000ff; text-decoration: underline\">05-02T10%3A44%3A33Z&amp;sks=b&amp;skv=2021-08-06&amp;sig=gSb8QbEwBNf6</span>                \n",
       "                    <span style=\"color: #0000ff; text-decoration-color: #0000ff; text-decoration: underline\">Mk/yOpONvDyNDlWeMXf30yHEJkuC/VE%3D</span> <span style=\"color: #008000; text-decoration-color: #008000\">\"HTTP/1.1 200 OK\"</span>                     \n",
       "</pre>\n"
      ],
      "text/plain": [
       "\u001b[2;36m[19:01:08]\u001b[0m\u001b[2;36m \u001b[0m\u001b[34mINFO    \u001b[0m HTTP Request: \u001b[1;33mGET\u001b[0m \u001b[4;94mhttps://oaidalleapiprodscus.blob.core.w\u001b[0m \u001b]8;id=993041;file:///Users/eric/Library/Caches/pypoetry/virtualenvs/svaeva-evaluation-GkJecWxE-py3.11/lib/python3.11/site-packages/httpx/_client.py\u001b\\\u001b[2m_client.py\u001b[0m\u001b]8;;\u001b\\\u001b[2m:\u001b[0m\u001b]8;id=199849;file:///Users/eric/Library/Caches/pypoetry/virtualenvs/svaeva-evaluation-GkJecWxE-py3.11/lib/python3.11/site-packages/httpx/_client.py#1026\u001b\\\u001b[2m1026\u001b[0m\u001b]8;;\u001b\\\n",
       "                    \u001b[4;94mindows.net/private/org-77FRazywqMikL1SL1V5OQ0dm/user-gR3q\u001b[0m                \n",
       "                    \u001b[4;94m3d0UmWWt3X6p4JlCQBwq/img-4SYQ17LG2W6LyXnDSPvPQR3L.png?\u001b[0m\u001b[4;94mst\u001b[0m\u001b[4;94m=\u001b[0m                \n",
       "                    \u001b[4;94m2024\u001b[0m\u001b[4;94m-05-01T17%3A01%3A07Z&\u001b[0m\u001b[4;94mse\u001b[0m\u001b[4;94m=\u001b[0m\u001b[4;94m2024\u001b[0m\u001b[4;94m-05-01T19%3A01%3A07Z&\u001b[0m\u001b[4;94msp\u001b[0m\u001b[4;94m=\u001b[0m\u001b[4;94mr\u001b[0m                \n",
       "                    \u001b[4;94m&\u001b[0m\u001b[4;94msv\u001b[0m\u001b[4;94m=\u001b[0m\u001b[4;94m2021\u001b[0m\u001b[4;94m-08-06&\u001b[0m\u001b[4;94msr\u001b[0m\u001b[4;94m=\u001b[0m\u001b[4;94mb\u001b[0m\u001b[4;94m&\u001b[0m\u001b[4;94mrscd\u001b[0m\u001b[4;94m=\u001b[0m\u001b[4;94minline\u001b[0m\u001b[4;94m&\u001b[0m\u001b[4;94mrsct\u001b[0m\u001b[4;94m=\u001b[0m\u001b[4;94mimage\u001b[0m\u001b[4;94m/png&\u001b[0m\u001b[4;94mskoid\u001b[0m\u001b[4;94m=\u001b[0m\u001b[4;94m6aaa\u001b[0m                \n",
       "                    \u001b[4;94mdede\u001b[0m\u001b[4;94m-4fb3-4698-a8f6-684d7786b067&\u001b[0m\u001b[4;94msktid\u001b[0m\u001b[4;94m=\u001b[0m\u001b[4;94ma48cca56\u001b[0m\u001b[4;94m-e6da-484e\u001b[0m                \n",
       "                    \u001b[4;94m-a814-9c849652bcb3&\u001b[0m\u001b[4;94mskt\u001b[0m\u001b[4;94m=\u001b[0m\u001b[4;94m2024\u001b[0m\u001b[4;94m-05-01T10%3A44%3A33Z&\u001b[0m\u001b[4;94mske\u001b[0m\u001b[4;94m=\u001b[0m\u001b[4;94m2024\u001b[0m\u001b[4;94m-\u001b[0m                \n",
       "                    \u001b[4;94m05-02T10%3A44%3A33Z&\u001b[0m\u001b[4;94msks\u001b[0m\u001b[4;94m=\u001b[0m\u001b[4;94mb\u001b[0m\u001b[4;94m&\u001b[0m\u001b[4;94mskv\u001b[0m\u001b[4;94m=\u001b[0m\u001b[4;94m2021\u001b[0m\u001b[4;94m-08-06&\u001b[0m\u001b[4;94msig\u001b[0m\u001b[4;94m=\u001b[0m\u001b[4;94mgSb8QbEwBNf6\u001b[0m                \n",
       "                    \u001b[4;94mMk\u001b[0m\u001b[4;94m/yOpONvDyNDlWeMXf30yHEJkuC/VE%3D\u001b[0m \u001b[32m\"HTTP/1.1 200 OK\"\u001b[0m                     \n"
      ]
     },
     "metadata": {},
     "output_type": "display_data"
    },
    {
     "name": "stdout",
     "output_type": "stream",
     "text": [
      "chronic_hip_pain 5\n",
      "sim-consonancia-chronic_hip_pain-005\n"
     ]
    },
    {
     "data": {
      "text/html": [
       "<pre style=\"white-space:pre;overflow-x:auto;line-height:normal;font-family:Menlo,'DejaVu Sans Mono',consolas,'Courier New',monospace\"><span style=\"color: #7fbfbf; text-decoration-color: #7fbfbf\">[19:01:18] </span><span style=\"color: #000080; text-decoration-color: #000080\">INFO    </span> HTTP Request: <span style=\"color: #808000; text-decoration-color: #808000; font-weight: bold\">POST</span>                                        <a href=\"file:///Users/eric/Library/Caches/pypoetry/virtualenvs/svaeva-evaluation-GkJecWxE-py3.11/lib/python3.11/site-packages/httpx/_client.py\"><span style=\"color: #7f7f7f; text-decoration-color: #7f7f7f\">_client.py</span></a><span style=\"color: #7f7f7f; text-decoration-color: #7f7f7f\">:</span><a href=\"file:///Users/eric/Library/Caches/pypoetry/virtualenvs/svaeva-evaluation-GkJecWxE-py3.11/lib/python3.11/site-packages/httpx/_client.py#1026\"><span style=\"color: #7f7f7f; text-decoration-color: #7f7f7f\">1026</span></a>\n",
       "                    <span style=\"color: #0000ff; text-decoration-color: #0000ff; text-decoration: underline\">https://api.openai.com/v1/chat/completions</span> <span style=\"color: #008000; text-decoration-color: #008000\">\"HTTP/1.1 200 </span>                \n",
       "                    <span style=\"color: #008000; text-decoration-color: #008000\">OK\"</span>                                                                      \n",
       "</pre>\n"
      ],
      "text/plain": [
       "\u001b[2;36m[19:01:18]\u001b[0m\u001b[2;36m \u001b[0m\u001b[34mINFO    \u001b[0m HTTP Request: \u001b[1;33mPOST\u001b[0m                                        \u001b]8;id=250664;file:///Users/eric/Library/Caches/pypoetry/virtualenvs/svaeva-evaluation-GkJecWxE-py3.11/lib/python3.11/site-packages/httpx/_client.py\u001b\\\u001b[2m_client.py\u001b[0m\u001b]8;;\u001b\\\u001b[2m:\u001b[0m\u001b]8;id=623324;file:///Users/eric/Library/Caches/pypoetry/virtualenvs/svaeva-evaluation-GkJecWxE-py3.11/lib/python3.11/site-packages/httpx/_client.py#1026\u001b\\\u001b[2m1026\u001b[0m\u001b]8;;\u001b\\\n",
       "                    \u001b[4;94mhttps://api.openai.com/v1/chat/completions\u001b[0m \u001b[32m\"HTTP/1.1 200 \u001b[0m                \n",
       "                    \u001b[32mOK\"\u001b[0m                                                                      \n"
      ]
     },
     "metadata": {},
     "output_type": "display_data"
    },
    {
     "data": {
      "text/html": [
       "<pre style=\"white-space:pre;overflow-x:auto;line-height:normal;font-family:Menlo,'DejaVu Sans Mono',consolas,'Courier New',monospace\"><span style=\"color: #7fbfbf; text-decoration-color: #7fbfbf\">[19:01:36] </span><span style=\"color: #000080; text-decoration-color: #000080\">INFO    </span> HTTP Request: <span style=\"color: #808000; text-decoration-color: #808000; font-weight: bold\">POST</span>                                        <a href=\"file:///Users/eric/Library/Caches/pypoetry/virtualenvs/svaeva-evaluation-GkJecWxE-py3.11/lib/python3.11/site-packages/httpx/_client.py\"><span style=\"color: #7f7f7f; text-decoration-color: #7f7f7f\">_client.py</span></a><span style=\"color: #7f7f7f; text-decoration-color: #7f7f7f\">:</span><a href=\"file:///Users/eric/Library/Caches/pypoetry/virtualenvs/svaeva-evaluation-GkJecWxE-py3.11/lib/python3.11/site-packages/httpx/_client.py#1026\"><span style=\"color: #7f7f7f; text-decoration-color: #7f7f7f\">1026</span></a>\n",
       "                    <span style=\"color: #0000ff; text-decoration-color: #0000ff; text-decoration: underline\">https://api.openai.com/v1/images/generations</span> <span style=\"color: #008000; text-decoration-color: #008000\">\"HTTP/1.1 </span>                  \n",
       "                    <span style=\"color: #008000; text-decoration-color: #008000\">200 OK\"</span>                                                                  \n",
       "</pre>\n"
      ],
      "text/plain": [
       "\u001b[2;36m[19:01:36]\u001b[0m\u001b[2;36m \u001b[0m\u001b[34mINFO    \u001b[0m HTTP Request: \u001b[1;33mPOST\u001b[0m                                        \u001b]8;id=962167;file:///Users/eric/Library/Caches/pypoetry/virtualenvs/svaeva-evaluation-GkJecWxE-py3.11/lib/python3.11/site-packages/httpx/_client.py\u001b\\\u001b[2m_client.py\u001b[0m\u001b]8;;\u001b\\\u001b[2m:\u001b[0m\u001b]8;id=79560;file:///Users/eric/Library/Caches/pypoetry/virtualenvs/svaeva-evaluation-GkJecWxE-py3.11/lib/python3.11/site-packages/httpx/_client.py#1026\u001b\\\u001b[2m1026\u001b[0m\u001b]8;;\u001b\\\n",
       "                    \u001b[4;94mhttps://api.openai.com/v1/images/generations\u001b[0m \u001b[32m\"HTTP/1.1 \u001b[0m                  \n",
       "                    \u001b[32m200 OK\"\u001b[0m                                                                  \n"
      ]
     },
     "metadata": {},
     "output_type": "display_data"
    },
    {
     "data": {
      "text/html": [
       "<pre style=\"white-space:pre;overflow-x:auto;line-height:normal;font-family:Menlo,'DejaVu Sans Mono',consolas,'Courier New',monospace\"><span style=\"color: #7fbfbf; text-decoration-color: #7fbfbf\">[19:01:37] </span><span style=\"color: #000080; text-decoration-color: #000080\">INFO    </span> HTTP Request: <span style=\"color: #808000; text-decoration-color: #808000; font-weight: bold\">GET</span> <span style=\"color: #0000ff; text-decoration-color: #0000ff; text-decoration: underline\">https://oaidalleapiprodscus.blob.core.w</span> <a href=\"file:///Users/eric/Library/Caches/pypoetry/virtualenvs/svaeva-evaluation-GkJecWxE-py3.11/lib/python3.11/site-packages/httpx/_client.py\"><span style=\"color: #7f7f7f; text-decoration-color: #7f7f7f\">_client.py</span></a><span style=\"color: #7f7f7f; text-decoration-color: #7f7f7f\">:</span><a href=\"file:///Users/eric/Library/Caches/pypoetry/virtualenvs/svaeva-evaluation-GkJecWxE-py3.11/lib/python3.11/site-packages/httpx/_client.py#1026\"><span style=\"color: #7f7f7f; text-decoration-color: #7f7f7f\">1026</span></a>\n",
       "                    <span style=\"color: #0000ff; text-decoration-color: #0000ff; text-decoration: underline\">indows.net/private/org-77FRazywqMikL1SL1V5OQ0dm/user-gR3q</span>                \n",
       "                    <span style=\"color: #0000ff; text-decoration-color: #0000ff; text-decoration: underline\">3d0UmWWt3X6p4JlCQBwq/img-pKnhiUf7Py8dyuecRDZL6L6a.png?st=</span>                \n",
       "                    <span style=\"color: #0000ff; text-decoration-color: #0000ff; text-decoration: underline\">2024-05-01T17%3A01%3A36Z&amp;se=2024-05-01T19%3A01%3A36Z&amp;sp=r</span>                \n",
       "                    <span style=\"color: #0000ff; text-decoration-color: #0000ff; text-decoration: underline\">&amp;sv=2021-08-06&amp;sr=b&amp;rscd=inline&amp;rsct=image/png&amp;skoid=6aaa</span>                \n",
       "                    <span style=\"color: #0000ff; text-decoration-color: #0000ff; text-decoration: underline\">dede-4fb3-4698-a8f6-684d7786b067&amp;sktid=a48cca56-e6da-484e</span>                \n",
       "                    <span style=\"color: #0000ff; text-decoration-color: #0000ff; text-decoration: underline\">-a814-9c849652bcb3&amp;skt=2024-05-01T05%3A01%3A08Z&amp;ske=2024-</span>                \n",
       "                    <span style=\"color: #0000ff; text-decoration-color: #0000ff; text-decoration: underline\">05-02T05%3A01%3A08Z&amp;sks=b&amp;skv=2021-08-06&amp;sig=8besIyUi8Tfz</span>                \n",
       "                    <span style=\"color: #0000ff; text-decoration-color: #0000ff; text-decoration: underline\">p3D4sLmZkBWlPkeYpVzBGAUmUM5AVoE%3D</span> <span style=\"color: #008000; text-decoration-color: #008000\">\"HTTP/1.1 200 OK\"</span>                     \n",
       "</pre>\n"
      ],
      "text/plain": [
       "\u001b[2;36m[19:01:37]\u001b[0m\u001b[2;36m \u001b[0m\u001b[34mINFO    \u001b[0m HTTP Request: \u001b[1;33mGET\u001b[0m \u001b[4;94mhttps://oaidalleapiprodscus.blob.core.w\u001b[0m \u001b]8;id=580560;file:///Users/eric/Library/Caches/pypoetry/virtualenvs/svaeva-evaluation-GkJecWxE-py3.11/lib/python3.11/site-packages/httpx/_client.py\u001b\\\u001b[2m_client.py\u001b[0m\u001b]8;;\u001b\\\u001b[2m:\u001b[0m\u001b]8;id=800842;file:///Users/eric/Library/Caches/pypoetry/virtualenvs/svaeva-evaluation-GkJecWxE-py3.11/lib/python3.11/site-packages/httpx/_client.py#1026\u001b\\\u001b[2m1026\u001b[0m\u001b]8;;\u001b\\\n",
       "                    \u001b[4;94mindows.net/private/org-77FRazywqMikL1SL1V5OQ0dm/user-gR3q\u001b[0m                \n",
       "                    \u001b[4;94m3d0UmWWt3X6p4JlCQBwq/img-pKnhiUf7Py8dyuecRDZL6L6a.png?\u001b[0m\u001b[4;94mst\u001b[0m\u001b[4;94m=\u001b[0m                \n",
       "                    \u001b[4;94m2024\u001b[0m\u001b[4;94m-05-01T17%3A01%3A36Z&\u001b[0m\u001b[4;94mse\u001b[0m\u001b[4;94m=\u001b[0m\u001b[4;94m2024\u001b[0m\u001b[4;94m-05-01T19%3A01%3A36Z&\u001b[0m\u001b[4;94msp\u001b[0m\u001b[4;94m=\u001b[0m\u001b[4;94mr\u001b[0m                \n",
       "                    \u001b[4;94m&\u001b[0m\u001b[4;94msv\u001b[0m\u001b[4;94m=\u001b[0m\u001b[4;94m2021\u001b[0m\u001b[4;94m-08-06&\u001b[0m\u001b[4;94msr\u001b[0m\u001b[4;94m=\u001b[0m\u001b[4;94mb\u001b[0m\u001b[4;94m&\u001b[0m\u001b[4;94mrscd\u001b[0m\u001b[4;94m=\u001b[0m\u001b[4;94minline\u001b[0m\u001b[4;94m&\u001b[0m\u001b[4;94mrsct\u001b[0m\u001b[4;94m=\u001b[0m\u001b[4;94mimage\u001b[0m\u001b[4;94m/png&\u001b[0m\u001b[4;94mskoid\u001b[0m\u001b[4;94m=\u001b[0m\u001b[4;94m6aaa\u001b[0m                \n",
       "                    \u001b[4;94mdede\u001b[0m\u001b[4;94m-4fb3-4698-a8f6-684d7786b067&\u001b[0m\u001b[4;94msktid\u001b[0m\u001b[4;94m=\u001b[0m\u001b[4;94ma48cca56\u001b[0m\u001b[4;94m-e6da-484e\u001b[0m                \n",
       "                    \u001b[4;94m-a814-9c849652bcb3&\u001b[0m\u001b[4;94mskt\u001b[0m\u001b[4;94m=\u001b[0m\u001b[4;94m2024\u001b[0m\u001b[4;94m-05-01T05%3A01%3A08Z&\u001b[0m\u001b[4;94mske\u001b[0m\u001b[4;94m=\u001b[0m\u001b[4;94m2024\u001b[0m\u001b[4;94m-\u001b[0m                \n",
       "                    \u001b[4;94m05-02T05%3A01%3A08Z&\u001b[0m\u001b[4;94msks\u001b[0m\u001b[4;94m=\u001b[0m\u001b[4;94mb\u001b[0m\u001b[4;94m&\u001b[0m\u001b[4;94mskv\u001b[0m\u001b[4;94m=\u001b[0m\u001b[4;94m2021\u001b[0m\u001b[4;94m-08-06&\u001b[0m\u001b[4;94msig\u001b[0m\u001b[4;94m=\u001b[0m\u001b[4;94m8besIyUi8Tfz\u001b[0m                \n",
       "                    \u001b[4;94mp3D4sLmZkBWlPkeYpVzBGAUmUM5AVoE\u001b[0m\u001b[4;94m%3D\u001b[0m \u001b[32m\"HTTP/1.1 200 OK\"\u001b[0m                     \n"
      ]
     },
     "metadata": {},
     "output_type": "display_data"
    },
    {
     "name": "stdout",
     "output_type": "stream",
     "text": [
      "chronic_hip_pain 6\n",
      "sim-consonancia-chronic_hip_pain-006\n"
     ]
    },
    {
     "data": {
      "text/html": [
       "<pre style=\"white-space:pre;overflow-x:auto;line-height:normal;font-family:Menlo,'DejaVu Sans Mono',consolas,'Courier New',monospace\"><span style=\"color: #7fbfbf; text-decoration-color: #7fbfbf\">[19:01:54] </span><span style=\"color: #000080; text-decoration-color: #000080\">INFO    </span> HTTP Request: <span style=\"color: #808000; text-decoration-color: #808000; font-weight: bold\">POST</span>                                        <a href=\"file:///Users/eric/Library/Caches/pypoetry/virtualenvs/svaeva-evaluation-GkJecWxE-py3.11/lib/python3.11/site-packages/httpx/_client.py\"><span style=\"color: #7f7f7f; text-decoration-color: #7f7f7f\">_client.py</span></a><span style=\"color: #7f7f7f; text-decoration-color: #7f7f7f\">:</span><a href=\"file:///Users/eric/Library/Caches/pypoetry/virtualenvs/svaeva-evaluation-GkJecWxE-py3.11/lib/python3.11/site-packages/httpx/_client.py#1026\"><span style=\"color: #7f7f7f; text-decoration-color: #7f7f7f\">1026</span></a>\n",
       "                    <span style=\"color: #0000ff; text-decoration-color: #0000ff; text-decoration: underline\">https://api.openai.com/v1/chat/completions</span> <span style=\"color: #008000; text-decoration-color: #008000\">\"HTTP/1.1 200 </span>                \n",
       "                    <span style=\"color: #008000; text-decoration-color: #008000\">OK\"</span>                                                                      \n",
       "</pre>\n"
      ],
      "text/plain": [
       "\u001b[2;36m[19:01:54]\u001b[0m\u001b[2;36m \u001b[0m\u001b[34mINFO    \u001b[0m HTTP Request: \u001b[1;33mPOST\u001b[0m                                        \u001b]8;id=643812;file:///Users/eric/Library/Caches/pypoetry/virtualenvs/svaeva-evaluation-GkJecWxE-py3.11/lib/python3.11/site-packages/httpx/_client.py\u001b\\\u001b[2m_client.py\u001b[0m\u001b]8;;\u001b\\\u001b[2m:\u001b[0m\u001b]8;id=975388;file:///Users/eric/Library/Caches/pypoetry/virtualenvs/svaeva-evaluation-GkJecWxE-py3.11/lib/python3.11/site-packages/httpx/_client.py#1026\u001b\\\u001b[2m1026\u001b[0m\u001b]8;;\u001b\\\n",
       "                    \u001b[4;94mhttps://api.openai.com/v1/chat/completions\u001b[0m \u001b[32m\"HTTP/1.1 200 \u001b[0m                \n",
       "                    \u001b[32mOK\"\u001b[0m                                                                      \n"
      ]
     },
     "metadata": {},
     "output_type": "display_data"
    },
    {
     "data": {
      "text/html": [
       "<pre style=\"white-space:pre;overflow-x:auto;line-height:normal;font-family:Menlo,'DejaVu Sans Mono',consolas,'Courier New',monospace\"><span style=\"color: #7fbfbf; text-decoration-color: #7fbfbf\">[19:02:11] </span><span style=\"color: #000080; text-decoration-color: #000080\">INFO    </span> HTTP Request: <span style=\"color: #808000; text-decoration-color: #808000; font-weight: bold\">POST</span>                                        <a href=\"file:///Users/eric/Library/Caches/pypoetry/virtualenvs/svaeva-evaluation-GkJecWxE-py3.11/lib/python3.11/site-packages/httpx/_client.py\"><span style=\"color: #7f7f7f; text-decoration-color: #7f7f7f\">_client.py</span></a><span style=\"color: #7f7f7f; text-decoration-color: #7f7f7f\">:</span><a href=\"file:///Users/eric/Library/Caches/pypoetry/virtualenvs/svaeva-evaluation-GkJecWxE-py3.11/lib/python3.11/site-packages/httpx/_client.py#1026\"><span style=\"color: #7f7f7f; text-decoration-color: #7f7f7f\">1026</span></a>\n",
       "                    <span style=\"color: #0000ff; text-decoration-color: #0000ff; text-decoration: underline\">https://api.openai.com/v1/images/generations</span> <span style=\"color: #008000; text-decoration-color: #008000\">\"HTTP/1.1 </span>                  \n",
       "                    <span style=\"color: #008000; text-decoration-color: #008000\">200 OK\"</span>                                                                  \n",
       "</pre>\n"
      ],
      "text/plain": [
       "\u001b[2;36m[19:02:11]\u001b[0m\u001b[2;36m \u001b[0m\u001b[34mINFO    \u001b[0m HTTP Request: \u001b[1;33mPOST\u001b[0m                                        \u001b]8;id=97804;file:///Users/eric/Library/Caches/pypoetry/virtualenvs/svaeva-evaluation-GkJecWxE-py3.11/lib/python3.11/site-packages/httpx/_client.py\u001b\\\u001b[2m_client.py\u001b[0m\u001b]8;;\u001b\\\u001b[2m:\u001b[0m\u001b]8;id=937305;file:///Users/eric/Library/Caches/pypoetry/virtualenvs/svaeva-evaluation-GkJecWxE-py3.11/lib/python3.11/site-packages/httpx/_client.py#1026\u001b\\\u001b[2m1026\u001b[0m\u001b]8;;\u001b\\\n",
       "                    \u001b[4;94mhttps://api.openai.com/v1/images/generations\u001b[0m \u001b[32m\"HTTP/1.1 \u001b[0m                  \n",
       "                    \u001b[32m200 OK\"\u001b[0m                                                                  \n"
      ]
     },
     "metadata": {},
     "output_type": "display_data"
    },
    {
     "data": {
      "text/html": [
       "<pre style=\"white-space:pre;overflow-x:auto;line-height:normal;font-family:Menlo,'DejaVu Sans Mono',consolas,'Courier New',monospace\"><span style=\"color: #7fbfbf; text-decoration-color: #7fbfbf\">[19:02:12] </span><span style=\"color: #000080; text-decoration-color: #000080\">INFO    </span> HTTP Request: <span style=\"color: #808000; text-decoration-color: #808000; font-weight: bold\">GET</span> <span style=\"color: #0000ff; text-decoration-color: #0000ff; text-decoration: underline\">https://oaidalleapiprodscus.blob.core.w</span> <a href=\"file:///Users/eric/Library/Caches/pypoetry/virtualenvs/svaeva-evaluation-GkJecWxE-py3.11/lib/python3.11/site-packages/httpx/_client.py\"><span style=\"color: #7f7f7f; text-decoration-color: #7f7f7f\">_client.py</span></a><span style=\"color: #7f7f7f; text-decoration-color: #7f7f7f\">:</span><a href=\"file:///Users/eric/Library/Caches/pypoetry/virtualenvs/svaeva-evaluation-GkJecWxE-py3.11/lib/python3.11/site-packages/httpx/_client.py#1026\"><span style=\"color: #7f7f7f; text-decoration-color: #7f7f7f\">1026</span></a>\n",
       "                    <span style=\"color: #0000ff; text-decoration-color: #0000ff; text-decoration: underline\">indows.net/private/org-77FRazywqMikL1SL1V5OQ0dm/user-gR3q</span>                \n",
       "                    <span style=\"color: #0000ff; text-decoration-color: #0000ff; text-decoration: underline\">3d0UmWWt3X6p4JlCQBwq/img-txLc3ch343Gd2VR3YZeinbkA.png?st=</span>                \n",
       "                    <span style=\"color: #0000ff; text-decoration-color: #0000ff; text-decoration: underline\">2024-05-01T17%3A02%3A11Z&amp;se=2024-05-01T19%3A02%3A11Z&amp;sp=r</span>                \n",
       "                    <span style=\"color: #0000ff; text-decoration-color: #0000ff; text-decoration: underline\">&amp;sv=2021-08-06&amp;sr=b&amp;rscd=inline&amp;rsct=image/png&amp;skoid=6aaa</span>                \n",
       "                    <span style=\"color: #0000ff; text-decoration-color: #0000ff; text-decoration: underline\">dede-4fb3-4698-a8f6-684d7786b067&amp;sktid=a48cca56-e6da-484e</span>                \n",
       "                    <span style=\"color: #0000ff; text-decoration-color: #0000ff; text-decoration: underline\">-a814-9c849652bcb3&amp;skt=2024-05-01T15%3A44%3A36Z&amp;ske=2024-</span>                \n",
       "                    <span style=\"color: #0000ff; text-decoration-color: #0000ff; text-decoration: underline\">05-02T15%3A44%3A36Z&amp;sks=b&amp;skv=2021-08-06&amp;sig=fbO6U5/6USM/</span>                \n",
       "                    <span style=\"color: #0000ff; text-decoration-color: #0000ff; text-decoration: underline\">ViBSZWNlYPOwEtf5HLo5DC7KHq6WzD4%3D</span> <span style=\"color: #008000; text-decoration-color: #008000\">\"HTTP/1.1 200 OK\"</span>                     \n",
       "</pre>\n"
      ],
      "text/plain": [
       "\u001b[2;36m[19:02:12]\u001b[0m\u001b[2;36m \u001b[0m\u001b[34mINFO    \u001b[0m HTTP Request: \u001b[1;33mGET\u001b[0m \u001b[4;94mhttps://oaidalleapiprodscus.blob.core.w\u001b[0m \u001b]8;id=633097;file:///Users/eric/Library/Caches/pypoetry/virtualenvs/svaeva-evaluation-GkJecWxE-py3.11/lib/python3.11/site-packages/httpx/_client.py\u001b\\\u001b[2m_client.py\u001b[0m\u001b]8;;\u001b\\\u001b[2m:\u001b[0m\u001b]8;id=429835;file:///Users/eric/Library/Caches/pypoetry/virtualenvs/svaeva-evaluation-GkJecWxE-py3.11/lib/python3.11/site-packages/httpx/_client.py#1026\u001b\\\u001b[2m1026\u001b[0m\u001b]8;;\u001b\\\n",
       "                    \u001b[4;94mindows.net/private/org-77FRazywqMikL1SL1V5OQ0dm/user-gR3q\u001b[0m                \n",
       "                    \u001b[4;94m3d0UmWWt3X6p4JlCQBwq/img-txLc3ch343Gd2VR3YZeinbkA.png?\u001b[0m\u001b[4;94mst\u001b[0m\u001b[4;94m=\u001b[0m                \n",
       "                    \u001b[4;94m2024\u001b[0m\u001b[4;94m-05-01T17%3A02%3A11Z&\u001b[0m\u001b[4;94mse\u001b[0m\u001b[4;94m=\u001b[0m\u001b[4;94m2024\u001b[0m\u001b[4;94m-05-01T19%3A02%3A11Z&\u001b[0m\u001b[4;94msp\u001b[0m\u001b[4;94m=\u001b[0m\u001b[4;94mr\u001b[0m                \n",
       "                    \u001b[4;94m&\u001b[0m\u001b[4;94msv\u001b[0m\u001b[4;94m=\u001b[0m\u001b[4;94m2021\u001b[0m\u001b[4;94m-08-06&\u001b[0m\u001b[4;94msr\u001b[0m\u001b[4;94m=\u001b[0m\u001b[4;94mb\u001b[0m\u001b[4;94m&\u001b[0m\u001b[4;94mrscd\u001b[0m\u001b[4;94m=\u001b[0m\u001b[4;94minline\u001b[0m\u001b[4;94m&\u001b[0m\u001b[4;94mrsct\u001b[0m\u001b[4;94m=\u001b[0m\u001b[4;94mimage\u001b[0m\u001b[4;94m/png&\u001b[0m\u001b[4;94mskoid\u001b[0m\u001b[4;94m=\u001b[0m\u001b[4;94m6aaa\u001b[0m                \n",
       "                    \u001b[4;94mdede\u001b[0m\u001b[4;94m-4fb3-4698-a8f6-684d7786b067&\u001b[0m\u001b[4;94msktid\u001b[0m\u001b[4;94m=\u001b[0m\u001b[4;94ma48cca56\u001b[0m\u001b[4;94m-e6da-484e\u001b[0m                \n",
       "                    \u001b[4;94m-a814-9c849652bcb3&\u001b[0m\u001b[4;94mskt\u001b[0m\u001b[4;94m=\u001b[0m\u001b[4;94m2024\u001b[0m\u001b[4;94m-05-01T15%3A44%3A36Z&\u001b[0m\u001b[4;94mske\u001b[0m\u001b[4;94m=\u001b[0m\u001b[4;94m2024\u001b[0m\u001b[4;94m-\u001b[0m                \n",
       "                    \u001b[4;94m05-02T15%3A44%3A36Z&\u001b[0m\u001b[4;94msks\u001b[0m\u001b[4;94m=\u001b[0m\u001b[4;94mb\u001b[0m\u001b[4;94m&\u001b[0m\u001b[4;94mskv\u001b[0m\u001b[4;94m=\u001b[0m\u001b[4;94m2021\u001b[0m\u001b[4;94m-08-06&\u001b[0m\u001b[4;94msig\u001b[0m\u001b[4;94m=\u001b[0m\u001b[4;94mfbO6U5\u001b[0m\u001b[4;94m/6USM/\u001b[0m                \n",
       "                    \u001b[4;94mViBSZWNlYPOwEtf5HLo5DC7KHq6WzD4%3D\u001b[0m \u001b[32m\"HTTP/1.1 200 OK\"\u001b[0m                     \n"
      ]
     },
     "metadata": {},
     "output_type": "display_data"
    },
    {
     "name": "stdout",
     "output_type": "stream",
     "text": [
      "pots 1\n",
      "sim-consonancia-pots-001\n"
     ]
    },
    {
     "data": {
      "text/html": [
       "<pre style=\"white-space:pre;overflow-x:auto;line-height:normal;font-family:Menlo,'DejaVu Sans Mono',consolas,'Courier New',monospace\"><span style=\"color: #7fbfbf; text-decoration-color: #7fbfbf\">[19:02:20] </span><span style=\"color: #000080; text-decoration-color: #000080\">INFO    </span> HTTP Request: <span style=\"color: #808000; text-decoration-color: #808000; font-weight: bold\">POST</span>                                        <a href=\"file:///Users/eric/Library/Caches/pypoetry/virtualenvs/svaeva-evaluation-GkJecWxE-py3.11/lib/python3.11/site-packages/httpx/_client.py\"><span style=\"color: #7f7f7f; text-decoration-color: #7f7f7f\">_client.py</span></a><span style=\"color: #7f7f7f; text-decoration-color: #7f7f7f\">:</span><a href=\"file:///Users/eric/Library/Caches/pypoetry/virtualenvs/svaeva-evaluation-GkJecWxE-py3.11/lib/python3.11/site-packages/httpx/_client.py#1026\"><span style=\"color: #7f7f7f; text-decoration-color: #7f7f7f\">1026</span></a>\n",
       "                    <span style=\"color: #0000ff; text-decoration-color: #0000ff; text-decoration: underline\">https://api.openai.com/v1/chat/completions</span> <span style=\"color: #008000; text-decoration-color: #008000\">\"HTTP/1.1 200 </span>                \n",
       "                    <span style=\"color: #008000; text-decoration-color: #008000\">OK\"</span>                                                                      \n",
       "</pre>\n"
      ],
      "text/plain": [
       "\u001b[2;36m[19:02:20]\u001b[0m\u001b[2;36m \u001b[0m\u001b[34mINFO    \u001b[0m HTTP Request: \u001b[1;33mPOST\u001b[0m                                        \u001b]8;id=975261;file:///Users/eric/Library/Caches/pypoetry/virtualenvs/svaeva-evaluation-GkJecWxE-py3.11/lib/python3.11/site-packages/httpx/_client.py\u001b\\\u001b[2m_client.py\u001b[0m\u001b]8;;\u001b\\\u001b[2m:\u001b[0m\u001b]8;id=534551;file:///Users/eric/Library/Caches/pypoetry/virtualenvs/svaeva-evaluation-GkJecWxE-py3.11/lib/python3.11/site-packages/httpx/_client.py#1026\u001b\\\u001b[2m1026\u001b[0m\u001b]8;;\u001b\\\n",
       "                    \u001b[4;94mhttps://api.openai.com/v1/chat/completions\u001b[0m \u001b[32m\"HTTP/1.1 200 \u001b[0m                \n",
       "                    \u001b[32mOK\"\u001b[0m                                                                      \n"
      ]
     },
     "metadata": {},
     "output_type": "display_data"
    },
    {
     "data": {
      "text/html": [
       "<pre style=\"white-space:pre;overflow-x:auto;line-height:normal;font-family:Menlo,'DejaVu Sans Mono',consolas,'Courier New',monospace\"><span style=\"color: #7fbfbf; text-decoration-color: #7fbfbf\">[19:02:43] </span><span style=\"color: #000080; text-decoration-color: #000080\">INFO    </span> HTTP Request: <span style=\"color: #808000; text-decoration-color: #808000; font-weight: bold\">POST</span>                                        <a href=\"file:///Users/eric/Library/Caches/pypoetry/virtualenvs/svaeva-evaluation-GkJecWxE-py3.11/lib/python3.11/site-packages/httpx/_client.py\"><span style=\"color: #7f7f7f; text-decoration-color: #7f7f7f\">_client.py</span></a><span style=\"color: #7f7f7f; text-decoration-color: #7f7f7f\">:</span><a href=\"file:///Users/eric/Library/Caches/pypoetry/virtualenvs/svaeva-evaluation-GkJecWxE-py3.11/lib/python3.11/site-packages/httpx/_client.py#1026\"><span style=\"color: #7f7f7f; text-decoration-color: #7f7f7f\">1026</span></a>\n",
       "                    <span style=\"color: #0000ff; text-decoration-color: #0000ff; text-decoration: underline\">https://api.openai.com/v1/images/generations</span> <span style=\"color: #008000; text-decoration-color: #008000\">\"HTTP/1.1 </span>                  \n",
       "                    <span style=\"color: #008000; text-decoration-color: #008000\">200 OK\"</span>                                                                  \n",
       "</pre>\n"
      ],
      "text/plain": [
       "\u001b[2;36m[19:02:43]\u001b[0m\u001b[2;36m \u001b[0m\u001b[34mINFO    \u001b[0m HTTP Request: \u001b[1;33mPOST\u001b[0m                                        \u001b]8;id=904949;file:///Users/eric/Library/Caches/pypoetry/virtualenvs/svaeva-evaluation-GkJecWxE-py3.11/lib/python3.11/site-packages/httpx/_client.py\u001b\\\u001b[2m_client.py\u001b[0m\u001b]8;;\u001b\\\u001b[2m:\u001b[0m\u001b]8;id=885821;file:///Users/eric/Library/Caches/pypoetry/virtualenvs/svaeva-evaluation-GkJecWxE-py3.11/lib/python3.11/site-packages/httpx/_client.py#1026\u001b\\\u001b[2m1026\u001b[0m\u001b]8;;\u001b\\\n",
       "                    \u001b[4;94mhttps://api.openai.com/v1/images/generations\u001b[0m \u001b[32m\"HTTP/1.1 \u001b[0m                  \n",
       "                    \u001b[32m200 OK\"\u001b[0m                                                                  \n"
      ]
     },
     "metadata": {},
     "output_type": "display_data"
    },
    {
     "data": {
      "text/html": [
       "<pre style=\"white-space:pre;overflow-x:auto;line-height:normal;font-family:Menlo,'DejaVu Sans Mono',consolas,'Courier New',monospace\"><span style=\"color: #7fbfbf; text-decoration-color: #7fbfbf\">[19:02:44] </span><span style=\"color: #000080; text-decoration-color: #000080\">INFO    </span> HTTP Request: <span style=\"color: #808000; text-decoration-color: #808000; font-weight: bold\">GET</span> <span style=\"color: #0000ff; text-decoration-color: #0000ff; text-decoration: underline\">https://oaidalleapiprodscus.blob.core.w</span> <a href=\"file:///Users/eric/Library/Caches/pypoetry/virtualenvs/svaeva-evaluation-GkJecWxE-py3.11/lib/python3.11/site-packages/httpx/_client.py\"><span style=\"color: #7f7f7f; text-decoration-color: #7f7f7f\">_client.py</span></a><span style=\"color: #7f7f7f; text-decoration-color: #7f7f7f\">:</span><a href=\"file:///Users/eric/Library/Caches/pypoetry/virtualenvs/svaeva-evaluation-GkJecWxE-py3.11/lib/python3.11/site-packages/httpx/_client.py#1026\"><span style=\"color: #7f7f7f; text-decoration-color: #7f7f7f\">1026</span></a>\n",
       "                    <span style=\"color: #0000ff; text-decoration-color: #0000ff; text-decoration: underline\">indows.net/private/org-77FRazywqMikL1SL1V5OQ0dm/user-gR3q</span>                \n",
       "                    <span style=\"color: #0000ff; text-decoration-color: #0000ff; text-decoration: underline\">3d0UmWWt3X6p4JlCQBwq/img-nq0q7wB3CuhYp6TXex9k8TdX.png?st=</span>                \n",
       "                    <span style=\"color: #0000ff; text-decoration-color: #0000ff; text-decoration: underline\">2024-05-01T17%3A02%3A43Z&amp;se=2024-05-01T19%3A02%3A43Z&amp;sp=r</span>                \n",
       "                    <span style=\"color: #0000ff; text-decoration-color: #0000ff; text-decoration: underline\">&amp;sv=2021-08-06&amp;sr=b&amp;rscd=inline&amp;rsct=image/png&amp;skoid=6aaa</span>                \n",
       "                    <span style=\"color: #0000ff; text-decoration-color: #0000ff; text-decoration: underline\">dede-4fb3-4698-a8f6-684d7786b067&amp;sktid=a48cca56-e6da-484e</span>                \n",
       "                    <span style=\"color: #0000ff; text-decoration-color: #0000ff; text-decoration: underline\">-a814-9c849652bcb3&amp;skt=2024-04-30T19%3A38%3A53Z&amp;ske=2024-</span>                \n",
       "                    <span style=\"color: #0000ff; text-decoration-color: #0000ff; text-decoration: underline\">05-01T19%3A38%3A53Z&amp;sks=b&amp;skv=2021-08-06&amp;sig=LIXpBntEv/82</span>                \n",
       "                    <span style=\"color: #0000ff; text-decoration-color: #0000ff; text-decoration: underline\">2d9uLCzMA2/i33knz/4jQ6YySGk1r5U%3D</span> <span style=\"color: #008000; text-decoration-color: #008000\">\"HTTP/1.1 200 OK\"</span>                     \n",
       "</pre>\n"
      ],
      "text/plain": [
       "\u001b[2;36m[19:02:44]\u001b[0m\u001b[2;36m \u001b[0m\u001b[34mINFO    \u001b[0m HTTP Request: \u001b[1;33mGET\u001b[0m \u001b[4;94mhttps://oaidalleapiprodscus.blob.core.w\u001b[0m \u001b]8;id=929175;file:///Users/eric/Library/Caches/pypoetry/virtualenvs/svaeva-evaluation-GkJecWxE-py3.11/lib/python3.11/site-packages/httpx/_client.py\u001b\\\u001b[2m_client.py\u001b[0m\u001b]8;;\u001b\\\u001b[2m:\u001b[0m\u001b]8;id=750829;file:///Users/eric/Library/Caches/pypoetry/virtualenvs/svaeva-evaluation-GkJecWxE-py3.11/lib/python3.11/site-packages/httpx/_client.py#1026\u001b\\\u001b[2m1026\u001b[0m\u001b]8;;\u001b\\\n",
       "                    \u001b[4;94mindows.net/private/org-77FRazywqMikL1SL1V5OQ0dm/user-gR3q\u001b[0m                \n",
       "                    \u001b[4;94m3d0UmWWt3X6p4JlCQBwq/img-nq0q7wB3CuhYp6TXex9k8TdX.png?\u001b[0m\u001b[4;94mst\u001b[0m\u001b[4;94m=\u001b[0m                \n",
       "                    \u001b[4;94m2024\u001b[0m\u001b[4;94m-05-01T17%3A02%3A43Z&\u001b[0m\u001b[4;94mse\u001b[0m\u001b[4;94m=\u001b[0m\u001b[4;94m2024\u001b[0m\u001b[4;94m-05-01T19%3A02%3A43Z&\u001b[0m\u001b[4;94msp\u001b[0m\u001b[4;94m=\u001b[0m\u001b[4;94mr\u001b[0m                \n",
       "                    \u001b[4;94m&\u001b[0m\u001b[4;94msv\u001b[0m\u001b[4;94m=\u001b[0m\u001b[4;94m2021\u001b[0m\u001b[4;94m-08-06&\u001b[0m\u001b[4;94msr\u001b[0m\u001b[4;94m=\u001b[0m\u001b[4;94mb\u001b[0m\u001b[4;94m&\u001b[0m\u001b[4;94mrscd\u001b[0m\u001b[4;94m=\u001b[0m\u001b[4;94minline\u001b[0m\u001b[4;94m&\u001b[0m\u001b[4;94mrsct\u001b[0m\u001b[4;94m=\u001b[0m\u001b[4;94mimage\u001b[0m\u001b[4;94m/png&\u001b[0m\u001b[4;94mskoid\u001b[0m\u001b[4;94m=\u001b[0m\u001b[4;94m6aaa\u001b[0m                \n",
       "                    \u001b[4;94mdede\u001b[0m\u001b[4;94m-4fb3-4698-a8f6-684d7786b067&\u001b[0m\u001b[4;94msktid\u001b[0m\u001b[4;94m=\u001b[0m\u001b[4;94ma48cca56\u001b[0m\u001b[4;94m-e6da-484e\u001b[0m                \n",
       "                    \u001b[4;94m-a814-9c849652bcb3&\u001b[0m\u001b[4;94mskt\u001b[0m\u001b[4;94m=\u001b[0m\u001b[4;94m2024\u001b[0m\u001b[4;94m-04-30T19%3A38%3A53Z&\u001b[0m\u001b[4;94mske\u001b[0m\u001b[4;94m=\u001b[0m\u001b[4;94m2024\u001b[0m\u001b[4;94m-\u001b[0m                \n",
       "                    \u001b[4;94m05-01T19%3A38%3A53Z&\u001b[0m\u001b[4;94msks\u001b[0m\u001b[4;94m=\u001b[0m\u001b[4;94mb\u001b[0m\u001b[4;94m&\u001b[0m\u001b[4;94mskv\u001b[0m\u001b[4;94m=\u001b[0m\u001b[4;94m2021\u001b[0m\u001b[4;94m-08-06&\u001b[0m\u001b[4;94msig\u001b[0m\u001b[4;94m=\u001b[0m\u001b[4;94mLIXpBntEv\u001b[0m\u001b[4;94m/82\u001b[0m                \n",
       "                    \u001b[4;94m2d9uLCzMA2/i33knz/4jQ6YySGk1r5U%3D\u001b[0m \u001b[32m\"HTTP/1.1 200 OK\"\u001b[0m                     \n"
      ]
     },
     "metadata": {},
     "output_type": "display_data"
    },
    {
     "name": "stdout",
     "output_type": "stream",
     "text": [
      "pots 2\n",
      "sim-consonancia-pots-002\n"
     ]
    },
    {
     "data": {
      "text/html": [
       "<pre style=\"white-space:pre;overflow-x:auto;line-height:normal;font-family:Menlo,'DejaVu Sans Mono',consolas,'Courier New',monospace\"><span style=\"color: #7fbfbf; text-decoration-color: #7fbfbf\">[19:02:59] </span><span style=\"color: #000080; text-decoration-color: #000080\">INFO    </span> HTTP Request: <span style=\"color: #808000; text-decoration-color: #808000; font-weight: bold\">POST</span>                                        <a href=\"file:///Users/eric/Library/Caches/pypoetry/virtualenvs/svaeva-evaluation-GkJecWxE-py3.11/lib/python3.11/site-packages/httpx/_client.py\"><span style=\"color: #7f7f7f; text-decoration-color: #7f7f7f\">_client.py</span></a><span style=\"color: #7f7f7f; text-decoration-color: #7f7f7f\">:</span><a href=\"file:///Users/eric/Library/Caches/pypoetry/virtualenvs/svaeva-evaluation-GkJecWxE-py3.11/lib/python3.11/site-packages/httpx/_client.py#1026\"><span style=\"color: #7f7f7f; text-decoration-color: #7f7f7f\">1026</span></a>\n",
       "                    <span style=\"color: #0000ff; text-decoration-color: #0000ff; text-decoration: underline\">https://api.openai.com/v1/chat/completions</span> <span style=\"color: #008000; text-decoration-color: #008000\">\"HTTP/1.1 200 </span>                \n",
       "                    <span style=\"color: #008000; text-decoration-color: #008000\">OK\"</span>                                                                      \n",
       "</pre>\n"
      ],
      "text/plain": [
       "\u001b[2;36m[19:02:59]\u001b[0m\u001b[2;36m \u001b[0m\u001b[34mINFO    \u001b[0m HTTP Request: \u001b[1;33mPOST\u001b[0m                                        \u001b]8;id=242845;file:///Users/eric/Library/Caches/pypoetry/virtualenvs/svaeva-evaluation-GkJecWxE-py3.11/lib/python3.11/site-packages/httpx/_client.py\u001b\\\u001b[2m_client.py\u001b[0m\u001b]8;;\u001b\\\u001b[2m:\u001b[0m\u001b]8;id=829601;file:///Users/eric/Library/Caches/pypoetry/virtualenvs/svaeva-evaluation-GkJecWxE-py3.11/lib/python3.11/site-packages/httpx/_client.py#1026\u001b\\\u001b[2m1026\u001b[0m\u001b]8;;\u001b\\\n",
       "                    \u001b[4;94mhttps://api.openai.com/v1/chat/completions\u001b[0m \u001b[32m\"HTTP/1.1 200 \u001b[0m                \n",
       "                    \u001b[32mOK\"\u001b[0m                                                                      \n"
      ]
     },
     "metadata": {},
     "output_type": "display_data"
    },
    {
     "data": {
      "text/html": [
       "<pre style=\"white-space:pre;overflow-x:auto;line-height:normal;font-family:Menlo,'DejaVu Sans Mono',consolas,'Courier New',monospace\"><span style=\"color: #7fbfbf; text-decoration-color: #7fbfbf\">[19:03:18] </span><span style=\"color: #000080; text-decoration-color: #000080\">INFO    </span> HTTP Request: <span style=\"color: #808000; text-decoration-color: #808000; font-weight: bold\">POST</span>                                        <a href=\"file:///Users/eric/Library/Caches/pypoetry/virtualenvs/svaeva-evaluation-GkJecWxE-py3.11/lib/python3.11/site-packages/httpx/_client.py\"><span style=\"color: #7f7f7f; text-decoration-color: #7f7f7f\">_client.py</span></a><span style=\"color: #7f7f7f; text-decoration-color: #7f7f7f\">:</span><a href=\"file:///Users/eric/Library/Caches/pypoetry/virtualenvs/svaeva-evaluation-GkJecWxE-py3.11/lib/python3.11/site-packages/httpx/_client.py#1026\"><span style=\"color: #7f7f7f; text-decoration-color: #7f7f7f\">1026</span></a>\n",
       "                    <span style=\"color: #0000ff; text-decoration-color: #0000ff; text-decoration: underline\">https://api.openai.com/v1/images/generations</span> <span style=\"color: #008000; text-decoration-color: #008000\">\"HTTP/1.1 </span>                  \n",
       "                    <span style=\"color: #008000; text-decoration-color: #008000\">200 OK\"</span>                                                                  \n",
       "</pre>\n"
      ],
      "text/plain": [
       "\u001b[2;36m[19:03:18]\u001b[0m\u001b[2;36m \u001b[0m\u001b[34mINFO    \u001b[0m HTTP Request: \u001b[1;33mPOST\u001b[0m                                        \u001b]8;id=302901;file:///Users/eric/Library/Caches/pypoetry/virtualenvs/svaeva-evaluation-GkJecWxE-py3.11/lib/python3.11/site-packages/httpx/_client.py\u001b\\\u001b[2m_client.py\u001b[0m\u001b]8;;\u001b\\\u001b[2m:\u001b[0m\u001b]8;id=602029;file:///Users/eric/Library/Caches/pypoetry/virtualenvs/svaeva-evaluation-GkJecWxE-py3.11/lib/python3.11/site-packages/httpx/_client.py#1026\u001b\\\u001b[2m1026\u001b[0m\u001b]8;;\u001b\\\n",
       "                    \u001b[4;94mhttps://api.openai.com/v1/images/generations\u001b[0m \u001b[32m\"HTTP/1.1 \u001b[0m                  \n",
       "                    \u001b[32m200 OK\"\u001b[0m                                                                  \n"
      ]
     },
     "metadata": {},
     "output_type": "display_data"
    },
    {
     "data": {
      "text/html": [
       "<pre style=\"white-space:pre;overflow-x:auto;line-height:normal;font-family:Menlo,'DejaVu Sans Mono',consolas,'Courier New',monospace\"><span style=\"color: #7fbfbf; text-decoration-color: #7fbfbf\">           </span><span style=\"color: #000080; text-decoration-color: #000080\">INFO    </span> HTTP Request: <span style=\"color: #808000; text-decoration-color: #808000; font-weight: bold\">GET</span> <span style=\"color: #0000ff; text-decoration-color: #0000ff; text-decoration: underline\">https://oaidalleapiprodscus.blob.core.w</span> <a href=\"file:///Users/eric/Library/Caches/pypoetry/virtualenvs/svaeva-evaluation-GkJecWxE-py3.11/lib/python3.11/site-packages/httpx/_client.py\"><span style=\"color: #7f7f7f; text-decoration-color: #7f7f7f\">_client.py</span></a><span style=\"color: #7f7f7f; text-decoration-color: #7f7f7f\">:</span><a href=\"file:///Users/eric/Library/Caches/pypoetry/virtualenvs/svaeva-evaluation-GkJecWxE-py3.11/lib/python3.11/site-packages/httpx/_client.py#1026\"><span style=\"color: #7f7f7f; text-decoration-color: #7f7f7f\">1026</span></a>\n",
       "                    <span style=\"color: #0000ff; text-decoration-color: #0000ff; text-decoration: underline\">indows.net/private/org-77FRazywqMikL1SL1V5OQ0dm/user-gR3q</span>                \n",
       "                    <span style=\"color: #0000ff; text-decoration-color: #0000ff; text-decoration: underline\">3d0UmWWt3X6p4JlCQBwq/img-2JBtxbM94cvXwWKJiaNmnMhr.png?st=</span>                \n",
       "                    <span style=\"color: #0000ff; text-decoration-color: #0000ff; text-decoration: underline\">2024-05-01T17%3A03%3A18Z&amp;se=2024-05-01T19%3A03%3A18Z&amp;sp=r</span>                \n",
       "                    <span style=\"color: #0000ff; text-decoration-color: #0000ff; text-decoration: underline\">&amp;sv=2021-08-06&amp;sr=b&amp;rscd=inline&amp;rsct=image/png&amp;skoid=6aaa</span>                \n",
       "                    <span style=\"color: #0000ff; text-decoration-color: #0000ff; text-decoration: underline\">dede-4fb3-4698-a8f6-684d7786b067&amp;sktid=a48cca56-e6da-484e</span>                \n",
       "                    <span style=\"color: #0000ff; text-decoration-color: #0000ff; text-decoration: underline\">-a814-9c849652bcb3&amp;skt=2024-05-01T09%3A22%3A53Z&amp;ske=2024-</span>                \n",
       "                    <span style=\"color: #0000ff; text-decoration-color: #0000ff; text-decoration: underline\">05-02T09%3A22%3A53Z&amp;sks=b&amp;skv=2021-08-06&amp;sig=YnAIN6%2BZ%2</span>                \n",
       "                    <span style=\"color: #0000ff; text-decoration-color: #0000ff; text-decoration: underline\">BPirbLnk59OxKrZigwzK2sg3ofvwpwELb%2BQ%3D</span> <span style=\"color: #008000; text-decoration-color: #008000\">\"HTTP/1.1 200 </span>                  \n",
       "                    <span style=\"color: #008000; text-decoration-color: #008000\">OK\"</span>                                                                      \n",
       "</pre>\n"
      ],
      "text/plain": [
       "\u001b[2;36m          \u001b[0m\u001b[2;36m \u001b[0m\u001b[34mINFO    \u001b[0m HTTP Request: \u001b[1;33mGET\u001b[0m \u001b[4;94mhttps://oaidalleapiprodscus.blob.core.w\u001b[0m \u001b]8;id=637326;file:///Users/eric/Library/Caches/pypoetry/virtualenvs/svaeva-evaluation-GkJecWxE-py3.11/lib/python3.11/site-packages/httpx/_client.py\u001b\\\u001b[2m_client.py\u001b[0m\u001b]8;;\u001b\\\u001b[2m:\u001b[0m\u001b]8;id=395372;file:///Users/eric/Library/Caches/pypoetry/virtualenvs/svaeva-evaluation-GkJecWxE-py3.11/lib/python3.11/site-packages/httpx/_client.py#1026\u001b\\\u001b[2m1026\u001b[0m\u001b]8;;\u001b\\\n",
       "                    \u001b[4;94mindows.net/private/org-77FRazywqMikL1SL1V5OQ0dm/user-gR3q\u001b[0m                \n",
       "                    \u001b[4;94m3d0UmWWt3X6p4JlCQBwq/img-2JBtxbM94cvXwWKJiaNmnMhr.png?\u001b[0m\u001b[4;94mst\u001b[0m\u001b[4;94m=\u001b[0m                \n",
       "                    \u001b[4;94m2024\u001b[0m\u001b[4;94m-05-01T17%3A03%3A18Z&\u001b[0m\u001b[4;94mse\u001b[0m\u001b[4;94m=\u001b[0m\u001b[4;94m2024\u001b[0m\u001b[4;94m-05-01T19%3A03%3A18Z&\u001b[0m\u001b[4;94msp\u001b[0m\u001b[4;94m=\u001b[0m\u001b[4;94mr\u001b[0m                \n",
       "                    \u001b[4;94m&\u001b[0m\u001b[4;94msv\u001b[0m\u001b[4;94m=\u001b[0m\u001b[4;94m2021\u001b[0m\u001b[4;94m-08-06&\u001b[0m\u001b[4;94msr\u001b[0m\u001b[4;94m=\u001b[0m\u001b[4;94mb\u001b[0m\u001b[4;94m&\u001b[0m\u001b[4;94mrscd\u001b[0m\u001b[4;94m=\u001b[0m\u001b[4;94minline\u001b[0m\u001b[4;94m&\u001b[0m\u001b[4;94mrsct\u001b[0m\u001b[4;94m=\u001b[0m\u001b[4;94mimage\u001b[0m\u001b[4;94m/png&\u001b[0m\u001b[4;94mskoid\u001b[0m\u001b[4;94m=\u001b[0m\u001b[4;94m6aaa\u001b[0m                \n",
       "                    \u001b[4;94mdede\u001b[0m\u001b[4;94m-4fb3-4698-a8f6-684d7786b067&\u001b[0m\u001b[4;94msktid\u001b[0m\u001b[4;94m=\u001b[0m\u001b[4;94ma48cca56\u001b[0m\u001b[4;94m-e6da-484e\u001b[0m                \n",
       "                    \u001b[4;94m-a814-9c849652bcb3&\u001b[0m\u001b[4;94mskt\u001b[0m\u001b[4;94m=\u001b[0m\u001b[4;94m2024\u001b[0m\u001b[4;94m-05-01T09%3A22%3A53Z&\u001b[0m\u001b[4;94mske\u001b[0m\u001b[4;94m=\u001b[0m\u001b[4;94m2024\u001b[0m\u001b[4;94m-\u001b[0m                \n",
       "                    \u001b[4;94m05-02T09%3A22%3A53Z&\u001b[0m\u001b[4;94msks\u001b[0m\u001b[4;94m=\u001b[0m\u001b[4;94mb\u001b[0m\u001b[4;94m&\u001b[0m\u001b[4;94mskv\u001b[0m\u001b[4;94m=\u001b[0m\u001b[4;94m2021\u001b[0m\u001b[4;94m-08-06&\u001b[0m\u001b[4;94msig\u001b[0m\u001b[4;94m=\u001b[0m\u001b[4;94mYnAIN6\u001b[0m\u001b[4;94m%2BZ%2\u001b[0m                \n",
       "                    \u001b[4;94mBPirbLnk59OxKrZigwzK2sg3ofvwpwELb%2BQ%3D\u001b[0m \u001b[32m\"HTTP/1.1 200 \u001b[0m                  \n",
       "                    \u001b[32mOK\"\u001b[0m                                                                      \n"
      ]
     },
     "metadata": {},
     "output_type": "display_data"
    },
    {
     "name": "stdout",
     "output_type": "stream",
     "text": [
      "pots 3\n",
      "sim-consonancia-pots-003\n"
     ]
    },
    {
     "data": {
      "text/html": [
       "<pre style=\"white-space:pre;overflow-x:auto;line-height:normal;font-family:Menlo,'DejaVu Sans Mono',consolas,'Courier New',monospace\"><span style=\"color: #7fbfbf; text-decoration-color: #7fbfbf\">[19:03:34] </span><span style=\"color: #000080; text-decoration-color: #000080\">INFO    </span> HTTP Request: <span style=\"color: #808000; text-decoration-color: #808000; font-weight: bold\">POST</span>                                        <a href=\"file:///Users/eric/Library/Caches/pypoetry/virtualenvs/svaeva-evaluation-GkJecWxE-py3.11/lib/python3.11/site-packages/httpx/_client.py\"><span style=\"color: #7f7f7f; text-decoration-color: #7f7f7f\">_client.py</span></a><span style=\"color: #7f7f7f; text-decoration-color: #7f7f7f\">:</span><a href=\"file:///Users/eric/Library/Caches/pypoetry/virtualenvs/svaeva-evaluation-GkJecWxE-py3.11/lib/python3.11/site-packages/httpx/_client.py#1026\"><span style=\"color: #7f7f7f; text-decoration-color: #7f7f7f\">1026</span></a>\n",
       "                    <span style=\"color: #0000ff; text-decoration-color: #0000ff; text-decoration: underline\">https://api.openai.com/v1/chat/completions</span> <span style=\"color: #008000; text-decoration-color: #008000\">\"HTTP/1.1 200 </span>                \n",
       "                    <span style=\"color: #008000; text-decoration-color: #008000\">OK\"</span>                                                                      \n",
       "</pre>\n"
      ],
      "text/plain": [
       "\u001b[2;36m[19:03:34]\u001b[0m\u001b[2;36m \u001b[0m\u001b[34mINFO    \u001b[0m HTTP Request: \u001b[1;33mPOST\u001b[0m                                        \u001b]8;id=376389;file:///Users/eric/Library/Caches/pypoetry/virtualenvs/svaeva-evaluation-GkJecWxE-py3.11/lib/python3.11/site-packages/httpx/_client.py\u001b\\\u001b[2m_client.py\u001b[0m\u001b]8;;\u001b\\\u001b[2m:\u001b[0m\u001b]8;id=841237;file:///Users/eric/Library/Caches/pypoetry/virtualenvs/svaeva-evaluation-GkJecWxE-py3.11/lib/python3.11/site-packages/httpx/_client.py#1026\u001b\\\u001b[2m1026\u001b[0m\u001b]8;;\u001b\\\n",
       "                    \u001b[4;94mhttps://api.openai.com/v1/chat/completions\u001b[0m \u001b[32m\"HTTP/1.1 200 \u001b[0m                \n",
       "                    \u001b[32mOK\"\u001b[0m                                                                      \n"
      ]
     },
     "metadata": {},
     "output_type": "display_data"
    },
    {
     "data": {
      "text/html": [
       "<pre style=\"white-space:pre;overflow-x:auto;line-height:normal;font-family:Menlo,'DejaVu Sans Mono',consolas,'Courier New',monospace\"><span style=\"color: #7fbfbf; text-decoration-color: #7fbfbf\">[19:03:53] </span><span style=\"color: #000080; text-decoration-color: #000080\">INFO    </span> HTTP Request: <span style=\"color: #808000; text-decoration-color: #808000; font-weight: bold\">POST</span>                                        <a href=\"file:///Users/eric/Library/Caches/pypoetry/virtualenvs/svaeva-evaluation-GkJecWxE-py3.11/lib/python3.11/site-packages/httpx/_client.py\"><span style=\"color: #7f7f7f; text-decoration-color: #7f7f7f\">_client.py</span></a><span style=\"color: #7f7f7f; text-decoration-color: #7f7f7f\">:</span><a href=\"file:///Users/eric/Library/Caches/pypoetry/virtualenvs/svaeva-evaluation-GkJecWxE-py3.11/lib/python3.11/site-packages/httpx/_client.py#1026\"><span style=\"color: #7f7f7f; text-decoration-color: #7f7f7f\">1026</span></a>\n",
       "                    <span style=\"color: #0000ff; text-decoration-color: #0000ff; text-decoration: underline\">https://api.openai.com/v1/images/generations</span> <span style=\"color: #008000; text-decoration-color: #008000\">\"HTTP/1.1 </span>                  \n",
       "                    <span style=\"color: #008000; text-decoration-color: #008000\">200 OK\"</span>                                                                  \n",
       "</pre>\n"
      ],
      "text/plain": [
       "\u001b[2;36m[19:03:53]\u001b[0m\u001b[2;36m \u001b[0m\u001b[34mINFO    \u001b[0m HTTP Request: \u001b[1;33mPOST\u001b[0m                                        \u001b]8;id=293298;file:///Users/eric/Library/Caches/pypoetry/virtualenvs/svaeva-evaluation-GkJecWxE-py3.11/lib/python3.11/site-packages/httpx/_client.py\u001b\\\u001b[2m_client.py\u001b[0m\u001b]8;;\u001b\\\u001b[2m:\u001b[0m\u001b]8;id=671994;file:///Users/eric/Library/Caches/pypoetry/virtualenvs/svaeva-evaluation-GkJecWxE-py3.11/lib/python3.11/site-packages/httpx/_client.py#1026\u001b\\\u001b[2m1026\u001b[0m\u001b]8;;\u001b\\\n",
       "                    \u001b[4;94mhttps://api.openai.com/v1/images/generations\u001b[0m \u001b[32m\"HTTP/1.1 \u001b[0m                  \n",
       "                    \u001b[32m200 OK\"\u001b[0m                                                                  \n"
      ]
     },
     "metadata": {},
     "output_type": "display_data"
    },
    {
     "data": {
      "text/html": [
       "<pre style=\"white-space:pre;overflow-x:auto;line-height:normal;font-family:Menlo,'DejaVu Sans Mono',consolas,'Courier New',monospace\"><span style=\"color: #7fbfbf; text-decoration-color: #7fbfbf\">[19:03:54] </span><span style=\"color: #000080; text-decoration-color: #000080\">INFO    </span> HTTP Request: <span style=\"color: #808000; text-decoration-color: #808000; font-weight: bold\">GET</span> <span style=\"color: #0000ff; text-decoration-color: #0000ff; text-decoration: underline\">https://oaidalleapiprodscus.blob.core.w</span> <a href=\"file:///Users/eric/Library/Caches/pypoetry/virtualenvs/svaeva-evaluation-GkJecWxE-py3.11/lib/python3.11/site-packages/httpx/_client.py\"><span style=\"color: #7f7f7f; text-decoration-color: #7f7f7f\">_client.py</span></a><span style=\"color: #7f7f7f; text-decoration-color: #7f7f7f\">:</span><a href=\"file:///Users/eric/Library/Caches/pypoetry/virtualenvs/svaeva-evaluation-GkJecWxE-py3.11/lib/python3.11/site-packages/httpx/_client.py#1026\"><span style=\"color: #7f7f7f; text-decoration-color: #7f7f7f\">1026</span></a>\n",
       "                    <span style=\"color: #0000ff; text-decoration-color: #0000ff; text-decoration: underline\">indows.net/private/org-77FRazywqMikL1SL1V5OQ0dm/user-gR3q</span>                \n",
       "                    <span style=\"color: #0000ff; text-decoration-color: #0000ff; text-decoration: underline\">3d0UmWWt3X6p4JlCQBwq/img-JZLR0yEvMBoYYe0jjLpVGZYV.png?st=</span>                \n",
       "                    <span style=\"color: #0000ff; text-decoration-color: #0000ff; text-decoration: underline\">2024-05-01T17%3A03%3A53Z&amp;se=2024-05-01T19%3A03%3A53Z&amp;sp=r</span>                \n",
       "                    <span style=\"color: #0000ff; text-decoration-color: #0000ff; text-decoration: underline\">&amp;sv=2021-08-06&amp;sr=b&amp;rscd=inline&amp;rsct=image/png&amp;skoid=6aaa</span>                \n",
       "                    <span style=\"color: #0000ff; text-decoration-color: #0000ff; text-decoration: underline\">dede-4fb3-4698-a8f6-684d7786b067&amp;sktid=a48cca56-e6da-484e</span>                \n",
       "                    <span style=\"color: #0000ff; text-decoration-color: #0000ff; text-decoration: underline\">-a814-9c849652bcb3&amp;skt=2024-04-30T21%3A06%3A19Z&amp;ske=2024-</span>                \n",
       "                    <span style=\"color: #0000ff; text-decoration-color: #0000ff; text-decoration: underline\">05-01T21%3A06%3A19Z&amp;sks=b&amp;skv=2021-08-06&amp;sig=PQP7X%2BjnRQ</span>                \n",
       "                    <span style=\"color: #0000ff; text-decoration-color: #0000ff; text-decoration: underline\">ryt0%2B9eChNF4fVE/cUpbQMQC0DKo19Ymo%3D</span> <span style=\"color: #008000; text-decoration-color: #008000\">\"HTTP/1.1 200 OK\"</span>                 \n",
       "</pre>\n"
      ],
      "text/plain": [
       "\u001b[2;36m[19:03:54]\u001b[0m\u001b[2;36m \u001b[0m\u001b[34mINFO    \u001b[0m HTTP Request: \u001b[1;33mGET\u001b[0m \u001b[4;94mhttps://oaidalleapiprodscus.blob.core.w\u001b[0m \u001b]8;id=890527;file:///Users/eric/Library/Caches/pypoetry/virtualenvs/svaeva-evaluation-GkJecWxE-py3.11/lib/python3.11/site-packages/httpx/_client.py\u001b\\\u001b[2m_client.py\u001b[0m\u001b]8;;\u001b\\\u001b[2m:\u001b[0m\u001b]8;id=593958;file:///Users/eric/Library/Caches/pypoetry/virtualenvs/svaeva-evaluation-GkJecWxE-py3.11/lib/python3.11/site-packages/httpx/_client.py#1026\u001b\\\u001b[2m1026\u001b[0m\u001b]8;;\u001b\\\n",
       "                    \u001b[4;94mindows.net/private/org-77FRazywqMikL1SL1V5OQ0dm/user-gR3q\u001b[0m                \n",
       "                    \u001b[4;94m3d0UmWWt3X6p4JlCQBwq/img-JZLR0yEvMBoYYe0jjLpVGZYV.png?\u001b[0m\u001b[4;94mst\u001b[0m\u001b[4;94m=\u001b[0m                \n",
       "                    \u001b[4;94m2024\u001b[0m\u001b[4;94m-05-01T17%3A03%3A53Z&\u001b[0m\u001b[4;94mse\u001b[0m\u001b[4;94m=\u001b[0m\u001b[4;94m2024\u001b[0m\u001b[4;94m-05-01T19%3A03%3A53Z&\u001b[0m\u001b[4;94msp\u001b[0m\u001b[4;94m=\u001b[0m\u001b[4;94mr\u001b[0m                \n",
       "                    \u001b[4;94m&\u001b[0m\u001b[4;94msv\u001b[0m\u001b[4;94m=\u001b[0m\u001b[4;94m2021\u001b[0m\u001b[4;94m-08-06&\u001b[0m\u001b[4;94msr\u001b[0m\u001b[4;94m=\u001b[0m\u001b[4;94mb\u001b[0m\u001b[4;94m&\u001b[0m\u001b[4;94mrscd\u001b[0m\u001b[4;94m=\u001b[0m\u001b[4;94minline\u001b[0m\u001b[4;94m&\u001b[0m\u001b[4;94mrsct\u001b[0m\u001b[4;94m=\u001b[0m\u001b[4;94mimage\u001b[0m\u001b[4;94m/png&\u001b[0m\u001b[4;94mskoid\u001b[0m\u001b[4;94m=\u001b[0m\u001b[4;94m6aaa\u001b[0m                \n",
       "                    \u001b[4;94mdede\u001b[0m\u001b[4;94m-4fb3-4698-a8f6-684d7786b067&\u001b[0m\u001b[4;94msktid\u001b[0m\u001b[4;94m=\u001b[0m\u001b[4;94ma48cca56\u001b[0m\u001b[4;94m-e6da-484e\u001b[0m                \n",
       "                    \u001b[4;94m-a814-9c849652bcb3&\u001b[0m\u001b[4;94mskt\u001b[0m\u001b[4;94m=\u001b[0m\u001b[4;94m2024\u001b[0m\u001b[4;94m-04-30T21%3A06%3A19Z&\u001b[0m\u001b[4;94mske\u001b[0m\u001b[4;94m=\u001b[0m\u001b[4;94m2024\u001b[0m\u001b[4;94m-\u001b[0m                \n",
       "                    \u001b[4;94m05-01T21%3A06%3A19Z&\u001b[0m\u001b[4;94msks\u001b[0m\u001b[4;94m=\u001b[0m\u001b[4;94mb\u001b[0m\u001b[4;94m&\u001b[0m\u001b[4;94mskv\u001b[0m\u001b[4;94m=\u001b[0m\u001b[4;94m2021\u001b[0m\u001b[4;94m-08-06&\u001b[0m\u001b[4;94msig\u001b[0m\u001b[4;94m=\u001b[0m\u001b[4;94mPQP7X\u001b[0m\u001b[4;94m%2BjnRQ\u001b[0m                \n",
       "                    \u001b[4;94mryt0%2B9eChNF4fVE/cUpbQMQC0DKo19Ymo%3D\u001b[0m \u001b[32m\"HTTP/1.1 200 OK\"\u001b[0m                 \n"
      ]
     },
     "metadata": {},
     "output_type": "display_data"
    },
    {
     "name": "stdout",
     "output_type": "stream",
     "text": [
      "pots 4\n",
      "sim-consonancia-pots-004\n"
     ]
    },
    {
     "data": {
      "text/html": [
       "<pre style=\"white-space:pre;overflow-x:auto;line-height:normal;font-family:Menlo,'DejaVu Sans Mono',consolas,'Courier New',monospace\"><span style=\"color: #7fbfbf; text-decoration-color: #7fbfbf\">[19:04:04] </span><span style=\"color: #000080; text-decoration-color: #000080\">INFO    </span> HTTP Request: <span style=\"color: #808000; text-decoration-color: #808000; font-weight: bold\">POST</span>                                        <a href=\"file:///Users/eric/Library/Caches/pypoetry/virtualenvs/svaeva-evaluation-GkJecWxE-py3.11/lib/python3.11/site-packages/httpx/_client.py\"><span style=\"color: #7f7f7f; text-decoration-color: #7f7f7f\">_client.py</span></a><span style=\"color: #7f7f7f; text-decoration-color: #7f7f7f\">:</span><a href=\"file:///Users/eric/Library/Caches/pypoetry/virtualenvs/svaeva-evaluation-GkJecWxE-py3.11/lib/python3.11/site-packages/httpx/_client.py#1026\"><span style=\"color: #7f7f7f; text-decoration-color: #7f7f7f\">1026</span></a>\n",
       "                    <span style=\"color: #0000ff; text-decoration-color: #0000ff; text-decoration: underline\">https://api.openai.com/v1/chat/completions</span> <span style=\"color: #008000; text-decoration-color: #008000\">\"HTTP/1.1 200 </span>                \n",
       "                    <span style=\"color: #008000; text-decoration-color: #008000\">OK\"</span>                                                                      \n",
       "</pre>\n"
      ],
      "text/plain": [
       "\u001b[2;36m[19:04:04]\u001b[0m\u001b[2;36m \u001b[0m\u001b[34mINFO    \u001b[0m HTTP Request: \u001b[1;33mPOST\u001b[0m                                        \u001b]8;id=781727;file:///Users/eric/Library/Caches/pypoetry/virtualenvs/svaeva-evaluation-GkJecWxE-py3.11/lib/python3.11/site-packages/httpx/_client.py\u001b\\\u001b[2m_client.py\u001b[0m\u001b]8;;\u001b\\\u001b[2m:\u001b[0m\u001b]8;id=408637;file:///Users/eric/Library/Caches/pypoetry/virtualenvs/svaeva-evaluation-GkJecWxE-py3.11/lib/python3.11/site-packages/httpx/_client.py#1026\u001b\\\u001b[2m1026\u001b[0m\u001b]8;;\u001b\\\n",
       "                    \u001b[4;94mhttps://api.openai.com/v1/chat/completions\u001b[0m \u001b[32m\"HTTP/1.1 200 \u001b[0m                \n",
       "                    \u001b[32mOK\"\u001b[0m                                                                      \n"
      ]
     },
     "metadata": {},
     "output_type": "display_data"
    },
    {
     "data": {
      "text/html": [
       "<pre style=\"white-space:pre;overflow-x:auto;line-height:normal;font-family:Menlo,'DejaVu Sans Mono',consolas,'Courier New',monospace\"><span style=\"color: #7fbfbf; text-decoration-color: #7fbfbf\">[19:04:24] </span><span style=\"color: #000080; text-decoration-color: #000080\">INFO    </span> HTTP Request: <span style=\"color: #808000; text-decoration-color: #808000; font-weight: bold\">POST</span>                                        <a href=\"file:///Users/eric/Library/Caches/pypoetry/virtualenvs/svaeva-evaluation-GkJecWxE-py3.11/lib/python3.11/site-packages/httpx/_client.py\"><span style=\"color: #7f7f7f; text-decoration-color: #7f7f7f\">_client.py</span></a><span style=\"color: #7f7f7f; text-decoration-color: #7f7f7f\">:</span><a href=\"file:///Users/eric/Library/Caches/pypoetry/virtualenvs/svaeva-evaluation-GkJecWxE-py3.11/lib/python3.11/site-packages/httpx/_client.py#1026\"><span style=\"color: #7f7f7f; text-decoration-color: #7f7f7f\">1026</span></a>\n",
       "                    <span style=\"color: #0000ff; text-decoration-color: #0000ff; text-decoration: underline\">https://api.openai.com/v1/images/generations</span> <span style=\"color: #008000; text-decoration-color: #008000\">\"HTTP/1.1 </span>                  \n",
       "                    <span style=\"color: #008000; text-decoration-color: #008000\">200 OK\"</span>                                                                  \n",
       "</pre>\n"
      ],
      "text/plain": [
       "\u001b[2;36m[19:04:24]\u001b[0m\u001b[2;36m \u001b[0m\u001b[34mINFO    \u001b[0m HTTP Request: \u001b[1;33mPOST\u001b[0m                                        \u001b]8;id=990052;file:///Users/eric/Library/Caches/pypoetry/virtualenvs/svaeva-evaluation-GkJecWxE-py3.11/lib/python3.11/site-packages/httpx/_client.py\u001b\\\u001b[2m_client.py\u001b[0m\u001b]8;;\u001b\\\u001b[2m:\u001b[0m\u001b]8;id=157507;file:///Users/eric/Library/Caches/pypoetry/virtualenvs/svaeva-evaluation-GkJecWxE-py3.11/lib/python3.11/site-packages/httpx/_client.py#1026\u001b\\\u001b[2m1026\u001b[0m\u001b]8;;\u001b\\\n",
       "                    \u001b[4;94mhttps://api.openai.com/v1/images/generations\u001b[0m \u001b[32m\"HTTP/1.1 \u001b[0m                  \n",
       "                    \u001b[32m200 OK\"\u001b[0m                                                                  \n"
      ]
     },
     "metadata": {},
     "output_type": "display_data"
    },
    {
     "data": {
      "text/html": [
       "<pre style=\"white-space:pre;overflow-x:auto;line-height:normal;font-family:Menlo,'DejaVu Sans Mono',consolas,'Courier New',monospace\"><span style=\"color: #7fbfbf; text-decoration-color: #7fbfbf\">[19:04:25] </span><span style=\"color: #000080; text-decoration-color: #000080\">INFO    </span> HTTP Request: <span style=\"color: #808000; text-decoration-color: #808000; font-weight: bold\">GET</span> <span style=\"color: #0000ff; text-decoration-color: #0000ff; text-decoration: underline\">https://oaidalleapiprodscus.blob.core.w</span> <a href=\"file:///Users/eric/Library/Caches/pypoetry/virtualenvs/svaeva-evaluation-GkJecWxE-py3.11/lib/python3.11/site-packages/httpx/_client.py\"><span style=\"color: #7f7f7f; text-decoration-color: #7f7f7f\">_client.py</span></a><span style=\"color: #7f7f7f; text-decoration-color: #7f7f7f\">:</span><a href=\"file:///Users/eric/Library/Caches/pypoetry/virtualenvs/svaeva-evaluation-GkJecWxE-py3.11/lib/python3.11/site-packages/httpx/_client.py#1026\"><span style=\"color: #7f7f7f; text-decoration-color: #7f7f7f\">1026</span></a>\n",
       "                    <span style=\"color: #0000ff; text-decoration-color: #0000ff; text-decoration: underline\">indows.net/private/org-77FRazywqMikL1SL1V5OQ0dm/user-gR3q</span>                \n",
       "                    <span style=\"color: #0000ff; text-decoration-color: #0000ff; text-decoration: underline\">3d0UmWWt3X6p4JlCQBwq/img-Wd9IFedtvN3gWf7Wq2mccsUT.png?st=</span>                \n",
       "                    <span style=\"color: #0000ff; text-decoration-color: #0000ff; text-decoration: underline\">2024-05-01T17%3A04%3A24Z&amp;se=2024-05-01T19%3A04%3A24Z&amp;sp=r</span>                \n",
       "                    <span style=\"color: #0000ff; text-decoration-color: #0000ff; text-decoration: underline\">&amp;sv=2021-08-06&amp;sr=b&amp;rscd=inline&amp;rsct=image/png&amp;skoid=6aaa</span>                \n",
       "                    <span style=\"color: #0000ff; text-decoration-color: #0000ff; text-decoration: underline\">dede-4fb3-4698-a8f6-684d7786b067&amp;sktid=a48cca56-e6da-484e</span>                \n",
       "                    <span style=\"color: #0000ff; text-decoration-color: #0000ff; text-decoration: underline\">-a814-9c849652bcb3&amp;skt=2024-04-30T21%3A44%3A23Z&amp;ske=2024-</span>                \n",
       "                    <span style=\"color: #0000ff; text-decoration-color: #0000ff; text-decoration: underline\">05-01T21%3A44%3A23Z&amp;sks=b&amp;skv=2021-08-06&amp;sig=YLDmaSnA4/IZ</span>                \n",
       "                    <span style=\"color: #0000ff; text-decoration-color: #0000ff; text-decoration: underline\">DrIYZND0RISsBwa7KsYTeJUdU%2B7UPkQ%3D</span> <span style=\"color: #008000; text-decoration-color: #008000\">\"HTTP/1.1 200 OK\"</span>                   \n",
       "</pre>\n"
      ],
      "text/plain": [
       "\u001b[2;36m[19:04:25]\u001b[0m\u001b[2;36m \u001b[0m\u001b[34mINFO    \u001b[0m HTTP Request: \u001b[1;33mGET\u001b[0m \u001b[4;94mhttps://oaidalleapiprodscus.blob.core.w\u001b[0m \u001b]8;id=583471;file:///Users/eric/Library/Caches/pypoetry/virtualenvs/svaeva-evaluation-GkJecWxE-py3.11/lib/python3.11/site-packages/httpx/_client.py\u001b\\\u001b[2m_client.py\u001b[0m\u001b]8;;\u001b\\\u001b[2m:\u001b[0m\u001b]8;id=972900;file:///Users/eric/Library/Caches/pypoetry/virtualenvs/svaeva-evaluation-GkJecWxE-py3.11/lib/python3.11/site-packages/httpx/_client.py#1026\u001b\\\u001b[2m1026\u001b[0m\u001b]8;;\u001b\\\n",
       "                    \u001b[4;94mindows.net/private/org-77FRazywqMikL1SL1V5OQ0dm/user-gR3q\u001b[0m                \n",
       "                    \u001b[4;94m3d0UmWWt3X6p4JlCQBwq/img-Wd9IFedtvN3gWf7Wq2mccsUT.png?\u001b[0m\u001b[4;94mst\u001b[0m\u001b[4;94m=\u001b[0m                \n",
       "                    \u001b[4;94m2024\u001b[0m\u001b[4;94m-05-01T17%3A04%3A24Z&\u001b[0m\u001b[4;94mse\u001b[0m\u001b[4;94m=\u001b[0m\u001b[4;94m2024\u001b[0m\u001b[4;94m-05-01T19%3A04%3A24Z&\u001b[0m\u001b[4;94msp\u001b[0m\u001b[4;94m=\u001b[0m\u001b[4;94mr\u001b[0m                \n",
       "                    \u001b[4;94m&\u001b[0m\u001b[4;94msv\u001b[0m\u001b[4;94m=\u001b[0m\u001b[4;94m2021\u001b[0m\u001b[4;94m-08-06&\u001b[0m\u001b[4;94msr\u001b[0m\u001b[4;94m=\u001b[0m\u001b[4;94mb\u001b[0m\u001b[4;94m&\u001b[0m\u001b[4;94mrscd\u001b[0m\u001b[4;94m=\u001b[0m\u001b[4;94minline\u001b[0m\u001b[4;94m&\u001b[0m\u001b[4;94mrsct\u001b[0m\u001b[4;94m=\u001b[0m\u001b[4;94mimage\u001b[0m\u001b[4;94m/png&\u001b[0m\u001b[4;94mskoid\u001b[0m\u001b[4;94m=\u001b[0m\u001b[4;94m6aaa\u001b[0m                \n",
       "                    \u001b[4;94mdede\u001b[0m\u001b[4;94m-4fb3-4698-a8f6-684d7786b067&\u001b[0m\u001b[4;94msktid\u001b[0m\u001b[4;94m=\u001b[0m\u001b[4;94ma48cca56\u001b[0m\u001b[4;94m-e6da-484e\u001b[0m                \n",
       "                    \u001b[4;94m-a814-9c849652bcb3&\u001b[0m\u001b[4;94mskt\u001b[0m\u001b[4;94m=\u001b[0m\u001b[4;94m2024\u001b[0m\u001b[4;94m-04-30T21%3A44%3A23Z&\u001b[0m\u001b[4;94mske\u001b[0m\u001b[4;94m=\u001b[0m\u001b[4;94m2024\u001b[0m\u001b[4;94m-\u001b[0m                \n",
       "                    \u001b[4;94m05-01T21%3A44%3A23Z&\u001b[0m\u001b[4;94msks\u001b[0m\u001b[4;94m=\u001b[0m\u001b[4;94mb\u001b[0m\u001b[4;94m&\u001b[0m\u001b[4;94mskv\u001b[0m\u001b[4;94m=\u001b[0m\u001b[4;94m2021\u001b[0m\u001b[4;94m-08-06&\u001b[0m\u001b[4;94msig\u001b[0m\u001b[4;94m=\u001b[0m\u001b[4;94mYLDmaSnA4\u001b[0m\u001b[4;94m/IZ\u001b[0m                \n",
       "                    \u001b[4;94mDrIYZND0RISsBwa7KsYTeJUdU%2B7UPkQ%3D\u001b[0m \u001b[32m\"HTTP/1.1 200 OK\"\u001b[0m                   \n"
      ]
     },
     "metadata": {},
     "output_type": "display_data"
    },
    {
     "name": "stdout",
     "output_type": "stream",
     "text": [
      "pots 5\n",
      "sim-consonancia-pots-005\n"
     ]
    },
    {
     "data": {
      "text/html": [
       "<pre style=\"white-space:pre;overflow-x:auto;line-height:normal;font-family:Menlo,'DejaVu Sans Mono',consolas,'Courier New',monospace\"><span style=\"color: #7fbfbf; text-decoration-color: #7fbfbf\">[19:04:34] </span><span style=\"color: #000080; text-decoration-color: #000080\">INFO    </span> HTTP Request: <span style=\"color: #808000; text-decoration-color: #808000; font-weight: bold\">POST</span>                                        <a href=\"file:///Users/eric/Library/Caches/pypoetry/virtualenvs/svaeva-evaluation-GkJecWxE-py3.11/lib/python3.11/site-packages/httpx/_client.py\"><span style=\"color: #7f7f7f; text-decoration-color: #7f7f7f\">_client.py</span></a><span style=\"color: #7f7f7f; text-decoration-color: #7f7f7f\">:</span><a href=\"file:///Users/eric/Library/Caches/pypoetry/virtualenvs/svaeva-evaluation-GkJecWxE-py3.11/lib/python3.11/site-packages/httpx/_client.py#1026\"><span style=\"color: #7f7f7f; text-decoration-color: #7f7f7f\">1026</span></a>\n",
       "                    <span style=\"color: #0000ff; text-decoration-color: #0000ff; text-decoration: underline\">https://api.openai.com/v1/chat/completions</span> <span style=\"color: #008000; text-decoration-color: #008000\">\"HTTP/1.1 200 </span>                \n",
       "                    <span style=\"color: #008000; text-decoration-color: #008000\">OK\"</span>                                                                      \n",
       "</pre>\n"
      ],
      "text/plain": [
       "\u001b[2;36m[19:04:34]\u001b[0m\u001b[2;36m \u001b[0m\u001b[34mINFO    \u001b[0m HTTP Request: \u001b[1;33mPOST\u001b[0m                                        \u001b]8;id=339161;file:///Users/eric/Library/Caches/pypoetry/virtualenvs/svaeva-evaluation-GkJecWxE-py3.11/lib/python3.11/site-packages/httpx/_client.py\u001b\\\u001b[2m_client.py\u001b[0m\u001b]8;;\u001b\\\u001b[2m:\u001b[0m\u001b]8;id=576652;file:///Users/eric/Library/Caches/pypoetry/virtualenvs/svaeva-evaluation-GkJecWxE-py3.11/lib/python3.11/site-packages/httpx/_client.py#1026\u001b\\\u001b[2m1026\u001b[0m\u001b]8;;\u001b\\\n",
       "                    \u001b[4;94mhttps://api.openai.com/v1/chat/completions\u001b[0m \u001b[32m\"HTTP/1.1 200 \u001b[0m                \n",
       "                    \u001b[32mOK\"\u001b[0m                                                                      \n"
      ]
     },
     "metadata": {},
     "output_type": "display_data"
    },
    {
     "data": {
      "text/html": [
       "<pre style=\"white-space:pre;overflow-x:auto;line-height:normal;font-family:Menlo,'DejaVu Sans Mono',consolas,'Courier New',monospace\"><span style=\"color: #7fbfbf; text-decoration-color: #7fbfbf\">[19:04:49] </span><span style=\"color: #000080; text-decoration-color: #000080\">INFO    </span> HTTP Request: <span style=\"color: #808000; text-decoration-color: #808000; font-weight: bold\">POST</span>                                        <a href=\"file:///Users/eric/Library/Caches/pypoetry/virtualenvs/svaeva-evaluation-GkJecWxE-py3.11/lib/python3.11/site-packages/httpx/_client.py\"><span style=\"color: #7f7f7f; text-decoration-color: #7f7f7f\">_client.py</span></a><span style=\"color: #7f7f7f; text-decoration-color: #7f7f7f\">:</span><a href=\"file:///Users/eric/Library/Caches/pypoetry/virtualenvs/svaeva-evaluation-GkJecWxE-py3.11/lib/python3.11/site-packages/httpx/_client.py#1026\"><span style=\"color: #7f7f7f; text-decoration-color: #7f7f7f\">1026</span></a>\n",
       "                    <span style=\"color: #0000ff; text-decoration-color: #0000ff; text-decoration: underline\">https://api.openai.com/v1/images/generations</span> <span style=\"color: #008000; text-decoration-color: #008000\">\"HTTP/1.1 </span>                  \n",
       "                    <span style=\"color: #008000; text-decoration-color: #008000\">200 OK\"</span>                                                                  \n",
       "</pre>\n"
      ],
      "text/plain": [
       "\u001b[2;36m[19:04:49]\u001b[0m\u001b[2;36m \u001b[0m\u001b[34mINFO    \u001b[0m HTTP Request: \u001b[1;33mPOST\u001b[0m                                        \u001b]8;id=302261;file:///Users/eric/Library/Caches/pypoetry/virtualenvs/svaeva-evaluation-GkJecWxE-py3.11/lib/python3.11/site-packages/httpx/_client.py\u001b\\\u001b[2m_client.py\u001b[0m\u001b]8;;\u001b\\\u001b[2m:\u001b[0m\u001b]8;id=949166;file:///Users/eric/Library/Caches/pypoetry/virtualenvs/svaeva-evaluation-GkJecWxE-py3.11/lib/python3.11/site-packages/httpx/_client.py#1026\u001b\\\u001b[2m1026\u001b[0m\u001b]8;;\u001b\\\n",
       "                    \u001b[4;94mhttps://api.openai.com/v1/images/generations\u001b[0m \u001b[32m\"HTTP/1.1 \u001b[0m                  \n",
       "                    \u001b[32m200 OK\"\u001b[0m                                                                  \n"
      ]
     },
     "metadata": {},
     "output_type": "display_data"
    },
    {
     "data": {
      "text/html": [
       "<pre style=\"white-space:pre;overflow-x:auto;line-height:normal;font-family:Menlo,'DejaVu Sans Mono',consolas,'Courier New',monospace\"><span style=\"color: #7fbfbf; text-decoration-color: #7fbfbf\">[19:04:50] </span><span style=\"color: #000080; text-decoration-color: #000080\">INFO    </span> HTTP Request: <span style=\"color: #808000; text-decoration-color: #808000; font-weight: bold\">GET</span> <span style=\"color: #0000ff; text-decoration-color: #0000ff; text-decoration: underline\">https://oaidalleapiprodscus.blob.core.w</span> <a href=\"file:///Users/eric/Library/Caches/pypoetry/virtualenvs/svaeva-evaluation-GkJecWxE-py3.11/lib/python3.11/site-packages/httpx/_client.py\"><span style=\"color: #7f7f7f; text-decoration-color: #7f7f7f\">_client.py</span></a><span style=\"color: #7f7f7f; text-decoration-color: #7f7f7f\">:</span><a href=\"file:///Users/eric/Library/Caches/pypoetry/virtualenvs/svaeva-evaluation-GkJecWxE-py3.11/lib/python3.11/site-packages/httpx/_client.py#1026\"><span style=\"color: #7f7f7f; text-decoration-color: #7f7f7f\">1026</span></a>\n",
       "                    <span style=\"color: #0000ff; text-decoration-color: #0000ff; text-decoration: underline\">indows.net/private/org-77FRazywqMikL1SL1V5OQ0dm/user-gR3q</span>                \n",
       "                    <span style=\"color: #0000ff; text-decoration-color: #0000ff; text-decoration: underline\">3d0UmWWt3X6p4JlCQBwq/img-GvRzax9p6eWvQ6bap8fGwsP0.png?st=</span>                \n",
       "                    <span style=\"color: #0000ff; text-decoration-color: #0000ff; text-decoration: underline\">2024-05-01T17%3A04%3A49Z&amp;se=2024-05-01T19%3A04%3A49Z&amp;sp=r</span>                \n",
       "                    <span style=\"color: #0000ff; text-decoration-color: #0000ff; text-decoration: underline\">&amp;sv=2021-08-06&amp;sr=b&amp;rscd=inline&amp;rsct=image/png&amp;skoid=6aaa</span>                \n",
       "                    <span style=\"color: #0000ff; text-decoration-color: #0000ff; text-decoration: underline\">dede-4fb3-4698-a8f6-684d7786b067&amp;sktid=a48cca56-e6da-484e</span>                \n",
       "                    <span style=\"color: #0000ff; text-decoration-color: #0000ff; text-decoration: underline\">-a814-9c849652bcb3&amp;skt=2024-04-30T19%3A50%3A52Z&amp;ske=2024-</span>                \n",
       "                    <span style=\"color: #0000ff; text-decoration-color: #0000ff; text-decoration: underline\">05-01T19%3A50%3A52Z&amp;sks=b&amp;skv=2021-08-06&amp;sig=bhgh2otbo/iD</span>                \n",
       "                    <span style=\"color: #0000ff; text-decoration-color: #0000ff; text-decoration: underline\">tkEwgvwW1tMuDQBvw2QbwBydj2MKRMs%3D</span> <span style=\"color: #008000; text-decoration-color: #008000\">\"HTTP/1.1 200 OK\"</span>                     \n",
       "</pre>\n"
      ],
      "text/plain": [
       "\u001b[2;36m[19:04:50]\u001b[0m\u001b[2;36m \u001b[0m\u001b[34mINFO    \u001b[0m HTTP Request: \u001b[1;33mGET\u001b[0m \u001b[4;94mhttps://oaidalleapiprodscus.blob.core.w\u001b[0m \u001b]8;id=828591;file:///Users/eric/Library/Caches/pypoetry/virtualenvs/svaeva-evaluation-GkJecWxE-py3.11/lib/python3.11/site-packages/httpx/_client.py\u001b\\\u001b[2m_client.py\u001b[0m\u001b]8;;\u001b\\\u001b[2m:\u001b[0m\u001b]8;id=941965;file:///Users/eric/Library/Caches/pypoetry/virtualenvs/svaeva-evaluation-GkJecWxE-py3.11/lib/python3.11/site-packages/httpx/_client.py#1026\u001b\\\u001b[2m1026\u001b[0m\u001b]8;;\u001b\\\n",
       "                    \u001b[4;94mindows.net/private/org-77FRazywqMikL1SL1V5OQ0dm/user-gR3q\u001b[0m                \n",
       "                    \u001b[4;94m3d0UmWWt3X6p4JlCQBwq/img-GvRzax9p6eWvQ6bap8fGwsP0.png?\u001b[0m\u001b[4;94mst\u001b[0m\u001b[4;94m=\u001b[0m                \n",
       "                    \u001b[4;94m2024\u001b[0m\u001b[4;94m-05-01T17%3A04%3A49Z&\u001b[0m\u001b[4;94mse\u001b[0m\u001b[4;94m=\u001b[0m\u001b[4;94m2024\u001b[0m\u001b[4;94m-05-01T19%3A04%3A49Z&\u001b[0m\u001b[4;94msp\u001b[0m\u001b[4;94m=\u001b[0m\u001b[4;94mr\u001b[0m                \n",
       "                    \u001b[4;94m&\u001b[0m\u001b[4;94msv\u001b[0m\u001b[4;94m=\u001b[0m\u001b[4;94m2021\u001b[0m\u001b[4;94m-08-06&\u001b[0m\u001b[4;94msr\u001b[0m\u001b[4;94m=\u001b[0m\u001b[4;94mb\u001b[0m\u001b[4;94m&\u001b[0m\u001b[4;94mrscd\u001b[0m\u001b[4;94m=\u001b[0m\u001b[4;94minline\u001b[0m\u001b[4;94m&\u001b[0m\u001b[4;94mrsct\u001b[0m\u001b[4;94m=\u001b[0m\u001b[4;94mimage\u001b[0m\u001b[4;94m/png&\u001b[0m\u001b[4;94mskoid\u001b[0m\u001b[4;94m=\u001b[0m\u001b[4;94m6aaa\u001b[0m                \n",
       "                    \u001b[4;94mdede\u001b[0m\u001b[4;94m-4fb3-4698-a8f6-684d7786b067&\u001b[0m\u001b[4;94msktid\u001b[0m\u001b[4;94m=\u001b[0m\u001b[4;94ma48cca56\u001b[0m\u001b[4;94m-e6da-484e\u001b[0m                \n",
       "                    \u001b[4;94m-a814-9c849652bcb3&\u001b[0m\u001b[4;94mskt\u001b[0m\u001b[4;94m=\u001b[0m\u001b[4;94m2024\u001b[0m\u001b[4;94m-04-30T19%3A50%3A52Z&\u001b[0m\u001b[4;94mske\u001b[0m\u001b[4;94m=\u001b[0m\u001b[4;94m2024\u001b[0m\u001b[4;94m-\u001b[0m                \n",
       "                    \u001b[4;94m05-01T19%3A50%3A52Z&\u001b[0m\u001b[4;94msks\u001b[0m\u001b[4;94m=\u001b[0m\u001b[4;94mb\u001b[0m\u001b[4;94m&\u001b[0m\u001b[4;94mskv\u001b[0m\u001b[4;94m=\u001b[0m\u001b[4;94m2021\u001b[0m\u001b[4;94m-08-06&\u001b[0m\u001b[4;94msig\u001b[0m\u001b[4;94m=\u001b[0m\u001b[4;94mbhgh2otbo\u001b[0m\u001b[4;94m/iD\u001b[0m                \n",
       "                    \u001b[4;94mtkEwgvwW1tMuDQBvw2QbwBydj2MKRMs%3D\u001b[0m \u001b[32m\"HTTP/1.1 200 OK\"\u001b[0m                     \n"
      ]
     },
     "metadata": {},
     "output_type": "display_data"
    },
    {
     "name": "stdout",
     "output_type": "stream",
     "text": [
      "pots 6\n",
      "sim-consonancia-pots-006\n"
     ]
    },
    {
     "data": {
      "text/html": [
       "<pre style=\"white-space:pre;overflow-x:auto;line-height:normal;font-family:Menlo,'DejaVu Sans Mono',consolas,'Courier New',monospace\"><span style=\"color: #7fbfbf; text-decoration-color: #7fbfbf\">[19:05:09] </span><span style=\"color: #000080; text-decoration-color: #000080\">INFO    </span> HTTP Request: <span style=\"color: #808000; text-decoration-color: #808000; font-weight: bold\">POST</span>                                        <a href=\"file:///Users/eric/Library/Caches/pypoetry/virtualenvs/svaeva-evaluation-GkJecWxE-py3.11/lib/python3.11/site-packages/httpx/_client.py\"><span style=\"color: #7f7f7f; text-decoration-color: #7f7f7f\">_client.py</span></a><span style=\"color: #7f7f7f; text-decoration-color: #7f7f7f\">:</span><a href=\"file:///Users/eric/Library/Caches/pypoetry/virtualenvs/svaeva-evaluation-GkJecWxE-py3.11/lib/python3.11/site-packages/httpx/_client.py#1026\"><span style=\"color: #7f7f7f; text-decoration-color: #7f7f7f\">1026</span></a>\n",
       "                    <span style=\"color: #0000ff; text-decoration-color: #0000ff; text-decoration: underline\">https://api.openai.com/v1/chat/completions</span> <span style=\"color: #008000; text-decoration-color: #008000\">\"HTTP/1.1 200 </span>                \n",
       "                    <span style=\"color: #008000; text-decoration-color: #008000\">OK\"</span>                                                                      \n",
       "</pre>\n"
      ],
      "text/plain": [
       "\u001b[2;36m[19:05:09]\u001b[0m\u001b[2;36m \u001b[0m\u001b[34mINFO    \u001b[0m HTTP Request: \u001b[1;33mPOST\u001b[0m                                        \u001b]8;id=569957;file:///Users/eric/Library/Caches/pypoetry/virtualenvs/svaeva-evaluation-GkJecWxE-py3.11/lib/python3.11/site-packages/httpx/_client.py\u001b\\\u001b[2m_client.py\u001b[0m\u001b]8;;\u001b\\\u001b[2m:\u001b[0m\u001b]8;id=461727;file:///Users/eric/Library/Caches/pypoetry/virtualenvs/svaeva-evaluation-GkJecWxE-py3.11/lib/python3.11/site-packages/httpx/_client.py#1026\u001b\\\u001b[2m1026\u001b[0m\u001b]8;;\u001b\\\n",
       "                    \u001b[4;94mhttps://api.openai.com/v1/chat/completions\u001b[0m \u001b[32m\"HTTP/1.1 200 \u001b[0m                \n",
       "                    \u001b[32mOK\"\u001b[0m                                                                      \n"
      ]
     },
     "metadata": {},
     "output_type": "display_data"
    },
    {
     "data": {
      "text/html": [
       "<pre style=\"white-space:pre;overflow-x:auto;line-height:normal;font-family:Menlo,'DejaVu Sans Mono',consolas,'Courier New',monospace\"><span style=\"color: #7fbfbf; text-decoration-color: #7fbfbf\">[19:05:29] </span><span style=\"color: #000080; text-decoration-color: #000080\">INFO    </span> HTTP Request: <span style=\"color: #808000; text-decoration-color: #808000; font-weight: bold\">POST</span>                                        <a href=\"file:///Users/eric/Library/Caches/pypoetry/virtualenvs/svaeva-evaluation-GkJecWxE-py3.11/lib/python3.11/site-packages/httpx/_client.py\"><span style=\"color: #7f7f7f; text-decoration-color: #7f7f7f\">_client.py</span></a><span style=\"color: #7f7f7f; text-decoration-color: #7f7f7f\">:</span><a href=\"file:///Users/eric/Library/Caches/pypoetry/virtualenvs/svaeva-evaluation-GkJecWxE-py3.11/lib/python3.11/site-packages/httpx/_client.py#1026\"><span style=\"color: #7f7f7f; text-decoration-color: #7f7f7f\">1026</span></a>\n",
       "                    <span style=\"color: #0000ff; text-decoration-color: #0000ff; text-decoration: underline\">https://api.openai.com/v1/images/generations</span> <span style=\"color: #008000; text-decoration-color: #008000\">\"HTTP/1.1 </span>                  \n",
       "                    <span style=\"color: #008000; text-decoration-color: #008000\">200 OK\"</span>                                                                  \n",
       "</pre>\n"
      ],
      "text/plain": [
       "\u001b[2;36m[19:05:29]\u001b[0m\u001b[2;36m \u001b[0m\u001b[34mINFO    \u001b[0m HTTP Request: \u001b[1;33mPOST\u001b[0m                                        \u001b]8;id=19288;file:///Users/eric/Library/Caches/pypoetry/virtualenvs/svaeva-evaluation-GkJecWxE-py3.11/lib/python3.11/site-packages/httpx/_client.py\u001b\\\u001b[2m_client.py\u001b[0m\u001b]8;;\u001b\\\u001b[2m:\u001b[0m\u001b]8;id=537642;file:///Users/eric/Library/Caches/pypoetry/virtualenvs/svaeva-evaluation-GkJecWxE-py3.11/lib/python3.11/site-packages/httpx/_client.py#1026\u001b\\\u001b[2m1026\u001b[0m\u001b]8;;\u001b\\\n",
       "                    \u001b[4;94mhttps://api.openai.com/v1/images/generations\u001b[0m \u001b[32m\"HTTP/1.1 \u001b[0m                  \n",
       "                    \u001b[32m200 OK\"\u001b[0m                                                                  \n"
      ]
     },
     "metadata": {},
     "output_type": "display_data"
    },
    {
     "data": {
      "text/html": [
       "<pre style=\"white-space:pre;overflow-x:auto;line-height:normal;font-family:Menlo,'DejaVu Sans Mono',consolas,'Courier New',monospace\"><span style=\"color: #7fbfbf; text-decoration-color: #7fbfbf\">           </span><span style=\"color: #000080; text-decoration-color: #000080\">INFO    </span> HTTP Request: <span style=\"color: #808000; text-decoration-color: #808000; font-weight: bold\">GET</span> <span style=\"color: #0000ff; text-decoration-color: #0000ff; text-decoration: underline\">https://oaidalleapiprodscus.blob.core.w</span> <a href=\"file:///Users/eric/Library/Caches/pypoetry/virtualenvs/svaeva-evaluation-GkJecWxE-py3.11/lib/python3.11/site-packages/httpx/_client.py\"><span style=\"color: #7f7f7f; text-decoration-color: #7f7f7f\">_client.py</span></a><span style=\"color: #7f7f7f; text-decoration-color: #7f7f7f\">:</span><a href=\"file:///Users/eric/Library/Caches/pypoetry/virtualenvs/svaeva-evaluation-GkJecWxE-py3.11/lib/python3.11/site-packages/httpx/_client.py#1026\"><span style=\"color: #7f7f7f; text-decoration-color: #7f7f7f\">1026</span></a>\n",
       "                    <span style=\"color: #0000ff; text-decoration-color: #0000ff; text-decoration: underline\">indows.net/private/org-77FRazywqMikL1SL1V5OQ0dm/user-gR3q</span>                \n",
       "                    <span style=\"color: #0000ff; text-decoration-color: #0000ff; text-decoration: underline\">3d0UmWWt3X6p4JlCQBwq/img-fRWiTXJeiw9Vbbi5bH4KWvoV.png?st=</span>                \n",
       "                    <span style=\"color: #0000ff; text-decoration-color: #0000ff; text-decoration: underline\">2024-05-01T17%3A05%3A29Z&amp;se=2024-05-01T19%3A05%3A29Z&amp;sp=r</span>                \n",
       "                    <span style=\"color: #0000ff; text-decoration-color: #0000ff; text-decoration: underline\">&amp;sv=2021-08-06&amp;sr=b&amp;rscd=inline&amp;rsct=image/png&amp;skoid=6aaa</span>                \n",
       "                    <span style=\"color: #0000ff; text-decoration-color: #0000ff; text-decoration: underline\">dede-4fb3-4698-a8f6-684d7786b067&amp;sktid=a48cca56-e6da-484e</span>                \n",
       "                    <span style=\"color: #0000ff; text-decoration-color: #0000ff; text-decoration: underline\">-a814-9c849652bcb3&amp;skt=2024-05-01T14%3A06%3A25Z&amp;ske=2024-</span>                \n",
       "                    <span style=\"color: #0000ff; text-decoration-color: #0000ff; text-decoration: underline\">05-02T14%3A06%3A25Z&amp;sks=b&amp;skv=2021-08-06&amp;sig=LBTHWvZiTJdi</span>                \n",
       "                    <span style=\"color: #0000ff; text-decoration-color: #0000ff; text-decoration: underline\">0CbvEB0/cuKqC%2Bb/BknOc3IFmqcL0B4%3D</span> <span style=\"color: #008000; text-decoration-color: #008000\">\"HTTP/1.1 200 OK\"</span>                   \n",
       "</pre>\n"
      ],
      "text/plain": [
       "\u001b[2;36m          \u001b[0m\u001b[2;36m \u001b[0m\u001b[34mINFO    \u001b[0m HTTP Request: \u001b[1;33mGET\u001b[0m \u001b[4;94mhttps://oaidalleapiprodscus.blob.core.w\u001b[0m \u001b]8;id=631930;file:///Users/eric/Library/Caches/pypoetry/virtualenvs/svaeva-evaluation-GkJecWxE-py3.11/lib/python3.11/site-packages/httpx/_client.py\u001b\\\u001b[2m_client.py\u001b[0m\u001b]8;;\u001b\\\u001b[2m:\u001b[0m\u001b]8;id=243036;file:///Users/eric/Library/Caches/pypoetry/virtualenvs/svaeva-evaluation-GkJecWxE-py3.11/lib/python3.11/site-packages/httpx/_client.py#1026\u001b\\\u001b[2m1026\u001b[0m\u001b]8;;\u001b\\\n",
       "                    \u001b[4;94mindows.net/private/org-77FRazywqMikL1SL1V5OQ0dm/user-gR3q\u001b[0m                \n",
       "                    \u001b[4;94m3d0UmWWt3X6p4JlCQBwq/img-fRWiTXJeiw9Vbbi5bH4KWvoV.png?\u001b[0m\u001b[4;94mst\u001b[0m\u001b[4;94m=\u001b[0m                \n",
       "                    \u001b[4;94m2024\u001b[0m\u001b[4;94m-05-01T17%3A05%3A29Z&\u001b[0m\u001b[4;94mse\u001b[0m\u001b[4;94m=\u001b[0m\u001b[4;94m2024\u001b[0m\u001b[4;94m-05-01T19%3A05%3A29Z&\u001b[0m\u001b[4;94msp\u001b[0m\u001b[4;94m=\u001b[0m\u001b[4;94mr\u001b[0m                \n",
       "                    \u001b[4;94m&\u001b[0m\u001b[4;94msv\u001b[0m\u001b[4;94m=\u001b[0m\u001b[4;94m2021\u001b[0m\u001b[4;94m-08-06&\u001b[0m\u001b[4;94msr\u001b[0m\u001b[4;94m=\u001b[0m\u001b[4;94mb\u001b[0m\u001b[4;94m&\u001b[0m\u001b[4;94mrscd\u001b[0m\u001b[4;94m=\u001b[0m\u001b[4;94minline\u001b[0m\u001b[4;94m&\u001b[0m\u001b[4;94mrsct\u001b[0m\u001b[4;94m=\u001b[0m\u001b[4;94mimage\u001b[0m\u001b[4;94m/png&\u001b[0m\u001b[4;94mskoid\u001b[0m\u001b[4;94m=\u001b[0m\u001b[4;94m6aaa\u001b[0m                \n",
       "                    \u001b[4;94mdede\u001b[0m\u001b[4;94m-4fb3-4698-a8f6-684d7786b067&\u001b[0m\u001b[4;94msktid\u001b[0m\u001b[4;94m=\u001b[0m\u001b[4;94ma48cca56\u001b[0m\u001b[4;94m-e6da-484e\u001b[0m                \n",
       "                    \u001b[4;94m-a814-9c849652bcb3&\u001b[0m\u001b[4;94mskt\u001b[0m\u001b[4;94m=\u001b[0m\u001b[4;94m2024\u001b[0m\u001b[4;94m-05-01T14%3A06%3A25Z&\u001b[0m\u001b[4;94mske\u001b[0m\u001b[4;94m=\u001b[0m\u001b[4;94m2024\u001b[0m\u001b[4;94m-\u001b[0m                \n",
       "                    \u001b[4;94m05-02T14%3A06%3A25Z&\u001b[0m\u001b[4;94msks\u001b[0m\u001b[4;94m=\u001b[0m\u001b[4;94mb\u001b[0m\u001b[4;94m&\u001b[0m\u001b[4;94mskv\u001b[0m\u001b[4;94m=\u001b[0m\u001b[4;94m2021\u001b[0m\u001b[4;94m-08-06&\u001b[0m\u001b[4;94msig\u001b[0m\u001b[4;94m=\u001b[0m\u001b[4;94mLBTHWvZiTJdi\u001b[0m                \n",
       "                    \u001b[4;94m0CbvEB0\u001b[0m\u001b[4;94m/cuKqC%2Bb/BknOc3IFmqcL0B4%3D\u001b[0m \u001b[32m\"HTTP/1.1 200 OK\"\u001b[0m                   \n"
      ]
     },
     "metadata": {},
     "output_type": "display_data"
    },
    {
     "name": "stdout",
     "output_type": "stream",
     "text": [
      "breakup 1\n",
      "sim-consonancia-breakup-001\n"
     ]
    },
    {
     "data": {
      "text/html": [
       "<pre style=\"white-space:pre;overflow-x:auto;line-height:normal;font-family:Menlo,'DejaVu Sans Mono',consolas,'Courier New',monospace\"><span style=\"color: #7fbfbf; text-decoration-color: #7fbfbf\">[19:05:42] </span><span style=\"color: #000080; text-decoration-color: #000080\">INFO    </span> HTTP Request: <span style=\"color: #808000; text-decoration-color: #808000; font-weight: bold\">POST</span>                                        <a href=\"file:///Users/eric/Library/Caches/pypoetry/virtualenvs/svaeva-evaluation-GkJecWxE-py3.11/lib/python3.11/site-packages/httpx/_client.py\"><span style=\"color: #7f7f7f; text-decoration-color: #7f7f7f\">_client.py</span></a><span style=\"color: #7f7f7f; text-decoration-color: #7f7f7f\">:</span><a href=\"file:///Users/eric/Library/Caches/pypoetry/virtualenvs/svaeva-evaluation-GkJecWxE-py3.11/lib/python3.11/site-packages/httpx/_client.py#1026\"><span style=\"color: #7f7f7f; text-decoration-color: #7f7f7f\">1026</span></a>\n",
       "                    <span style=\"color: #0000ff; text-decoration-color: #0000ff; text-decoration: underline\">https://api.openai.com/v1/chat/completions</span> <span style=\"color: #008000; text-decoration-color: #008000\">\"HTTP/1.1 200 </span>                \n",
       "                    <span style=\"color: #008000; text-decoration-color: #008000\">OK\"</span>                                                                      \n",
       "</pre>\n"
      ],
      "text/plain": [
       "\u001b[2;36m[19:05:42]\u001b[0m\u001b[2;36m \u001b[0m\u001b[34mINFO    \u001b[0m HTTP Request: \u001b[1;33mPOST\u001b[0m                                        \u001b]8;id=362791;file:///Users/eric/Library/Caches/pypoetry/virtualenvs/svaeva-evaluation-GkJecWxE-py3.11/lib/python3.11/site-packages/httpx/_client.py\u001b\\\u001b[2m_client.py\u001b[0m\u001b]8;;\u001b\\\u001b[2m:\u001b[0m\u001b]8;id=445838;file:///Users/eric/Library/Caches/pypoetry/virtualenvs/svaeva-evaluation-GkJecWxE-py3.11/lib/python3.11/site-packages/httpx/_client.py#1026\u001b\\\u001b[2m1026\u001b[0m\u001b]8;;\u001b\\\n",
       "                    \u001b[4;94mhttps://api.openai.com/v1/chat/completions\u001b[0m \u001b[32m\"HTTP/1.1 200 \u001b[0m                \n",
       "                    \u001b[32mOK\"\u001b[0m                                                                      \n"
      ]
     },
     "metadata": {},
     "output_type": "display_data"
    },
    {
     "data": {
      "text/html": [
       "<pre style=\"white-space:pre;overflow-x:auto;line-height:normal;font-family:Menlo,'DejaVu Sans Mono',consolas,'Courier New',monospace\"><span style=\"color: #7fbfbf; text-decoration-color: #7fbfbf\">[19:05:59] </span><span style=\"color: #000080; text-decoration-color: #000080\">INFO    </span> HTTP Request: <span style=\"color: #808000; text-decoration-color: #808000; font-weight: bold\">POST</span>                                        <a href=\"file:///Users/eric/Library/Caches/pypoetry/virtualenvs/svaeva-evaluation-GkJecWxE-py3.11/lib/python3.11/site-packages/httpx/_client.py\"><span style=\"color: #7f7f7f; text-decoration-color: #7f7f7f\">_client.py</span></a><span style=\"color: #7f7f7f; text-decoration-color: #7f7f7f\">:</span><a href=\"file:///Users/eric/Library/Caches/pypoetry/virtualenvs/svaeva-evaluation-GkJecWxE-py3.11/lib/python3.11/site-packages/httpx/_client.py#1026\"><span style=\"color: #7f7f7f; text-decoration-color: #7f7f7f\">1026</span></a>\n",
       "                    <span style=\"color: #0000ff; text-decoration-color: #0000ff; text-decoration: underline\">https://api.openai.com/v1/images/generations</span> <span style=\"color: #008000; text-decoration-color: #008000\">\"HTTP/1.1 </span>                  \n",
       "                    <span style=\"color: #008000; text-decoration-color: #008000\">200 OK\"</span>                                                                  \n",
       "</pre>\n"
      ],
      "text/plain": [
       "\u001b[2;36m[19:05:59]\u001b[0m\u001b[2;36m \u001b[0m\u001b[34mINFO    \u001b[0m HTTP Request: \u001b[1;33mPOST\u001b[0m                                        \u001b]8;id=683432;file:///Users/eric/Library/Caches/pypoetry/virtualenvs/svaeva-evaluation-GkJecWxE-py3.11/lib/python3.11/site-packages/httpx/_client.py\u001b\\\u001b[2m_client.py\u001b[0m\u001b]8;;\u001b\\\u001b[2m:\u001b[0m\u001b]8;id=988457;file:///Users/eric/Library/Caches/pypoetry/virtualenvs/svaeva-evaluation-GkJecWxE-py3.11/lib/python3.11/site-packages/httpx/_client.py#1026\u001b\\\u001b[2m1026\u001b[0m\u001b]8;;\u001b\\\n",
       "                    \u001b[4;94mhttps://api.openai.com/v1/images/generations\u001b[0m \u001b[32m\"HTTP/1.1 \u001b[0m                  \n",
       "                    \u001b[32m200 OK\"\u001b[0m                                                                  \n"
      ]
     },
     "metadata": {},
     "output_type": "display_data"
    },
    {
     "data": {
      "text/html": [
       "<pre style=\"white-space:pre;overflow-x:auto;line-height:normal;font-family:Menlo,'DejaVu Sans Mono',consolas,'Courier New',monospace\"><span style=\"color: #7fbfbf; text-decoration-color: #7fbfbf\">[19:06:00] </span><span style=\"color: #000080; text-decoration-color: #000080\">INFO    </span> HTTP Request: <span style=\"color: #808000; text-decoration-color: #808000; font-weight: bold\">GET</span> <span style=\"color: #0000ff; text-decoration-color: #0000ff; text-decoration: underline\">https://oaidalleapiprodscus.blob.core.w</span> <a href=\"file:///Users/eric/Library/Caches/pypoetry/virtualenvs/svaeva-evaluation-GkJecWxE-py3.11/lib/python3.11/site-packages/httpx/_client.py\"><span style=\"color: #7f7f7f; text-decoration-color: #7f7f7f\">_client.py</span></a><span style=\"color: #7f7f7f; text-decoration-color: #7f7f7f\">:</span><a href=\"file:///Users/eric/Library/Caches/pypoetry/virtualenvs/svaeva-evaluation-GkJecWxE-py3.11/lib/python3.11/site-packages/httpx/_client.py#1026\"><span style=\"color: #7f7f7f; text-decoration-color: #7f7f7f\">1026</span></a>\n",
       "                    <span style=\"color: #0000ff; text-decoration-color: #0000ff; text-decoration: underline\">indows.net/private/org-77FRazywqMikL1SL1V5OQ0dm/user-gR3q</span>                \n",
       "                    <span style=\"color: #0000ff; text-decoration-color: #0000ff; text-decoration: underline\">3d0UmWWt3X6p4JlCQBwq/img-WMCke82tLymdBeqinAshpAdr.png?st=</span>                \n",
       "                    <span style=\"color: #0000ff; text-decoration-color: #0000ff; text-decoration: underline\">2024-05-01T17%3A05%3A59Z&amp;se=2024-05-01T19%3A05%3A59Z&amp;sp=r</span>                \n",
       "                    <span style=\"color: #0000ff; text-decoration-color: #0000ff; text-decoration: underline\">&amp;sv=2021-08-06&amp;sr=b&amp;rscd=inline&amp;rsct=image/png&amp;skoid=6aaa</span>                \n",
       "                    <span style=\"color: #0000ff; text-decoration-color: #0000ff; text-decoration: underline\">dede-4fb3-4698-a8f6-684d7786b067&amp;sktid=a48cca56-e6da-484e</span>                \n",
       "                    <span style=\"color: #0000ff; text-decoration-color: #0000ff; text-decoration: underline\">-a814-9c849652bcb3&amp;skt=2024-05-01T14%3A54%3A13Z&amp;ske=2024-</span>                \n",
       "                    <span style=\"color: #0000ff; text-decoration-color: #0000ff; text-decoration: underline\">05-02T14%3A54%3A13Z&amp;sks=b&amp;skv=2021-08-06&amp;sig=5x7Q0VjyYMxe</span>                \n",
       "                    <span style=\"color: #0000ff; text-decoration-color: #0000ff; text-decoration: underline\">pqTi%2BnFP36CW2l/pG9a%2BQiCCKLCc2so%3D</span> <span style=\"color: #008000; text-decoration-color: #008000\">\"HTTP/1.1 200 OK\"</span>                 \n",
       "</pre>\n"
      ],
      "text/plain": [
       "\u001b[2;36m[19:06:00]\u001b[0m\u001b[2;36m \u001b[0m\u001b[34mINFO    \u001b[0m HTTP Request: \u001b[1;33mGET\u001b[0m \u001b[4;94mhttps://oaidalleapiprodscus.blob.core.w\u001b[0m \u001b]8;id=503277;file:///Users/eric/Library/Caches/pypoetry/virtualenvs/svaeva-evaluation-GkJecWxE-py3.11/lib/python3.11/site-packages/httpx/_client.py\u001b\\\u001b[2m_client.py\u001b[0m\u001b]8;;\u001b\\\u001b[2m:\u001b[0m\u001b]8;id=413300;file:///Users/eric/Library/Caches/pypoetry/virtualenvs/svaeva-evaluation-GkJecWxE-py3.11/lib/python3.11/site-packages/httpx/_client.py#1026\u001b\\\u001b[2m1026\u001b[0m\u001b]8;;\u001b\\\n",
       "                    \u001b[4;94mindows.net/private/org-77FRazywqMikL1SL1V5OQ0dm/user-gR3q\u001b[0m                \n",
       "                    \u001b[4;94m3d0UmWWt3X6p4JlCQBwq/img-WMCke82tLymdBeqinAshpAdr.png?\u001b[0m\u001b[4;94mst\u001b[0m\u001b[4;94m=\u001b[0m                \n",
       "                    \u001b[4;94m2024\u001b[0m\u001b[4;94m-05-01T17%3A05%3A59Z&\u001b[0m\u001b[4;94mse\u001b[0m\u001b[4;94m=\u001b[0m\u001b[4;94m2024\u001b[0m\u001b[4;94m-05-01T19%3A05%3A59Z&\u001b[0m\u001b[4;94msp\u001b[0m\u001b[4;94m=\u001b[0m\u001b[4;94mr\u001b[0m                \n",
       "                    \u001b[4;94m&\u001b[0m\u001b[4;94msv\u001b[0m\u001b[4;94m=\u001b[0m\u001b[4;94m2021\u001b[0m\u001b[4;94m-08-06&\u001b[0m\u001b[4;94msr\u001b[0m\u001b[4;94m=\u001b[0m\u001b[4;94mb\u001b[0m\u001b[4;94m&\u001b[0m\u001b[4;94mrscd\u001b[0m\u001b[4;94m=\u001b[0m\u001b[4;94minline\u001b[0m\u001b[4;94m&\u001b[0m\u001b[4;94mrsct\u001b[0m\u001b[4;94m=\u001b[0m\u001b[4;94mimage\u001b[0m\u001b[4;94m/png&\u001b[0m\u001b[4;94mskoid\u001b[0m\u001b[4;94m=\u001b[0m\u001b[4;94m6aaa\u001b[0m                \n",
       "                    \u001b[4;94mdede\u001b[0m\u001b[4;94m-4fb3-4698-a8f6-684d7786b067&\u001b[0m\u001b[4;94msktid\u001b[0m\u001b[4;94m=\u001b[0m\u001b[4;94ma48cca56\u001b[0m\u001b[4;94m-e6da-484e\u001b[0m                \n",
       "                    \u001b[4;94m-a814-9c849652bcb3&\u001b[0m\u001b[4;94mskt\u001b[0m\u001b[4;94m=\u001b[0m\u001b[4;94m2024\u001b[0m\u001b[4;94m-05-01T14%3A54%3A13Z&\u001b[0m\u001b[4;94mske\u001b[0m\u001b[4;94m=\u001b[0m\u001b[4;94m2024\u001b[0m\u001b[4;94m-\u001b[0m                \n",
       "                    \u001b[4;94m05-02T14%3A54%3A13Z&\u001b[0m\u001b[4;94msks\u001b[0m\u001b[4;94m=\u001b[0m\u001b[4;94mb\u001b[0m\u001b[4;94m&\u001b[0m\u001b[4;94mskv\u001b[0m\u001b[4;94m=\u001b[0m\u001b[4;94m2021\u001b[0m\u001b[4;94m-08-06&\u001b[0m\u001b[4;94msig\u001b[0m\u001b[4;94m=\u001b[0m\u001b[4;94m5x7Q0VjyYMxe\u001b[0m                \n",
       "                    \u001b[4;94mpqTi\u001b[0m\u001b[4;94m%2BnFP36CW2l/pG9a%2BQiCCKLCc2so%3D\u001b[0m \u001b[32m\"HTTP/1.1 200 OK\"\u001b[0m                 \n"
      ]
     },
     "metadata": {},
     "output_type": "display_data"
    },
    {
     "name": "stdout",
     "output_type": "stream",
     "text": [
      "breakup 2\n",
      "sim-consonancia-breakup-002\n"
     ]
    },
    {
     "data": {
      "text/html": [
       "<pre style=\"white-space:pre;overflow-x:auto;line-height:normal;font-family:Menlo,'DejaVu Sans Mono',consolas,'Courier New',monospace\"><span style=\"color: #7fbfbf; text-decoration-color: #7fbfbf\">[19:06:10] </span><span style=\"color: #000080; text-decoration-color: #000080\">INFO    </span> HTTP Request: <span style=\"color: #808000; text-decoration-color: #808000; font-weight: bold\">POST</span>                                        <a href=\"file:///Users/eric/Library/Caches/pypoetry/virtualenvs/svaeva-evaluation-GkJecWxE-py3.11/lib/python3.11/site-packages/httpx/_client.py\"><span style=\"color: #7f7f7f; text-decoration-color: #7f7f7f\">_client.py</span></a><span style=\"color: #7f7f7f; text-decoration-color: #7f7f7f\">:</span><a href=\"file:///Users/eric/Library/Caches/pypoetry/virtualenvs/svaeva-evaluation-GkJecWxE-py3.11/lib/python3.11/site-packages/httpx/_client.py#1026\"><span style=\"color: #7f7f7f; text-decoration-color: #7f7f7f\">1026</span></a>\n",
       "                    <span style=\"color: #0000ff; text-decoration-color: #0000ff; text-decoration: underline\">https://api.openai.com/v1/chat/completions</span> <span style=\"color: #008000; text-decoration-color: #008000\">\"HTTP/1.1 200 </span>                \n",
       "                    <span style=\"color: #008000; text-decoration-color: #008000\">OK\"</span>                                                                      \n",
       "</pre>\n"
      ],
      "text/plain": [
       "\u001b[2;36m[19:06:10]\u001b[0m\u001b[2;36m \u001b[0m\u001b[34mINFO    \u001b[0m HTTP Request: \u001b[1;33mPOST\u001b[0m                                        \u001b]8;id=556001;file:///Users/eric/Library/Caches/pypoetry/virtualenvs/svaeva-evaluation-GkJecWxE-py3.11/lib/python3.11/site-packages/httpx/_client.py\u001b\\\u001b[2m_client.py\u001b[0m\u001b]8;;\u001b\\\u001b[2m:\u001b[0m\u001b]8;id=430063;file:///Users/eric/Library/Caches/pypoetry/virtualenvs/svaeva-evaluation-GkJecWxE-py3.11/lib/python3.11/site-packages/httpx/_client.py#1026\u001b\\\u001b[2m1026\u001b[0m\u001b]8;;\u001b\\\n",
       "                    \u001b[4;94mhttps://api.openai.com/v1/chat/completions\u001b[0m \u001b[32m\"HTTP/1.1 200 \u001b[0m                \n",
       "                    \u001b[32mOK\"\u001b[0m                                                                      \n"
      ]
     },
     "metadata": {},
     "output_type": "display_data"
    },
    {
     "data": {
      "text/html": [
       "<pre style=\"white-space:pre;overflow-x:auto;line-height:normal;font-family:Menlo,'DejaVu Sans Mono',consolas,'Courier New',monospace\"><span style=\"color: #7fbfbf; text-decoration-color: #7fbfbf\">[19:06:24] </span><span style=\"color: #000080; text-decoration-color: #000080\">INFO    </span> HTTP Request: <span style=\"color: #808000; text-decoration-color: #808000; font-weight: bold\">POST</span>                                        <a href=\"file:///Users/eric/Library/Caches/pypoetry/virtualenvs/svaeva-evaluation-GkJecWxE-py3.11/lib/python3.11/site-packages/httpx/_client.py\"><span style=\"color: #7f7f7f; text-decoration-color: #7f7f7f\">_client.py</span></a><span style=\"color: #7f7f7f; text-decoration-color: #7f7f7f\">:</span><a href=\"file:///Users/eric/Library/Caches/pypoetry/virtualenvs/svaeva-evaluation-GkJecWxE-py3.11/lib/python3.11/site-packages/httpx/_client.py#1026\"><span style=\"color: #7f7f7f; text-decoration-color: #7f7f7f\">1026</span></a>\n",
       "                    <span style=\"color: #0000ff; text-decoration-color: #0000ff; text-decoration: underline\">https://api.openai.com/v1/images/generations</span> <span style=\"color: #008000; text-decoration-color: #008000\">\"HTTP/1.1 </span>                  \n",
       "                    <span style=\"color: #008000; text-decoration-color: #008000\">200 OK\"</span>                                                                  \n",
       "</pre>\n"
      ],
      "text/plain": [
       "\u001b[2;36m[19:06:24]\u001b[0m\u001b[2;36m \u001b[0m\u001b[34mINFO    \u001b[0m HTTP Request: \u001b[1;33mPOST\u001b[0m                                        \u001b]8;id=791591;file:///Users/eric/Library/Caches/pypoetry/virtualenvs/svaeva-evaluation-GkJecWxE-py3.11/lib/python3.11/site-packages/httpx/_client.py\u001b\\\u001b[2m_client.py\u001b[0m\u001b]8;;\u001b\\\u001b[2m:\u001b[0m\u001b]8;id=89965;file:///Users/eric/Library/Caches/pypoetry/virtualenvs/svaeva-evaluation-GkJecWxE-py3.11/lib/python3.11/site-packages/httpx/_client.py#1026\u001b\\\u001b[2m1026\u001b[0m\u001b]8;;\u001b\\\n",
       "                    \u001b[4;94mhttps://api.openai.com/v1/images/generations\u001b[0m \u001b[32m\"HTTP/1.1 \u001b[0m                  \n",
       "                    \u001b[32m200 OK\"\u001b[0m                                                                  \n"
      ]
     },
     "metadata": {},
     "output_type": "display_data"
    },
    {
     "data": {
      "text/html": [
       "<pre style=\"white-space:pre;overflow-x:auto;line-height:normal;font-family:Menlo,'DejaVu Sans Mono',consolas,'Courier New',monospace\"><span style=\"color: #7fbfbf; text-decoration-color: #7fbfbf\">[19:06:25] </span><span style=\"color: #000080; text-decoration-color: #000080\">INFO    </span> HTTP Request: <span style=\"color: #808000; text-decoration-color: #808000; font-weight: bold\">GET</span> <span style=\"color: #0000ff; text-decoration-color: #0000ff; text-decoration: underline\">https://oaidalleapiprodscus.blob.core.w</span> <a href=\"file:///Users/eric/Library/Caches/pypoetry/virtualenvs/svaeva-evaluation-GkJecWxE-py3.11/lib/python3.11/site-packages/httpx/_client.py\"><span style=\"color: #7f7f7f; text-decoration-color: #7f7f7f\">_client.py</span></a><span style=\"color: #7f7f7f; text-decoration-color: #7f7f7f\">:</span><a href=\"file:///Users/eric/Library/Caches/pypoetry/virtualenvs/svaeva-evaluation-GkJecWxE-py3.11/lib/python3.11/site-packages/httpx/_client.py#1026\"><span style=\"color: #7f7f7f; text-decoration-color: #7f7f7f\">1026</span></a>\n",
       "                    <span style=\"color: #0000ff; text-decoration-color: #0000ff; text-decoration: underline\">indows.net/private/org-77FRazywqMikL1SL1V5OQ0dm/user-gR3q</span>                \n",
       "                    <span style=\"color: #0000ff; text-decoration-color: #0000ff; text-decoration: underline\">3d0UmWWt3X6p4JlCQBwq/img-UEuDDZLTOmLAdw4gUiyQgK5i.png?st=</span>                \n",
       "                    <span style=\"color: #0000ff; text-decoration-color: #0000ff; text-decoration: underline\">2024-05-01T17%3A06%3A24Z&amp;se=2024-05-01T19%3A06%3A24Z&amp;sp=r</span>                \n",
       "                    <span style=\"color: #0000ff; text-decoration-color: #0000ff; text-decoration: underline\">&amp;sv=2021-08-06&amp;sr=b&amp;rscd=inline&amp;rsct=image/png&amp;skoid=6aaa</span>                \n",
       "                    <span style=\"color: #0000ff; text-decoration-color: #0000ff; text-decoration: underline\">dede-4fb3-4698-a8f6-684d7786b067&amp;sktid=a48cca56-e6da-484e</span>                \n",
       "                    <span style=\"color: #0000ff; text-decoration-color: #0000ff; text-decoration: underline\">-a814-9c849652bcb3&amp;skt=2024-04-30T19%3A52%3A15Z&amp;ske=2024-</span>                \n",
       "                    <span style=\"color: #0000ff; text-decoration-color: #0000ff; text-decoration: underline\">05-01T19%3A52%3A15Z&amp;sks=b&amp;skv=2021-08-06&amp;sig=5WwDfXnkgNcy</span>                \n",
       "                    <span style=\"color: #0000ff; text-decoration-color: #0000ff; text-decoration: underline\">3lH6h5/WImd0LESvdnFfN9TkgiEe3IM%3D</span> <span style=\"color: #008000; text-decoration-color: #008000\">\"HTTP/1.1 200 OK\"</span>                     \n",
       "</pre>\n"
      ],
      "text/plain": [
       "\u001b[2;36m[19:06:25]\u001b[0m\u001b[2;36m \u001b[0m\u001b[34mINFO    \u001b[0m HTTP Request: \u001b[1;33mGET\u001b[0m \u001b[4;94mhttps://oaidalleapiprodscus.blob.core.w\u001b[0m \u001b]8;id=938229;file:///Users/eric/Library/Caches/pypoetry/virtualenvs/svaeva-evaluation-GkJecWxE-py3.11/lib/python3.11/site-packages/httpx/_client.py\u001b\\\u001b[2m_client.py\u001b[0m\u001b]8;;\u001b\\\u001b[2m:\u001b[0m\u001b]8;id=497072;file:///Users/eric/Library/Caches/pypoetry/virtualenvs/svaeva-evaluation-GkJecWxE-py3.11/lib/python3.11/site-packages/httpx/_client.py#1026\u001b\\\u001b[2m1026\u001b[0m\u001b]8;;\u001b\\\n",
       "                    \u001b[4;94mindows.net/private/org-77FRazywqMikL1SL1V5OQ0dm/user-gR3q\u001b[0m                \n",
       "                    \u001b[4;94m3d0UmWWt3X6p4JlCQBwq/img-UEuDDZLTOmLAdw4gUiyQgK5i.png?\u001b[0m\u001b[4;94mst\u001b[0m\u001b[4;94m=\u001b[0m                \n",
       "                    \u001b[4;94m2024\u001b[0m\u001b[4;94m-05-01T17%3A06%3A24Z&\u001b[0m\u001b[4;94mse\u001b[0m\u001b[4;94m=\u001b[0m\u001b[4;94m2024\u001b[0m\u001b[4;94m-05-01T19%3A06%3A24Z&\u001b[0m\u001b[4;94msp\u001b[0m\u001b[4;94m=\u001b[0m\u001b[4;94mr\u001b[0m                \n",
       "                    \u001b[4;94m&\u001b[0m\u001b[4;94msv\u001b[0m\u001b[4;94m=\u001b[0m\u001b[4;94m2021\u001b[0m\u001b[4;94m-08-06&\u001b[0m\u001b[4;94msr\u001b[0m\u001b[4;94m=\u001b[0m\u001b[4;94mb\u001b[0m\u001b[4;94m&\u001b[0m\u001b[4;94mrscd\u001b[0m\u001b[4;94m=\u001b[0m\u001b[4;94minline\u001b[0m\u001b[4;94m&\u001b[0m\u001b[4;94mrsct\u001b[0m\u001b[4;94m=\u001b[0m\u001b[4;94mimage\u001b[0m\u001b[4;94m/png&\u001b[0m\u001b[4;94mskoid\u001b[0m\u001b[4;94m=\u001b[0m\u001b[4;94m6aaa\u001b[0m                \n",
       "                    \u001b[4;94mdede\u001b[0m\u001b[4;94m-4fb3-4698-a8f6-684d7786b067&\u001b[0m\u001b[4;94msktid\u001b[0m\u001b[4;94m=\u001b[0m\u001b[4;94ma48cca56\u001b[0m\u001b[4;94m-e6da-484e\u001b[0m                \n",
       "                    \u001b[4;94m-a814-9c849652bcb3&\u001b[0m\u001b[4;94mskt\u001b[0m\u001b[4;94m=\u001b[0m\u001b[4;94m2024\u001b[0m\u001b[4;94m-04-30T19%3A52%3A15Z&\u001b[0m\u001b[4;94mske\u001b[0m\u001b[4;94m=\u001b[0m\u001b[4;94m2024\u001b[0m\u001b[4;94m-\u001b[0m                \n",
       "                    \u001b[4;94m05-01T19%3A52%3A15Z&\u001b[0m\u001b[4;94msks\u001b[0m\u001b[4;94m=\u001b[0m\u001b[4;94mb\u001b[0m\u001b[4;94m&\u001b[0m\u001b[4;94mskv\u001b[0m\u001b[4;94m=\u001b[0m\u001b[4;94m2021\u001b[0m\u001b[4;94m-08-06&\u001b[0m\u001b[4;94msig\u001b[0m\u001b[4;94m=\u001b[0m\u001b[4;94m5WwDfXnkgNcy\u001b[0m                \n",
       "                    \u001b[4;94m3lH6h5\u001b[0m\u001b[4;94m/WImd0LESvdnFfN9TkgiEe3IM%3D\u001b[0m \u001b[32m\"HTTP/1.1 200 OK\"\u001b[0m                     \n"
      ]
     },
     "metadata": {},
     "output_type": "display_data"
    },
    {
     "name": "stdout",
     "output_type": "stream",
     "text": [
      "breakup 3\n",
      "sim-consonancia-breakup-003\n"
     ]
    },
    {
     "data": {
      "text/html": [
       "<pre style=\"white-space:pre;overflow-x:auto;line-height:normal;font-family:Menlo,'DejaVu Sans Mono',consolas,'Courier New',monospace\"><span style=\"color: #7fbfbf; text-decoration-color: #7fbfbf\">[19:06:41] </span><span style=\"color: #000080; text-decoration-color: #000080\">INFO    </span> HTTP Request: <span style=\"color: #808000; text-decoration-color: #808000; font-weight: bold\">POST</span>                                        <a href=\"file:///Users/eric/Library/Caches/pypoetry/virtualenvs/svaeva-evaluation-GkJecWxE-py3.11/lib/python3.11/site-packages/httpx/_client.py\"><span style=\"color: #7f7f7f; text-decoration-color: #7f7f7f\">_client.py</span></a><span style=\"color: #7f7f7f; text-decoration-color: #7f7f7f\">:</span><a href=\"file:///Users/eric/Library/Caches/pypoetry/virtualenvs/svaeva-evaluation-GkJecWxE-py3.11/lib/python3.11/site-packages/httpx/_client.py#1026\"><span style=\"color: #7f7f7f; text-decoration-color: #7f7f7f\">1026</span></a>\n",
       "                    <span style=\"color: #0000ff; text-decoration-color: #0000ff; text-decoration: underline\">https://api.openai.com/v1/chat/completions</span> <span style=\"color: #008000; text-decoration-color: #008000\">\"HTTP/1.1 200 </span>                \n",
       "                    <span style=\"color: #008000; text-decoration-color: #008000\">OK\"</span>                                                                      \n",
       "</pre>\n"
      ],
      "text/plain": [
       "\u001b[2;36m[19:06:41]\u001b[0m\u001b[2;36m \u001b[0m\u001b[34mINFO    \u001b[0m HTTP Request: \u001b[1;33mPOST\u001b[0m                                        \u001b]8;id=89919;file:///Users/eric/Library/Caches/pypoetry/virtualenvs/svaeva-evaluation-GkJecWxE-py3.11/lib/python3.11/site-packages/httpx/_client.py\u001b\\\u001b[2m_client.py\u001b[0m\u001b]8;;\u001b\\\u001b[2m:\u001b[0m\u001b]8;id=185825;file:///Users/eric/Library/Caches/pypoetry/virtualenvs/svaeva-evaluation-GkJecWxE-py3.11/lib/python3.11/site-packages/httpx/_client.py#1026\u001b\\\u001b[2m1026\u001b[0m\u001b]8;;\u001b\\\n",
       "                    \u001b[4;94mhttps://api.openai.com/v1/chat/completions\u001b[0m \u001b[32m\"HTTP/1.1 200 \u001b[0m                \n",
       "                    \u001b[32mOK\"\u001b[0m                                                                      \n"
      ]
     },
     "metadata": {},
     "output_type": "display_data"
    },
    {
     "data": {
      "text/html": [
       "<pre style=\"white-space:pre;overflow-x:auto;line-height:normal;font-family:Menlo,'DejaVu Sans Mono',consolas,'Courier New',monospace\"><span style=\"color: #7fbfbf; text-decoration-color: #7fbfbf\">[19:06:56] </span><span style=\"color: #000080; text-decoration-color: #000080\">INFO    </span> HTTP Request: <span style=\"color: #808000; text-decoration-color: #808000; font-weight: bold\">POST</span>                                        <a href=\"file:///Users/eric/Library/Caches/pypoetry/virtualenvs/svaeva-evaluation-GkJecWxE-py3.11/lib/python3.11/site-packages/httpx/_client.py\"><span style=\"color: #7f7f7f; text-decoration-color: #7f7f7f\">_client.py</span></a><span style=\"color: #7f7f7f; text-decoration-color: #7f7f7f\">:</span><a href=\"file:///Users/eric/Library/Caches/pypoetry/virtualenvs/svaeva-evaluation-GkJecWxE-py3.11/lib/python3.11/site-packages/httpx/_client.py#1026\"><span style=\"color: #7f7f7f; text-decoration-color: #7f7f7f\">1026</span></a>\n",
       "                    <span style=\"color: #0000ff; text-decoration-color: #0000ff; text-decoration: underline\">https://api.openai.com/v1/images/generations</span> <span style=\"color: #008000; text-decoration-color: #008000\">\"HTTP/1.1 </span>                  \n",
       "                    <span style=\"color: #008000; text-decoration-color: #008000\">200 OK\"</span>                                                                  \n",
       "</pre>\n"
      ],
      "text/plain": [
       "\u001b[2;36m[19:06:56]\u001b[0m\u001b[2;36m \u001b[0m\u001b[34mINFO    \u001b[0m HTTP Request: \u001b[1;33mPOST\u001b[0m                                        \u001b]8;id=430676;file:///Users/eric/Library/Caches/pypoetry/virtualenvs/svaeva-evaluation-GkJecWxE-py3.11/lib/python3.11/site-packages/httpx/_client.py\u001b\\\u001b[2m_client.py\u001b[0m\u001b]8;;\u001b\\\u001b[2m:\u001b[0m\u001b]8;id=681827;file:///Users/eric/Library/Caches/pypoetry/virtualenvs/svaeva-evaluation-GkJecWxE-py3.11/lib/python3.11/site-packages/httpx/_client.py#1026\u001b\\\u001b[2m1026\u001b[0m\u001b]8;;\u001b\\\n",
       "                    \u001b[4;94mhttps://api.openai.com/v1/images/generations\u001b[0m \u001b[32m\"HTTP/1.1 \u001b[0m                  \n",
       "                    \u001b[32m200 OK\"\u001b[0m                                                                  \n"
      ]
     },
     "metadata": {},
     "output_type": "display_data"
    },
    {
     "data": {
      "text/html": [
       "<pre style=\"white-space:pre;overflow-x:auto;line-height:normal;font-family:Menlo,'DejaVu Sans Mono',consolas,'Courier New',monospace\"><span style=\"color: #7fbfbf; text-decoration-color: #7fbfbf\">[19:06:57] </span><span style=\"color: #000080; text-decoration-color: #000080\">INFO    </span> HTTP Request: <span style=\"color: #808000; text-decoration-color: #808000; font-weight: bold\">GET</span> <span style=\"color: #0000ff; text-decoration-color: #0000ff; text-decoration: underline\">https://oaidalleapiprodscus.blob.core.w</span> <a href=\"file:///Users/eric/Library/Caches/pypoetry/virtualenvs/svaeva-evaluation-GkJecWxE-py3.11/lib/python3.11/site-packages/httpx/_client.py\"><span style=\"color: #7f7f7f; text-decoration-color: #7f7f7f\">_client.py</span></a><span style=\"color: #7f7f7f; text-decoration-color: #7f7f7f\">:</span><a href=\"file:///Users/eric/Library/Caches/pypoetry/virtualenvs/svaeva-evaluation-GkJecWxE-py3.11/lib/python3.11/site-packages/httpx/_client.py#1026\"><span style=\"color: #7f7f7f; text-decoration-color: #7f7f7f\">1026</span></a>\n",
       "                    <span style=\"color: #0000ff; text-decoration-color: #0000ff; text-decoration: underline\">indows.net/private/org-77FRazywqMikL1SL1V5OQ0dm/user-gR3q</span>                \n",
       "                    <span style=\"color: #0000ff; text-decoration-color: #0000ff; text-decoration: underline\">3d0UmWWt3X6p4JlCQBwq/img-sNYdR1ywyqAtaZkXhnfBlsAk.png?st=</span>                \n",
       "                    <span style=\"color: #0000ff; text-decoration-color: #0000ff; text-decoration: underline\">2024-05-01T17%3A06%3A56Z&amp;se=2024-05-01T19%3A06%3A56Z&amp;sp=r</span>                \n",
       "                    <span style=\"color: #0000ff; text-decoration-color: #0000ff; text-decoration: underline\">&amp;sv=2021-08-06&amp;sr=b&amp;rscd=inline&amp;rsct=image/png&amp;skoid=6aaa</span>                \n",
       "                    <span style=\"color: #0000ff; text-decoration-color: #0000ff; text-decoration: underline\">dede-4fb3-4698-a8f6-684d7786b067&amp;sktid=a48cca56-e6da-484e</span>                \n",
       "                    <span style=\"color: #0000ff; text-decoration-color: #0000ff; text-decoration: underline\">-a814-9c849652bcb3&amp;skt=2024-05-01T13%3A25%3A25Z&amp;ske=2024-</span>                \n",
       "                    <span style=\"color: #0000ff; text-decoration-color: #0000ff; text-decoration: underline\">05-02T13%3A25%3A25Z&amp;sks=b&amp;skv=2021-08-06&amp;sig=ff8arQUNT9kF</span>                \n",
       "                    <span style=\"color: #0000ff; text-decoration-color: #0000ff; text-decoration: underline\">ajWWKHKlyvPZNqygsvTzZIjJmF98qT8%3D</span> <span style=\"color: #008000; text-decoration-color: #008000\">\"HTTP/1.1 200 OK\"</span>                     \n",
       "</pre>\n"
      ],
      "text/plain": [
       "\u001b[2;36m[19:06:57]\u001b[0m\u001b[2;36m \u001b[0m\u001b[34mINFO    \u001b[0m HTTP Request: \u001b[1;33mGET\u001b[0m \u001b[4;94mhttps://oaidalleapiprodscus.blob.core.w\u001b[0m \u001b]8;id=589145;file:///Users/eric/Library/Caches/pypoetry/virtualenvs/svaeva-evaluation-GkJecWxE-py3.11/lib/python3.11/site-packages/httpx/_client.py\u001b\\\u001b[2m_client.py\u001b[0m\u001b]8;;\u001b\\\u001b[2m:\u001b[0m\u001b]8;id=894711;file:///Users/eric/Library/Caches/pypoetry/virtualenvs/svaeva-evaluation-GkJecWxE-py3.11/lib/python3.11/site-packages/httpx/_client.py#1026\u001b\\\u001b[2m1026\u001b[0m\u001b]8;;\u001b\\\n",
       "                    \u001b[4;94mindows.net/private/org-77FRazywqMikL1SL1V5OQ0dm/user-gR3q\u001b[0m                \n",
       "                    \u001b[4;94m3d0UmWWt3X6p4JlCQBwq/img-sNYdR1ywyqAtaZkXhnfBlsAk.png?\u001b[0m\u001b[4;94mst\u001b[0m\u001b[4;94m=\u001b[0m                \n",
       "                    \u001b[4;94m2024\u001b[0m\u001b[4;94m-05-01T17%3A06%3A56Z&\u001b[0m\u001b[4;94mse\u001b[0m\u001b[4;94m=\u001b[0m\u001b[4;94m2024\u001b[0m\u001b[4;94m-05-01T19%3A06%3A56Z&\u001b[0m\u001b[4;94msp\u001b[0m\u001b[4;94m=\u001b[0m\u001b[4;94mr\u001b[0m                \n",
       "                    \u001b[4;94m&\u001b[0m\u001b[4;94msv\u001b[0m\u001b[4;94m=\u001b[0m\u001b[4;94m2021\u001b[0m\u001b[4;94m-08-06&\u001b[0m\u001b[4;94msr\u001b[0m\u001b[4;94m=\u001b[0m\u001b[4;94mb\u001b[0m\u001b[4;94m&\u001b[0m\u001b[4;94mrscd\u001b[0m\u001b[4;94m=\u001b[0m\u001b[4;94minline\u001b[0m\u001b[4;94m&\u001b[0m\u001b[4;94mrsct\u001b[0m\u001b[4;94m=\u001b[0m\u001b[4;94mimage\u001b[0m\u001b[4;94m/png&\u001b[0m\u001b[4;94mskoid\u001b[0m\u001b[4;94m=\u001b[0m\u001b[4;94m6aaa\u001b[0m                \n",
       "                    \u001b[4;94mdede\u001b[0m\u001b[4;94m-4fb3-4698-a8f6-684d7786b067&\u001b[0m\u001b[4;94msktid\u001b[0m\u001b[4;94m=\u001b[0m\u001b[4;94ma48cca56\u001b[0m\u001b[4;94m-e6da-484e\u001b[0m                \n",
       "                    \u001b[4;94m-a814-9c849652bcb3&\u001b[0m\u001b[4;94mskt\u001b[0m\u001b[4;94m=\u001b[0m\u001b[4;94m2024\u001b[0m\u001b[4;94m-05-01T13%3A25%3A25Z&\u001b[0m\u001b[4;94mske\u001b[0m\u001b[4;94m=\u001b[0m\u001b[4;94m2024\u001b[0m\u001b[4;94m-\u001b[0m                \n",
       "                    \u001b[4;94m05-02T13%3A25%3A25Z&\u001b[0m\u001b[4;94msks\u001b[0m\u001b[4;94m=\u001b[0m\u001b[4;94mb\u001b[0m\u001b[4;94m&\u001b[0m\u001b[4;94mskv\u001b[0m\u001b[4;94m=\u001b[0m\u001b[4;94m2021\u001b[0m\u001b[4;94m-08-06&\u001b[0m\u001b[4;94msig\u001b[0m\u001b[4;94m=\u001b[0m\u001b[4;94mff8arQUNT9kF\u001b[0m                \n",
       "                    \u001b[4;94majWWKHKlyvPZNqygsvTzZIjJmF98qT8\u001b[0m\u001b[4;94m%3D\u001b[0m \u001b[32m\"HTTP/1.1 200 OK\"\u001b[0m                     \n"
      ]
     },
     "metadata": {},
     "output_type": "display_data"
    },
    {
     "name": "stdout",
     "output_type": "stream",
     "text": [
      "breakup 4\n",
      "sim-consonancia-breakup-004\n"
     ]
    },
    {
     "data": {
      "text/html": [
       "<pre style=\"white-space:pre;overflow-x:auto;line-height:normal;font-family:Menlo,'DejaVu Sans Mono',consolas,'Courier New',monospace\"><span style=\"color: #7fbfbf; text-decoration-color: #7fbfbf\">[19:07:05] </span><span style=\"color: #000080; text-decoration-color: #000080\">INFO    </span> HTTP Request: <span style=\"color: #808000; text-decoration-color: #808000; font-weight: bold\">POST</span>                                        <a href=\"file:///Users/eric/Library/Caches/pypoetry/virtualenvs/svaeva-evaluation-GkJecWxE-py3.11/lib/python3.11/site-packages/httpx/_client.py\"><span style=\"color: #7f7f7f; text-decoration-color: #7f7f7f\">_client.py</span></a><span style=\"color: #7f7f7f; text-decoration-color: #7f7f7f\">:</span><a href=\"file:///Users/eric/Library/Caches/pypoetry/virtualenvs/svaeva-evaluation-GkJecWxE-py3.11/lib/python3.11/site-packages/httpx/_client.py#1026\"><span style=\"color: #7f7f7f; text-decoration-color: #7f7f7f\">1026</span></a>\n",
       "                    <span style=\"color: #0000ff; text-decoration-color: #0000ff; text-decoration: underline\">https://api.openai.com/v1/chat/completions</span> <span style=\"color: #008000; text-decoration-color: #008000\">\"HTTP/1.1 200 </span>                \n",
       "                    <span style=\"color: #008000; text-decoration-color: #008000\">OK\"</span>                                                                      \n",
       "</pre>\n"
      ],
      "text/plain": [
       "\u001b[2;36m[19:07:05]\u001b[0m\u001b[2;36m \u001b[0m\u001b[34mINFO    \u001b[0m HTTP Request: \u001b[1;33mPOST\u001b[0m                                        \u001b]8;id=106194;file:///Users/eric/Library/Caches/pypoetry/virtualenvs/svaeva-evaluation-GkJecWxE-py3.11/lib/python3.11/site-packages/httpx/_client.py\u001b\\\u001b[2m_client.py\u001b[0m\u001b]8;;\u001b\\\u001b[2m:\u001b[0m\u001b]8;id=723634;file:///Users/eric/Library/Caches/pypoetry/virtualenvs/svaeva-evaluation-GkJecWxE-py3.11/lib/python3.11/site-packages/httpx/_client.py#1026\u001b\\\u001b[2m1026\u001b[0m\u001b]8;;\u001b\\\n",
       "                    \u001b[4;94mhttps://api.openai.com/v1/chat/completions\u001b[0m \u001b[32m\"HTTP/1.1 200 \u001b[0m                \n",
       "                    \u001b[32mOK\"\u001b[0m                                                                      \n"
      ]
     },
     "metadata": {},
     "output_type": "display_data"
    },
    {
     "data": {
      "text/html": [
       "<pre style=\"white-space:pre;overflow-x:auto;line-height:normal;font-family:Menlo,'DejaVu Sans Mono',consolas,'Courier New',monospace\"><span style=\"color: #7fbfbf; text-decoration-color: #7fbfbf\">[19:07:20] </span><span style=\"color: #000080; text-decoration-color: #000080\">INFO    </span> HTTP Request: <span style=\"color: #808000; text-decoration-color: #808000; font-weight: bold\">POST</span>                                        <a href=\"file:///Users/eric/Library/Caches/pypoetry/virtualenvs/svaeva-evaluation-GkJecWxE-py3.11/lib/python3.11/site-packages/httpx/_client.py\"><span style=\"color: #7f7f7f; text-decoration-color: #7f7f7f\">_client.py</span></a><span style=\"color: #7f7f7f; text-decoration-color: #7f7f7f\">:</span><a href=\"file:///Users/eric/Library/Caches/pypoetry/virtualenvs/svaeva-evaluation-GkJecWxE-py3.11/lib/python3.11/site-packages/httpx/_client.py#1026\"><span style=\"color: #7f7f7f; text-decoration-color: #7f7f7f\">1026</span></a>\n",
       "                    <span style=\"color: #0000ff; text-decoration-color: #0000ff; text-decoration: underline\">https://api.openai.com/v1/images/generations</span> <span style=\"color: #008000; text-decoration-color: #008000\">\"HTTP/1.1 </span>                  \n",
       "                    <span style=\"color: #008000; text-decoration-color: #008000\">200 OK\"</span>                                                                  \n",
       "</pre>\n"
      ],
      "text/plain": [
       "\u001b[2;36m[19:07:20]\u001b[0m\u001b[2;36m \u001b[0m\u001b[34mINFO    \u001b[0m HTTP Request: \u001b[1;33mPOST\u001b[0m                                        \u001b]8;id=348746;file:///Users/eric/Library/Caches/pypoetry/virtualenvs/svaeva-evaluation-GkJecWxE-py3.11/lib/python3.11/site-packages/httpx/_client.py\u001b\\\u001b[2m_client.py\u001b[0m\u001b]8;;\u001b\\\u001b[2m:\u001b[0m\u001b]8;id=12922;file:///Users/eric/Library/Caches/pypoetry/virtualenvs/svaeva-evaluation-GkJecWxE-py3.11/lib/python3.11/site-packages/httpx/_client.py#1026\u001b\\\u001b[2m1026\u001b[0m\u001b]8;;\u001b\\\n",
       "                    \u001b[4;94mhttps://api.openai.com/v1/images/generations\u001b[0m \u001b[32m\"HTTP/1.1 \u001b[0m                  \n",
       "                    \u001b[32m200 OK\"\u001b[0m                                                                  \n"
      ]
     },
     "metadata": {},
     "output_type": "display_data"
    },
    {
     "data": {
      "text/html": [
       "<pre style=\"white-space:pre;overflow-x:auto;line-height:normal;font-family:Menlo,'DejaVu Sans Mono',consolas,'Courier New',monospace\"><span style=\"color: #7fbfbf; text-decoration-color: #7fbfbf\">[19:07:21] </span><span style=\"color: #000080; text-decoration-color: #000080\">INFO    </span> HTTP Request: <span style=\"color: #808000; text-decoration-color: #808000; font-weight: bold\">GET</span> <span style=\"color: #0000ff; text-decoration-color: #0000ff; text-decoration: underline\">https://oaidalleapiprodscus.blob.core.w</span> <a href=\"file:///Users/eric/Library/Caches/pypoetry/virtualenvs/svaeva-evaluation-GkJecWxE-py3.11/lib/python3.11/site-packages/httpx/_client.py\"><span style=\"color: #7f7f7f; text-decoration-color: #7f7f7f\">_client.py</span></a><span style=\"color: #7f7f7f; text-decoration-color: #7f7f7f\">:</span><a href=\"file:///Users/eric/Library/Caches/pypoetry/virtualenvs/svaeva-evaluation-GkJecWxE-py3.11/lib/python3.11/site-packages/httpx/_client.py#1026\"><span style=\"color: #7f7f7f; text-decoration-color: #7f7f7f\">1026</span></a>\n",
       "                    <span style=\"color: #0000ff; text-decoration-color: #0000ff; text-decoration: underline\">indows.net/private/org-77FRazywqMikL1SL1V5OQ0dm/user-gR3q</span>                \n",
       "                    <span style=\"color: #0000ff; text-decoration-color: #0000ff; text-decoration: underline\">3d0UmWWt3X6p4JlCQBwq/img-Jz28bOepUznxPDSes8zFpbqA.png?st=</span>                \n",
       "                    <span style=\"color: #0000ff; text-decoration-color: #0000ff; text-decoration: underline\">2024-05-01T17%3A07%3A20Z&amp;se=2024-05-01T19%3A07%3A20Z&amp;sp=r</span>                \n",
       "                    <span style=\"color: #0000ff; text-decoration-color: #0000ff; text-decoration: underline\">&amp;sv=2021-08-06&amp;sr=b&amp;rscd=inline&amp;rsct=image/png&amp;skoid=6aaa</span>                \n",
       "                    <span style=\"color: #0000ff; text-decoration-color: #0000ff; text-decoration: underline\">dede-4fb3-4698-a8f6-684d7786b067&amp;sktid=a48cca56-e6da-484e</span>                \n",
       "                    <span style=\"color: #0000ff; text-decoration-color: #0000ff; text-decoration: underline\">-a814-9c849652bcb3&amp;skt=2024-04-30T19%3A37%3A16Z&amp;ske=2024-</span>                \n",
       "                    <span style=\"color: #0000ff; text-decoration-color: #0000ff; text-decoration: underline\">05-01T19%3A37%3A16Z&amp;sks=b&amp;skv=2021-08-06&amp;sig=9V1Z/F6hLHUp</span>                \n",
       "                    <span style=\"color: #0000ff; text-decoration-color: #0000ff; text-decoration: underline\">lKvm9qcwi0qTkVDNkkDxeeSWhhLnM7k%3D</span> <span style=\"color: #008000; text-decoration-color: #008000\">\"HTTP/1.1 200 OK\"</span>                     \n",
       "</pre>\n"
      ],
      "text/plain": [
       "\u001b[2;36m[19:07:21]\u001b[0m\u001b[2;36m \u001b[0m\u001b[34mINFO    \u001b[0m HTTP Request: \u001b[1;33mGET\u001b[0m \u001b[4;94mhttps://oaidalleapiprodscus.blob.core.w\u001b[0m \u001b]8;id=696271;file:///Users/eric/Library/Caches/pypoetry/virtualenvs/svaeva-evaluation-GkJecWxE-py3.11/lib/python3.11/site-packages/httpx/_client.py\u001b\\\u001b[2m_client.py\u001b[0m\u001b]8;;\u001b\\\u001b[2m:\u001b[0m\u001b]8;id=693176;file:///Users/eric/Library/Caches/pypoetry/virtualenvs/svaeva-evaluation-GkJecWxE-py3.11/lib/python3.11/site-packages/httpx/_client.py#1026\u001b\\\u001b[2m1026\u001b[0m\u001b]8;;\u001b\\\n",
       "                    \u001b[4;94mindows.net/private/org-77FRazywqMikL1SL1V5OQ0dm/user-gR3q\u001b[0m                \n",
       "                    \u001b[4;94m3d0UmWWt3X6p4JlCQBwq/img-Jz28bOepUznxPDSes8zFpbqA.png?\u001b[0m\u001b[4;94mst\u001b[0m\u001b[4;94m=\u001b[0m                \n",
       "                    \u001b[4;94m2024\u001b[0m\u001b[4;94m-05-01T17%3A07%3A20Z&\u001b[0m\u001b[4;94mse\u001b[0m\u001b[4;94m=\u001b[0m\u001b[4;94m2024\u001b[0m\u001b[4;94m-05-01T19%3A07%3A20Z&\u001b[0m\u001b[4;94msp\u001b[0m\u001b[4;94m=\u001b[0m\u001b[4;94mr\u001b[0m                \n",
       "                    \u001b[4;94m&\u001b[0m\u001b[4;94msv\u001b[0m\u001b[4;94m=\u001b[0m\u001b[4;94m2021\u001b[0m\u001b[4;94m-08-06&\u001b[0m\u001b[4;94msr\u001b[0m\u001b[4;94m=\u001b[0m\u001b[4;94mb\u001b[0m\u001b[4;94m&\u001b[0m\u001b[4;94mrscd\u001b[0m\u001b[4;94m=\u001b[0m\u001b[4;94minline\u001b[0m\u001b[4;94m&\u001b[0m\u001b[4;94mrsct\u001b[0m\u001b[4;94m=\u001b[0m\u001b[4;94mimage\u001b[0m\u001b[4;94m/png&\u001b[0m\u001b[4;94mskoid\u001b[0m\u001b[4;94m=\u001b[0m\u001b[4;94m6aaa\u001b[0m                \n",
       "                    \u001b[4;94mdede\u001b[0m\u001b[4;94m-4fb3-4698-a8f6-684d7786b067&\u001b[0m\u001b[4;94msktid\u001b[0m\u001b[4;94m=\u001b[0m\u001b[4;94ma48cca56\u001b[0m\u001b[4;94m-e6da-484e\u001b[0m                \n",
       "                    \u001b[4;94m-a814-9c849652bcb3&\u001b[0m\u001b[4;94mskt\u001b[0m\u001b[4;94m=\u001b[0m\u001b[4;94m2024\u001b[0m\u001b[4;94m-04-30T19%3A37%3A16Z&\u001b[0m\u001b[4;94mske\u001b[0m\u001b[4;94m=\u001b[0m\u001b[4;94m2024\u001b[0m\u001b[4;94m-\u001b[0m                \n",
       "                    \u001b[4;94m05-01T19%3A37%3A16Z&\u001b[0m\u001b[4;94msks\u001b[0m\u001b[4;94m=\u001b[0m\u001b[4;94mb\u001b[0m\u001b[4;94m&\u001b[0m\u001b[4;94mskv\u001b[0m\u001b[4;94m=\u001b[0m\u001b[4;94m2021\u001b[0m\u001b[4;94m-08-06&\u001b[0m\u001b[4;94msig\u001b[0m\u001b[4;94m=\u001b[0m\u001b[4;94m9V1Z\u001b[0m\u001b[4;94m/F6hLHUp\u001b[0m                \n",
       "                    \u001b[4;94mlKvm9qcwi0qTkVDNkkDxeeSWhhLnM7k%3D\u001b[0m \u001b[32m\"HTTP/1.1 200 OK\"\u001b[0m                     \n"
      ]
     },
     "metadata": {},
     "output_type": "display_data"
    },
    {
     "name": "stdout",
     "output_type": "stream",
     "text": [
      "breakup 5\n",
      "sim-consonancia-breakup-005\n"
     ]
    },
    {
     "data": {
      "text/html": [
       "<pre style=\"white-space:pre;overflow-x:auto;line-height:normal;font-family:Menlo,'DejaVu Sans Mono',consolas,'Courier New',monospace\"><span style=\"color: #7fbfbf; text-decoration-color: #7fbfbf\">[19:07:30] </span><span style=\"color: #000080; text-decoration-color: #000080\">INFO    </span> HTTP Request: <span style=\"color: #808000; text-decoration-color: #808000; font-weight: bold\">POST</span>                                        <a href=\"file:///Users/eric/Library/Caches/pypoetry/virtualenvs/svaeva-evaluation-GkJecWxE-py3.11/lib/python3.11/site-packages/httpx/_client.py\"><span style=\"color: #7f7f7f; text-decoration-color: #7f7f7f\">_client.py</span></a><span style=\"color: #7f7f7f; text-decoration-color: #7f7f7f\">:</span><a href=\"file:///Users/eric/Library/Caches/pypoetry/virtualenvs/svaeva-evaluation-GkJecWxE-py3.11/lib/python3.11/site-packages/httpx/_client.py#1026\"><span style=\"color: #7f7f7f; text-decoration-color: #7f7f7f\">1026</span></a>\n",
       "                    <span style=\"color: #0000ff; text-decoration-color: #0000ff; text-decoration: underline\">https://api.openai.com/v1/chat/completions</span> <span style=\"color: #008000; text-decoration-color: #008000\">\"HTTP/1.1 200 </span>                \n",
       "                    <span style=\"color: #008000; text-decoration-color: #008000\">OK\"</span>                                                                      \n",
       "</pre>\n"
      ],
      "text/plain": [
       "\u001b[2;36m[19:07:30]\u001b[0m\u001b[2;36m \u001b[0m\u001b[34mINFO    \u001b[0m HTTP Request: \u001b[1;33mPOST\u001b[0m                                        \u001b]8;id=16817;file:///Users/eric/Library/Caches/pypoetry/virtualenvs/svaeva-evaluation-GkJecWxE-py3.11/lib/python3.11/site-packages/httpx/_client.py\u001b\\\u001b[2m_client.py\u001b[0m\u001b]8;;\u001b\\\u001b[2m:\u001b[0m\u001b]8;id=755571;file:///Users/eric/Library/Caches/pypoetry/virtualenvs/svaeva-evaluation-GkJecWxE-py3.11/lib/python3.11/site-packages/httpx/_client.py#1026\u001b\\\u001b[2m1026\u001b[0m\u001b]8;;\u001b\\\n",
       "                    \u001b[4;94mhttps://api.openai.com/v1/chat/completions\u001b[0m \u001b[32m\"HTTP/1.1 200 \u001b[0m                \n",
       "                    \u001b[32mOK\"\u001b[0m                                                                      \n"
      ]
     },
     "metadata": {},
     "output_type": "display_data"
    },
    {
     "data": {
      "text/html": [
       "<pre style=\"white-space:pre;overflow-x:auto;line-height:normal;font-family:Menlo,'DejaVu Sans Mono',consolas,'Courier New',monospace\"><span style=\"color: #7fbfbf; text-decoration-color: #7fbfbf\">[19:07:47] </span><span style=\"color: #000080; text-decoration-color: #000080\">INFO    </span> HTTP Request: <span style=\"color: #808000; text-decoration-color: #808000; font-weight: bold\">POST</span>                                        <a href=\"file:///Users/eric/Library/Caches/pypoetry/virtualenvs/svaeva-evaluation-GkJecWxE-py3.11/lib/python3.11/site-packages/httpx/_client.py\"><span style=\"color: #7f7f7f; text-decoration-color: #7f7f7f\">_client.py</span></a><span style=\"color: #7f7f7f; text-decoration-color: #7f7f7f\">:</span><a href=\"file:///Users/eric/Library/Caches/pypoetry/virtualenvs/svaeva-evaluation-GkJecWxE-py3.11/lib/python3.11/site-packages/httpx/_client.py#1026\"><span style=\"color: #7f7f7f; text-decoration-color: #7f7f7f\">1026</span></a>\n",
       "                    <span style=\"color: #0000ff; text-decoration-color: #0000ff; text-decoration: underline\">https://api.openai.com/v1/images/generations</span> <span style=\"color: #008000; text-decoration-color: #008000\">\"HTTP/1.1 </span>                  \n",
       "                    <span style=\"color: #008000; text-decoration-color: #008000\">200 OK\"</span>                                                                  \n",
       "</pre>\n"
      ],
      "text/plain": [
       "\u001b[2;36m[19:07:47]\u001b[0m\u001b[2;36m \u001b[0m\u001b[34mINFO    \u001b[0m HTTP Request: \u001b[1;33mPOST\u001b[0m                                        \u001b]8;id=518725;file:///Users/eric/Library/Caches/pypoetry/virtualenvs/svaeva-evaluation-GkJecWxE-py3.11/lib/python3.11/site-packages/httpx/_client.py\u001b\\\u001b[2m_client.py\u001b[0m\u001b]8;;\u001b\\\u001b[2m:\u001b[0m\u001b]8;id=8517;file:///Users/eric/Library/Caches/pypoetry/virtualenvs/svaeva-evaluation-GkJecWxE-py3.11/lib/python3.11/site-packages/httpx/_client.py#1026\u001b\\\u001b[2m1026\u001b[0m\u001b]8;;\u001b\\\n",
       "                    \u001b[4;94mhttps://api.openai.com/v1/images/generations\u001b[0m \u001b[32m\"HTTP/1.1 \u001b[0m                  \n",
       "                    \u001b[32m200 OK\"\u001b[0m                                                                  \n"
      ]
     },
     "metadata": {},
     "output_type": "display_data"
    },
    {
     "data": {
      "text/html": [
       "<pre style=\"white-space:pre;overflow-x:auto;line-height:normal;font-family:Menlo,'DejaVu Sans Mono',consolas,'Courier New',monospace\"><span style=\"color: #7fbfbf; text-decoration-color: #7fbfbf\">[19:07:48] </span><span style=\"color: #000080; text-decoration-color: #000080\">INFO    </span> HTTP Request: <span style=\"color: #808000; text-decoration-color: #808000; font-weight: bold\">GET</span> <span style=\"color: #0000ff; text-decoration-color: #0000ff; text-decoration: underline\">https://oaidalleapiprodscus.blob.core.w</span> <a href=\"file:///Users/eric/Library/Caches/pypoetry/virtualenvs/svaeva-evaluation-GkJecWxE-py3.11/lib/python3.11/site-packages/httpx/_client.py\"><span style=\"color: #7f7f7f; text-decoration-color: #7f7f7f\">_client.py</span></a><span style=\"color: #7f7f7f; text-decoration-color: #7f7f7f\">:</span><a href=\"file:///Users/eric/Library/Caches/pypoetry/virtualenvs/svaeva-evaluation-GkJecWxE-py3.11/lib/python3.11/site-packages/httpx/_client.py#1026\"><span style=\"color: #7f7f7f; text-decoration-color: #7f7f7f\">1026</span></a>\n",
       "                    <span style=\"color: #0000ff; text-decoration-color: #0000ff; text-decoration: underline\">indows.net/private/org-77FRazywqMikL1SL1V5OQ0dm/user-gR3q</span>                \n",
       "                    <span style=\"color: #0000ff; text-decoration-color: #0000ff; text-decoration: underline\">3d0UmWWt3X6p4JlCQBwq/img-FfMUGqHMDPGrjOcc0MTt9l9f.png?st=</span>                \n",
       "                    <span style=\"color: #0000ff; text-decoration-color: #0000ff; text-decoration: underline\">2024-05-01T17%3A07%3A47Z&amp;se=2024-05-01T19%3A07%3A47Z&amp;sp=r</span>                \n",
       "                    <span style=\"color: #0000ff; text-decoration-color: #0000ff; text-decoration: underline\">&amp;sv=2021-08-06&amp;sr=b&amp;rscd=inline&amp;rsct=image/png&amp;skoid=6aaa</span>                \n",
       "                    <span style=\"color: #0000ff; text-decoration-color: #0000ff; text-decoration: underline\">dede-4fb3-4698-a8f6-684d7786b067&amp;sktid=a48cca56-e6da-484e</span>                \n",
       "                    <span style=\"color: #0000ff; text-decoration-color: #0000ff; text-decoration: underline\">-a814-9c849652bcb3&amp;skt=2024-04-30T19%3A47%3A34Z&amp;ske=2024-</span>                \n",
       "                    <span style=\"color: #0000ff; text-decoration-color: #0000ff; text-decoration: underline\">05-01T19%3A47%3A34Z&amp;sks=b&amp;skv=2021-08-06&amp;sig=eOGNU8MLU5uq</span>                \n",
       "                    <span style=\"color: #0000ff; text-decoration-color: #0000ff; text-decoration: underline\">zy59ep8MzsXOVaPs9tpgMXyWMtbdTs8%3D</span> <span style=\"color: #008000; text-decoration-color: #008000\">\"HTTP/1.1 200 OK\"</span>                     \n",
       "</pre>\n"
      ],
      "text/plain": [
       "\u001b[2;36m[19:07:48]\u001b[0m\u001b[2;36m \u001b[0m\u001b[34mINFO    \u001b[0m HTTP Request: \u001b[1;33mGET\u001b[0m \u001b[4;94mhttps://oaidalleapiprodscus.blob.core.w\u001b[0m \u001b]8;id=879508;file:///Users/eric/Library/Caches/pypoetry/virtualenvs/svaeva-evaluation-GkJecWxE-py3.11/lib/python3.11/site-packages/httpx/_client.py\u001b\\\u001b[2m_client.py\u001b[0m\u001b]8;;\u001b\\\u001b[2m:\u001b[0m\u001b]8;id=216957;file:///Users/eric/Library/Caches/pypoetry/virtualenvs/svaeva-evaluation-GkJecWxE-py3.11/lib/python3.11/site-packages/httpx/_client.py#1026\u001b\\\u001b[2m1026\u001b[0m\u001b]8;;\u001b\\\n",
       "                    \u001b[4;94mindows.net/private/org-77FRazywqMikL1SL1V5OQ0dm/user-gR3q\u001b[0m                \n",
       "                    \u001b[4;94m3d0UmWWt3X6p4JlCQBwq/img-FfMUGqHMDPGrjOcc0MTt9l9f.png?\u001b[0m\u001b[4;94mst\u001b[0m\u001b[4;94m=\u001b[0m                \n",
       "                    \u001b[4;94m2024\u001b[0m\u001b[4;94m-05-01T17%3A07%3A47Z&\u001b[0m\u001b[4;94mse\u001b[0m\u001b[4;94m=\u001b[0m\u001b[4;94m2024\u001b[0m\u001b[4;94m-05-01T19%3A07%3A47Z&\u001b[0m\u001b[4;94msp\u001b[0m\u001b[4;94m=\u001b[0m\u001b[4;94mr\u001b[0m                \n",
       "                    \u001b[4;94m&\u001b[0m\u001b[4;94msv\u001b[0m\u001b[4;94m=\u001b[0m\u001b[4;94m2021\u001b[0m\u001b[4;94m-08-06&\u001b[0m\u001b[4;94msr\u001b[0m\u001b[4;94m=\u001b[0m\u001b[4;94mb\u001b[0m\u001b[4;94m&\u001b[0m\u001b[4;94mrscd\u001b[0m\u001b[4;94m=\u001b[0m\u001b[4;94minline\u001b[0m\u001b[4;94m&\u001b[0m\u001b[4;94mrsct\u001b[0m\u001b[4;94m=\u001b[0m\u001b[4;94mimage\u001b[0m\u001b[4;94m/png&\u001b[0m\u001b[4;94mskoid\u001b[0m\u001b[4;94m=\u001b[0m\u001b[4;94m6aaa\u001b[0m                \n",
       "                    \u001b[4;94mdede\u001b[0m\u001b[4;94m-4fb3-4698-a8f6-684d7786b067&\u001b[0m\u001b[4;94msktid\u001b[0m\u001b[4;94m=\u001b[0m\u001b[4;94ma48cca56\u001b[0m\u001b[4;94m-e6da-484e\u001b[0m                \n",
       "                    \u001b[4;94m-a814-9c849652bcb3&\u001b[0m\u001b[4;94mskt\u001b[0m\u001b[4;94m=\u001b[0m\u001b[4;94m2024\u001b[0m\u001b[4;94m-04-30T19%3A47%3A34Z&\u001b[0m\u001b[4;94mske\u001b[0m\u001b[4;94m=\u001b[0m\u001b[4;94m2024\u001b[0m\u001b[4;94m-\u001b[0m                \n",
       "                    \u001b[4;94m05-01T19%3A47%3A34Z&\u001b[0m\u001b[4;94msks\u001b[0m\u001b[4;94m=\u001b[0m\u001b[4;94mb\u001b[0m\u001b[4;94m&\u001b[0m\u001b[4;94mskv\u001b[0m\u001b[4;94m=\u001b[0m\u001b[4;94m2021\u001b[0m\u001b[4;94m-08-06&\u001b[0m\u001b[4;94msig\u001b[0m\u001b[4;94m=\u001b[0m\u001b[4;94meOGNU8MLU5uq\u001b[0m                \n",
       "                    \u001b[4;94mzy59ep8MzsXOVaPs9tpgMXyWMtbdTs8\u001b[0m\u001b[4;94m%3D\u001b[0m \u001b[32m\"HTTP/1.1 200 OK\"\u001b[0m                     \n"
      ]
     },
     "metadata": {},
     "output_type": "display_data"
    },
    {
     "name": "stdout",
     "output_type": "stream",
     "text": [
      "breakup 6\n",
      "sim-consonancia-breakup-006\n"
     ]
    },
    {
     "data": {
      "text/html": [
       "<pre style=\"white-space:pre;overflow-x:auto;line-height:normal;font-family:Menlo,'DejaVu Sans Mono',consolas,'Courier New',monospace\"><span style=\"color: #7fbfbf; text-decoration-color: #7fbfbf\">[19:08:03] </span><span style=\"color: #000080; text-decoration-color: #000080\">INFO    </span> HTTP Request: <span style=\"color: #808000; text-decoration-color: #808000; font-weight: bold\">POST</span>                                        <a href=\"file:///Users/eric/Library/Caches/pypoetry/virtualenvs/svaeva-evaluation-GkJecWxE-py3.11/lib/python3.11/site-packages/httpx/_client.py\"><span style=\"color: #7f7f7f; text-decoration-color: #7f7f7f\">_client.py</span></a><span style=\"color: #7f7f7f; text-decoration-color: #7f7f7f\">:</span><a href=\"file:///Users/eric/Library/Caches/pypoetry/virtualenvs/svaeva-evaluation-GkJecWxE-py3.11/lib/python3.11/site-packages/httpx/_client.py#1026\"><span style=\"color: #7f7f7f; text-decoration-color: #7f7f7f\">1026</span></a>\n",
       "                    <span style=\"color: #0000ff; text-decoration-color: #0000ff; text-decoration: underline\">https://api.openai.com/v1/chat/completions</span> <span style=\"color: #008000; text-decoration-color: #008000\">\"HTTP/1.1 200 </span>                \n",
       "                    <span style=\"color: #008000; text-decoration-color: #008000\">OK\"</span>                                                                      \n",
       "</pre>\n"
      ],
      "text/plain": [
       "\u001b[2;36m[19:08:03]\u001b[0m\u001b[2;36m \u001b[0m\u001b[34mINFO    \u001b[0m HTTP Request: \u001b[1;33mPOST\u001b[0m                                        \u001b]8;id=284245;file:///Users/eric/Library/Caches/pypoetry/virtualenvs/svaeva-evaluation-GkJecWxE-py3.11/lib/python3.11/site-packages/httpx/_client.py\u001b\\\u001b[2m_client.py\u001b[0m\u001b]8;;\u001b\\\u001b[2m:\u001b[0m\u001b]8;id=658028;file:///Users/eric/Library/Caches/pypoetry/virtualenvs/svaeva-evaluation-GkJecWxE-py3.11/lib/python3.11/site-packages/httpx/_client.py#1026\u001b\\\u001b[2m1026\u001b[0m\u001b]8;;\u001b\\\n",
       "                    \u001b[4;94mhttps://api.openai.com/v1/chat/completions\u001b[0m \u001b[32m\"HTTP/1.1 200 \u001b[0m                \n",
       "                    \u001b[32mOK\"\u001b[0m                                                                      \n"
      ]
     },
     "metadata": {},
     "output_type": "display_data"
    },
    {
     "data": {
      "text/html": [
       "<pre style=\"white-space:pre;overflow-x:auto;line-height:normal;font-family:Menlo,'DejaVu Sans Mono',consolas,'Courier New',monospace\"><span style=\"color: #7fbfbf; text-decoration-color: #7fbfbf\">[19:08:21] </span><span style=\"color: #000080; text-decoration-color: #000080\">INFO    </span> HTTP Request: <span style=\"color: #808000; text-decoration-color: #808000; font-weight: bold\">POST</span>                                        <a href=\"file:///Users/eric/Library/Caches/pypoetry/virtualenvs/svaeva-evaluation-GkJecWxE-py3.11/lib/python3.11/site-packages/httpx/_client.py\"><span style=\"color: #7f7f7f; text-decoration-color: #7f7f7f\">_client.py</span></a><span style=\"color: #7f7f7f; text-decoration-color: #7f7f7f\">:</span><a href=\"file:///Users/eric/Library/Caches/pypoetry/virtualenvs/svaeva-evaluation-GkJecWxE-py3.11/lib/python3.11/site-packages/httpx/_client.py#1026\"><span style=\"color: #7f7f7f; text-decoration-color: #7f7f7f\">1026</span></a>\n",
       "                    <span style=\"color: #0000ff; text-decoration-color: #0000ff; text-decoration: underline\">https://api.openai.com/v1/images/generations</span> <span style=\"color: #008000; text-decoration-color: #008000\">\"HTTP/1.1 </span>                  \n",
       "                    <span style=\"color: #008000; text-decoration-color: #008000\">200 OK\"</span>                                                                  \n",
       "</pre>\n"
      ],
      "text/plain": [
       "\u001b[2;36m[19:08:21]\u001b[0m\u001b[2;36m \u001b[0m\u001b[34mINFO    \u001b[0m HTTP Request: \u001b[1;33mPOST\u001b[0m                                        \u001b]8;id=509269;file:///Users/eric/Library/Caches/pypoetry/virtualenvs/svaeva-evaluation-GkJecWxE-py3.11/lib/python3.11/site-packages/httpx/_client.py\u001b\\\u001b[2m_client.py\u001b[0m\u001b]8;;\u001b\\\u001b[2m:\u001b[0m\u001b]8;id=967020;file:///Users/eric/Library/Caches/pypoetry/virtualenvs/svaeva-evaluation-GkJecWxE-py3.11/lib/python3.11/site-packages/httpx/_client.py#1026\u001b\\\u001b[2m1026\u001b[0m\u001b]8;;\u001b\\\n",
       "                    \u001b[4;94mhttps://api.openai.com/v1/images/generations\u001b[0m \u001b[32m\"HTTP/1.1 \u001b[0m                  \n",
       "                    \u001b[32m200 OK\"\u001b[0m                                                                  \n"
      ]
     },
     "metadata": {},
     "output_type": "display_data"
    },
    {
     "data": {
      "text/html": [
       "<pre style=\"white-space:pre;overflow-x:auto;line-height:normal;font-family:Menlo,'DejaVu Sans Mono',consolas,'Courier New',monospace\"><span style=\"color: #7fbfbf; text-decoration-color: #7fbfbf\">[19:08:22] </span><span style=\"color: #000080; text-decoration-color: #000080\">INFO    </span> HTTP Request: <span style=\"color: #808000; text-decoration-color: #808000; font-weight: bold\">GET</span> <span style=\"color: #0000ff; text-decoration-color: #0000ff; text-decoration: underline\">https://oaidalleapiprodscus.blob.core.w</span> <a href=\"file:///Users/eric/Library/Caches/pypoetry/virtualenvs/svaeva-evaluation-GkJecWxE-py3.11/lib/python3.11/site-packages/httpx/_client.py\"><span style=\"color: #7f7f7f; text-decoration-color: #7f7f7f\">_client.py</span></a><span style=\"color: #7f7f7f; text-decoration-color: #7f7f7f\">:</span><a href=\"file:///Users/eric/Library/Caches/pypoetry/virtualenvs/svaeva-evaluation-GkJecWxE-py3.11/lib/python3.11/site-packages/httpx/_client.py#1026\"><span style=\"color: #7f7f7f; text-decoration-color: #7f7f7f\">1026</span></a>\n",
       "                    <span style=\"color: #0000ff; text-decoration-color: #0000ff; text-decoration: underline\">indows.net/private/org-77FRazywqMikL1SL1V5OQ0dm/user-gR3q</span>                \n",
       "                    <span style=\"color: #0000ff; text-decoration-color: #0000ff; text-decoration: underline\">3d0UmWWt3X6p4JlCQBwq/img-LxbQIbZtbtkUg0aT64CAewwd.png?st=</span>                \n",
       "                    <span style=\"color: #0000ff; text-decoration-color: #0000ff; text-decoration: underline\">2024-05-01T17%3A08%3A21Z&amp;se=2024-05-01T19%3A08%3A21Z&amp;sp=r</span>                \n",
       "                    <span style=\"color: #0000ff; text-decoration-color: #0000ff; text-decoration: underline\">&amp;sv=2021-08-06&amp;sr=b&amp;rscd=inline&amp;rsct=image/png&amp;skoid=6aaa</span>                \n",
       "                    <span style=\"color: #0000ff; text-decoration-color: #0000ff; text-decoration: underline\">dede-4fb3-4698-a8f6-684d7786b067&amp;sktid=a48cca56-e6da-484e</span>                \n",
       "                    <span style=\"color: #0000ff; text-decoration-color: #0000ff; text-decoration: underline\">-a814-9c849652bcb3&amp;skt=2024-05-01T12%3A32%3A15Z&amp;ske=2024-</span>                \n",
       "                    <span style=\"color: #0000ff; text-decoration-color: #0000ff; text-decoration: underline\">05-02T12%3A32%3A15Z&amp;sks=b&amp;skv=2021-08-06&amp;sig=q8ITynCIR304</span>                \n",
       "                    <span style=\"color: #0000ff; text-decoration-color: #0000ff; text-decoration: underline\">WfJacjsrzWVCQo1QNKe5d%2BG2DB5VEGE%3D</span> <span style=\"color: #008000; text-decoration-color: #008000\">\"HTTP/1.1 200 OK\"</span>                   \n",
       "</pre>\n"
      ],
      "text/plain": [
       "\u001b[2;36m[19:08:22]\u001b[0m\u001b[2;36m \u001b[0m\u001b[34mINFO    \u001b[0m HTTP Request: \u001b[1;33mGET\u001b[0m \u001b[4;94mhttps://oaidalleapiprodscus.blob.core.w\u001b[0m \u001b]8;id=956715;file:///Users/eric/Library/Caches/pypoetry/virtualenvs/svaeva-evaluation-GkJecWxE-py3.11/lib/python3.11/site-packages/httpx/_client.py\u001b\\\u001b[2m_client.py\u001b[0m\u001b]8;;\u001b\\\u001b[2m:\u001b[0m\u001b]8;id=53552;file:///Users/eric/Library/Caches/pypoetry/virtualenvs/svaeva-evaluation-GkJecWxE-py3.11/lib/python3.11/site-packages/httpx/_client.py#1026\u001b\\\u001b[2m1026\u001b[0m\u001b]8;;\u001b\\\n",
       "                    \u001b[4;94mindows.net/private/org-77FRazywqMikL1SL1V5OQ0dm/user-gR3q\u001b[0m                \n",
       "                    \u001b[4;94m3d0UmWWt3X6p4JlCQBwq/img-LxbQIbZtbtkUg0aT64CAewwd.png?\u001b[0m\u001b[4;94mst\u001b[0m\u001b[4;94m=\u001b[0m                \n",
       "                    \u001b[4;94m2024\u001b[0m\u001b[4;94m-05-01T17%3A08%3A21Z&\u001b[0m\u001b[4;94mse\u001b[0m\u001b[4;94m=\u001b[0m\u001b[4;94m2024\u001b[0m\u001b[4;94m-05-01T19%3A08%3A21Z&\u001b[0m\u001b[4;94msp\u001b[0m\u001b[4;94m=\u001b[0m\u001b[4;94mr\u001b[0m                \n",
       "                    \u001b[4;94m&\u001b[0m\u001b[4;94msv\u001b[0m\u001b[4;94m=\u001b[0m\u001b[4;94m2021\u001b[0m\u001b[4;94m-08-06&\u001b[0m\u001b[4;94msr\u001b[0m\u001b[4;94m=\u001b[0m\u001b[4;94mb\u001b[0m\u001b[4;94m&\u001b[0m\u001b[4;94mrscd\u001b[0m\u001b[4;94m=\u001b[0m\u001b[4;94minline\u001b[0m\u001b[4;94m&\u001b[0m\u001b[4;94mrsct\u001b[0m\u001b[4;94m=\u001b[0m\u001b[4;94mimage\u001b[0m\u001b[4;94m/png&\u001b[0m\u001b[4;94mskoid\u001b[0m\u001b[4;94m=\u001b[0m\u001b[4;94m6aaa\u001b[0m                \n",
       "                    \u001b[4;94mdede\u001b[0m\u001b[4;94m-4fb3-4698-a8f6-684d7786b067&\u001b[0m\u001b[4;94msktid\u001b[0m\u001b[4;94m=\u001b[0m\u001b[4;94ma48cca56\u001b[0m\u001b[4;94m-e6da-484e\u001b[0m                \n",
       "                    \u001b[4;94m-a814-9c849652bcb3&\u001b[0m\u001b[4;94mskt\u001b[0m\u001b[4;94m=\u001b[0m\u001b[4;94m2024\u001b[0m\u001b[4;94m-05-01T12%3A32%3A15Z&\u001b[0m\u001b[4;94mske\u001b[0m\u001b[4;94m=\u001b[0m\u001b[4;94m2024\u001b[0m\u001b[4;94m-\u001b[0m                \n",
       "                    \u001b[4;94m05-02T12%3A32%3A15Z&\u001b[0m\u001b[4;94msks\u001b[0m\u001b[4;94m=\u001b[0m\u001b[4;94mb\u001b[0m\u001b[4;94m&\u001b[0m\u001b[4;94mskv\u001b[0m\u001b[4;94m=\u001b[0m\u001b[4;94m2021\u001b[0m\u001b[4;94m-08-06&\u001b[0m\u001b[4;94msig\u001b[0m\u001b[4;94m=\u001b[0m\u001b[4;94mq8ITynCIR304\u001b[0m                \n",
       "                    \u001b[4;94mWfJacjsrzWVCQo1QNKe5d\u001b[0m\u001b[4;94m%2BG2DB5VEGE%3D\u001b[0m \u001b[32m\"HTTP/1.1 200 OK\"\u001b[0m                   \n"
      ]
     },
     "metadata": {},
     "output_type": "display_data"
    }
   ],
   "source": [
    "from svaeva_evaluation.simulation.consonancia import retrieve_redis_windowed_chat_history_as_text\n",
    "from svaeva_evaluation.prompts.consonancia import arthritis, breakup, chronic_hip_pain, disc_hernia, pots\n",
    "prompts = dict()\n",
    "# prompts[\"disc_hernia\"] = disc_hernia\n",
    "# prompts[\"arthritis\"] = arthritis\n",
    "prompts[\"chronic_hip_pain\"] = chronic_hip_pain\n",
    "prompts[\"pots\"] = pots\n",
    "prompts[\"breakup\"] = breakup\n",
    "\n",
    "key_prefix = f\"{platform_id}_{conversation_id}:\"\n",
    "for key, value in prompts.items():\n",
    "    condition = key\n",
    "    for i in range(1, 7):\n",
    "        print(condition, i)\n",
    "        user_id = f\"sim-consonancia-{condition}-{str(i).zfill(3)}\"\n",
    "        print(user_id)\n",
    "        url = str(os.getenv(\"REDIS_OM_URL\"))\n",
    "        chat_history_length = 40\n",
    "        text = retrieve_redis_windowed_chat_history_as_text(\n",
    "            user_id, url, key_prefix, chat_history_length=chat_history_length\n",
    "        )\n",
    "\n",
    "        user = update_user_with_image(user_id)\n",
    "\n",
    "        user.save()\n",
    "\n",
    "        # compute_conversation_embedding_and_update_user(\n",
    "        #     user_id,\n",
    "        #     os.environ[\"REDIS_OM_URL\"],\n",
    "        #     key_prefix,\n",
    "        #     chat_history_length=30,\n",
    "        #     model=\"text-embedding-3-large\",\n",
    "        # )"
   ]
  },
  {
   "cell_type": "code",
   "execution_count": null,
   "metadata": {},
   "outputs": [],
   "source": []
  }
 ],
 "metadata": {
  "kernelspec": {
   "display_name": "svaeva-evaluation-GkJecWxE-py3.11",
   "language": "python",
   "name": "python3"
  },
  "language_info": {
   "codemirror_mode": {
    "name": "ipython",
    "version": 3
   },
   "file_extension": ".py",
   "mimetype": "text/x-python",
   "name": "python",
   "nbconvert_exporter": "python",
   "pygments_lexer": "ipython3",
   "version": "3.11.4"
  }
 },
 "nbformat": 4,
 "nbformat_minor": 2
}
